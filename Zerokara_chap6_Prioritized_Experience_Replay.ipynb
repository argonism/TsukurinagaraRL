{
  "nbformat": 4,
  "nbformat_minor": 0,
  "metadata": {
    "accelerator": "GPU",
    "colab": {
      "name": "Zerokara-chap6-Prioritized_Experience_Replay.ipynb",
      "provenance": [],
      "collapsed_sections": [],
      "toc_visible": true,
      "authorship_tag": "ABX9TyOJOmoB2OkGXi3Ndx4m/ZIJ",
      "include_colab_link": true
    },
    "kernelspec": {
      "display_name": "Python 3",
      "name": "python3"
    }
  },
  "cells": [
    {
      "cell_type": "markdown",
      "metadata": {
        "id": "view-in-github",
        "colab_type": "text"
      },
      "source": [
        "<a href=\"https://colab.research.google.com/github/argonism/TsukurinagaraRL/blob/master/Zerokara_chap6_Prioritized_Experience_Replay.ipynb\" target=\"_parent\"><img src=\"https://colab.research.google.com/assets/colab-badge.svg\" alt=\"Open In Colab\"/></a>"
      ]
    },
    {
      "cell_type": "markdown",
      "metadata": {
        "id": "gYB9ZL2B_Uqi"
      },
      "source": [
        "# Prioritized Experience Replay\n",
        "\n",
        "Q学習が進んでいないsのtransitionを優先的に学習する\n",
        "\n",
        "## 優先基準\n",
        "ベルマン方程式の絶対値誤差で優先順位をつける\n",
        "$$Q(s_t, a_t) = R_{t+1} + \\gamma Q(s_{t+1}, a_{t+1})$$\n",
        "\n",
        "TD誤差と呼ぶ。（厳密にはTD誤差ではないらしい）\n",
        "$$|[R(t+1) + \\gamma \\times max_a[Q(s(t+1), a)] - Q(s(t), a(t))$$\n",
        "\n",
        "この誤差が大きい（学習が進んでいない）transitionを優先的にExperience Replay時に学習される。\n",
        "\n",
        "メモリクラスと別に、TD誤差を保持するクラスを用意する。\n",
        "\n",
        "学習の際は、TD誤差を確率としてtransitionからミニバッチ数取り出す。\n",
        "0~TD誤差絶対値の総和の範囲で一様分布に従いミニバッチ分だけindexを取り出す。\n",
        "- TD誤差の絶対値が大きさが選ばれやすさになる。\n",
        "(同じtransitionが選ばれることもある?)\n",
        "\n",
        "ただし、TD誤差が小さくなりすぎてtransitionが一切replayされないのを防ぐために、微小値TD_ERROR_EPSILONを足している。\n",
        "\n",
        "\n",
        "\n",
        "\n"
      ]
    },
    {
      "cell_type": "code",
      "metadata": {
        "id": "NN3dNW3vjCT6"
      },
      "source": [
        "# 使用するパッケージのインストール\n",
        "# gym==0.17.2 pyvirtualdisplay==1.3.2\n",
        "# xvfb=2:1.19.6-1ubuntu4.4 python-opengl=3.1.0+dfsg-1 ffmpeg=7:3.4.8-0ubuntu0.2\n",
        "# JSAnimation==0.1\n",
        "!pip install gym pyvirtualdisplay > /dev/null 2>&1\n",
        "!apt-get install -y xvfb python-opengl ffmpeg > /dev/null 2>&1\n",
        "!pip install JSAnimation > /dev/null 2>&1"
      ],
      "execution_count": null,
      "outputs": []
    },
    {
      "cell_type": "code",
      "metadata": {
        "id": "6vYHqeXSeCMp"
      },
      "source": [
        " import numpy as np\n",
        " import matplotlib.pyplot as plt\n",
        " %matplotlib inline\n",
        " import gym\n",
        "from gym.wrappers import Monitor"
      ],
      "execution_count": null,
      "outputs": []
    },
    {
      "cell_type": "code",
      "metadata": {
        "id": "Fm4DcxKAiwzI"
      },
      "source": [
        "# 動画の描画関数の宣言\n",
        "import glob\n",
        "import io\n",
        "import os\n",
        "import base64\n",
        "from JSAnimation.IPython_display import display_animation\n",
        "from matplotlib import animation\n",
        "from IPython import display as ipythondisplay\n",
        "from IPython.display import HTML\n",
        "from pyvirtualdisplay import Display\n",
        "\n",
        "display = Display(visible=0, size=(640, 400))\n",
        "display.start()\n",
        "\n",
        "def show_video():\n",
        "  mp4list = glob.glob('video/*.mp4')\n",
        "  if len(mp4list) > 0:\n",
        "    mp4 = mp4list[0]\n",
        "    video = io.open(mp4, 'r+b').read()\n",
        "    encoded = base64.b64encode(video)\n",
        "    ipythondisplay.display(HTML(data='''<video alt=\"test\" autoplay \n",
        "                loop controls style=\"height: 400px;\">\n",
        "                <source src=\"data:video/mp4;base64,{0}\" type=\"video/mp4\" />\n",
        "             </video>'''.format(encoded.decode('ascii'))))\n",
        "  else: \n",
        "    print(\"Could not find video\")\n",
        "    \n",
        "def reset_video():\n",
        "  mp4list = glob.glob('video/*.mp4')\n",
        "  for mp4 in mp4list:\n",
        "    os.remove(mp4)\n",
        "\n",
        "def wrap_env(env):\n",
        "  env = Monitor(env, './video', force=True, video_callable=(lambda ep: ep % 10 == 0))\n",
        "  reset_video()\n",
        "  return env"
      ],
      "execution_count": null,
      "outputs": []
    },
    {
      "cell_type": "code",
      "metadata": {
        "id": "lYeDd1xczMhU"
      },
      "source": [
        "class ReplayMemory:\n",
        "  def __init__(self, CAPACITY):\n",
        "    self.capacity = CAPACITY\n",
        "    self.memory = []\n",
        "    self.index = 0\n",
        "  \n",
        "  def push(self, state, action, state_next, reward):\n",
        "    if len(self.memory) < self.capacity:\n",
        "      self.memory.append(None)\n",
        "    \n",
        "    self.memory[self.index] = Transition(state, action, state_next, reward)\n",
        "\n",
        "    self.index = (self.index + 1) % self.capacity\n",
        "  \n",
        "  def sample(self, batch_size):\n",
        "    return random.sample(self.memory, batch_size)\n",
        "  \n",
        "  def __len__(self):\n",
        "    return len(self.memory)\n"
      ],
      "execution_count": null,
      "outputs": []
    },
    {
      "cell_type": "code",
      "metadata": {
        "id": "oXlrsrK1OAyE"
      },
      "source": [
        "from torch import nn\n",
        "import torch.nn.functional as F\n",
        "\n",
        "class Net(nn.Module):\n",
        "\n",
        "  def __init__(self, n_in, n_mid, n_out):\n",
        "    super(Net, self).__init__()\n",
        "    self.fc1 = nn.Linear(n_in, n_mid)\n",
        "    self.fc2 = nn.Linear(n_mid, n_mid)\n",
        "    self.fc3 = nn.Linear(n_mid, n_out)\n",
        "  \n",
        "  def forward(self, x):\n",
        "    h1 = F.relu(self.fc1(x))\n",
        "    h2 = F.relu(self.fc2(h1))\n",
        "    output = self.fc3(h2)\n",
        "    return output"
      ],
      "execution_count": null,
      "outputs": []
    },
    {
      "cell_type": "code",
      "metadata": {
        "id": "iNs0J1CUZI-e"
      },
      "source": [
        "TD_ERROR_EPSILON = 0.0001\n",
        "\n",
        "class TDerrorMemory:\n",
        "  def __init__(self, CAPACITY):\n",
        "    self.capacity = CAPACITY\n",
        "    self.memory = []\n",
        "    self.index = 0\n",
        "\n",
        "  def push(self, td_error):\n",
        "\n",
        "    # この処理いる？\n",
        "    if len(self.memory) < self.capacity:\n",
        "      self.memory.append(None)\n",
        "\n",
        "    self.memory[self.index] = td_error\n",
        "    self.index = (self.index + 1) % self.capacity\n",
        "\n",
        "  def __len__(self):\n",
        "    return len(self.memory)\n",
        "  \n",
        "  def get_prioritized_indexes(self, batch_size):\n",
        "    # TD誤差の総和を計算して、\n",
        "    sum_absolute_td_error = np.sum(np.absolute(self.memory))\n",
        "    sum_absolute_td_error += TD_ERROR_EPSILON * len(self.memory)\n",
        "\n",
        "    # 0 ~ (TD誤差絶対値の総和)の範囲で、乱数をbatch_size個生成する。\n",
        "    rand_list = np.random.uniform(0, sum_absolute_td_error, batch_size)\n",
        "    rand_list = np.sort(rand_list)\n",
        "\n",
        "    # 上の乱数を使って使うtransitionのindexを決めるわけだが、\n",
        "    # 上の乱数は0 ~ TD誤差総和の範囲。\n",
        "    # TD誤差をindex[0]から足して行って、その足して行った誤差が乱数を超えた時点のTD誤差に対応するindexを採用する。\n",
        "    # これによってTD誤差が大きいほど採用される確率が高くなる。（そのTD誤差が採用されやすい -> TD誤差がより広い範囲をもつ -> TD誤差がより大きい)\n",
        "    indexes = []\n",
        "    idx = 0\n",
        "    tmp_sum_absolute_td_error = 0\n",
        "    for rand_num in rand_list:\n",
        "      while tmp_sum_absolute_td_error < rand_num:\n",
        "        tmp_sum_absolute_td_error += (\n",
        "            abs(self.memory[idx]) + TD_ERROR_EPSILON\n",
        "        )\n",
        "        idx += 1\n",
        "      if idx >= len(self.memory):\n",
        "        idx = len(self.memory) - 1\n",
        "      indexes.append(idx)\n",
        "\n",
        "    return indexes\n",
        "\n",
        "  def update_td_error(self, update_td_errors):\n",
        "    self.memory = update_td_errors\n",
        "  \n"
      ],
      "execution_count": null,
      "outputs": []
    },
    {
      "cell_type": "code",
      "metadata": {
        "id": "1z5iOh4JfoZW"
      },
      "source": [
        "import random\n",
        "import torch\n",
        "from torch import nn\n",
        "from torch import optim\n",
        "import torch.nn.functional as F\n",
        "\n",
        "BATCH_SIZE = 32\n",
        "CAPACITY = 10000\n",
        "\n",
        "class Brain:\n",
        "  def __init__(self, num_states, num_actions):\n",
        "    self.num_actions = num_actions\n",
        "\n",
        "    self.memory = ReplayMemory(CAPACITY)\n",
        "    \n",
        "    n_in, n_mid, n_out = num_states, 32, num_actions\n",
        "    self.main_q_network = Net(n_in, n_mid, n_out)\n",
        "    self.target_q_network = Net(n_in, n_mid, n_out)\n",
        "    print(self.main_q_network)\n",
        "\n",
        "    self.optimizer = optim.Adam(self.main_q_network.parameters(), lr=0.0001)\n",
        "\n",
        "    self.td_error_memory = TDerrorMemory(CAPACITY)\n",
        "\n",
        "  def replay(self, episode):\n",
        "    '''保存した行動や結果、状態から結合パラメータを学習する'''\n",
        "\n",
        "    if len(self.memory) < BATCH_SIZE:\n",
        "      return\n",
        "    \n",
        "    # ミニバッチの作成\n",
        "    self.batch, self.state_batch, self.action_batch, self.reward_batch, self.non_final_next_states = self.make_minibatch(episode)\n",
        "\n",
        "    # 教師信号となるQ(s_t, a_t)を求める\n",
        "    self.expected_state_action_values = self.get_expected_state_action_values()\n",
        "\n",
        "    # 訓練\n",
        "    self.update_main_q_network()\n",
        "\n",
        "  def decide_action(self, state, episode):\n",
        "    epsilon = 0.5 * (1 / (episode + 1))\n",
        "\n",
        "    if epsilon <= np.random.uniform(0, 1):\n",
        "      self.main_q_network.eval()\n",
        "      with torch.no_grad():\n",
        "        action = self.main_q_network(state).max(1)[1].view(1, 1)\n",
        "        # view(1, 1)は、[torch.LongTensor of size 1]をsize 1x1にするらしい。逆にsize 1x1って何。\n",
        "\n",
        "    else:\n",
        "      action = torch.LongTensor([[random.randrange(self.num_actions)]])\n",
        "    \n",
        "    return action\n",
        "\n",
        "  def make_minibatch(self, episode):\n",
        "    if episode < 30:\n",
        "      transitions = self.memory.sample(BATCH_SIZE)\n",
        "    else:\n",
        "      indexes = self.td_error_memory.get_prioritized_indexes(BATCH_SIZE)\n",
        "      transitions = [self.memory.memory[n] for n in indexes]\n",
        "    \n",
        "    batch = Transition(*zip(*transitions))\n",
        "    state_batch = torch.cat(batch.state)\n",
        "    action_batch = torch.cat(batch.action)\n",
        "    reward_batch = torch.cat(batch.reward)\n",
        "    non_final_next_states = torch.cat([s for s in batch.next_state if s is not None])\n",
        "\n",
        "    return batch, state_batch, action_batch, reward_batch, non_final_next_states\n",
        "  \n",
        "  def get_expected_state_action_values(self):\n",
        "    self.main_q_network.eval()\n",
        "    self.target_q_network.eval()\n",
        "    # self.model(state_batch) でbatch_size*2のテンソル(actionのQ値)が出る。\n",
        "    # action_batchはbatch_size*(0, 1)のようになっている。\n",
        "    # その後実行したactionの方のQ値を取り出すために、gatherを使っている。\n",
        "    self.state_action_values = self.main_q_network(self.state_batch).gather(1, self.action_batch)\n",
        "\n",
        "    # 次の状態(next_state)があるかどうかに注意しながら取り出し、max{Q(s_t+1, a)}を求める\n",
        "    # ここではインデックスマスクを作る。...?\n",
        "    # インデックスにByteTensor入れると、ByteTensorでTrueになってる要素を取り出して、そのそれぞれに対して代入を行えるっぽい。\n",
        "    non_final_mask = torch.ByteTensor(tuple(map(lambda s: s is not None, self.batch.next_state)))\n",
        "\n",
        "    next_state_values = torch.zeros(BATCH_SIZE)\n",
        "\n",
        "    a_m = torch.zeros(BATCH_SIZE).type(torch.LongTensor)\n",
        "\n",
        "    a_m[non_final_mask] = self.main_q_network(self.non_final_next_states).detach().max(1)[1]\n",
        "\n",
        "    a_m_non_final_next_states = a_m[non_final_mask].view(-1, 1)\n",
        "\n",
        "    # 次の状態をモデルに入力して、次の行動のQ値が大きいものを取り出す。\n",
        "    # それをnext_state_valuesの対応するインデックスに代入していく。\n",
        "    # 後々微分されないために（固定するために）detach()をする。くわしくはわからん。\n",
        "    # 現在の状態についてのQ値は更新対象であるから、detachしないっぽい。\n",
        "    next_state_values[non_final_mask] = self.target_q_network(self.non_final_next_states).gather(1, a_m_non_final_next_states).detach().squeeze()\n",
        "\n",
        "    # 教師となるQ値を求める。説明で書いた式の右辺。\n",
        "    expected_state_action_values = self.reward_batch + GAMMA * next_state_values\n",
        "\n",
        "    return expected_state_action_values\n",
        "\n",
        "  def update_main_q_network(self):\n",
        "    self.main_q_network.train()\n",
        "\n",
        "    # smooth_l1_lossはHuber関数\n",
        "    # expected_state_action_valuesはsize: バッチサイズとなっているので、これをunsqueezeで(バッチサイズ*1)にする。...?\n",
        "    loss = F.smooth_l1_loss(self.state_action_values, self.expected_state_action_values.unsqueeze (1))\n",
        "    \n",
        "    self.optimizer.zero_grad()\n",
        "    loss.backward()\n",
        "    self.optimizer.step()\n",
        "\n",
        "  def update_target_q_network(self):\n",
        "    self.target_q_network.load_state_dict(self.main_q_network.state_dict())\n",
        "  \n",
        "  def update_td_error_memory(self):\n",
        "    ''' TD誤差の更新 '''\n",
        "    self.main_q_network.eval()\n",
        "    self.target_q_network.eval()\n",
        "\n",
        "    transitions = self.memory.memory\n",
        "    batch = Transition(*zip(*transitions))\n",
        "\n",
        "    state_batch = torch.cat(batch.state)\n",
        "    action_batch = torch.cat(batch.action)\n",
        "    reward_batch = torch.cat(batch.reward)\n",
        "    non_final_next_states = torch.cat([s for s in batch.next_state if s is not None])\n",
        "\n",
        "    state_action_values = self.main_q_network(state_batch).gather(1, action_batch)\n",
        "\n",
        "    non_final_mask = torch.ByteTensor(tuple(map(lambda s: s is not None, batch.next_state)))\n",
        "\n",
        "    next_state_values = torch.zeros(len(self.memory))\n",
        "    a_m = torch.zeros(len(self.memory)).type(torch.LongTensor)\n",
        "\n",
        "    a_m[non_final_mask] = self.main_q_network(non_final_next_states).detach().max(1)[1]\n",
        "\n",
        "    # 次の状態があるものだけに絞り、32を32x1にする。\n",
        "    a_m_non_final_next_states = a_m[non_final_mask].view(-1, 1)\n",
        "\n",
        "    # それをnext_state_valuesの対応するインデックスに代入していく。\n",
        "    # 次の状態をモデルに入力して、次の行動のQ値が大きいものを取り出す。\n",
        "    # 後々微分されないために（固定するために）detach()をする。くわしくはわからん。\n",
        "    # 現在の状態についてのQ値は更新対象であるから、detachしないっぽい。\n",
        "    next_state_values[non_final_mask] = self.target_q_network(non_final_next_states).gather(1, a_m_non_final_next_states).detach().squeeze()\n",
        "    td_errors = (reward_batch + GAMMA * next_state_values) - state_action_values.squeeze()\n",
        "\n",
        "    self.td_error_memory.memory = td_errors.detach().numpy().tolist()\n"
      ],
      "execution_count": null,
      "outputs": []
    },
    {
      "cell_type": "code",
      "metadata": {
        "id": "yf_k858ZTMTG"
      },
      "source": [
        "class Agent:\n",
        "  def __init__(self, num_states, num_actions):\n",
        "    self.brain = Brain(num_states, num_actions)\n",
        "  \n",
        "  def update_q_function(self, episode):\n",
        "    self.brain.replay(episode)\n",
        "  \n",
        "  def get_action(self, state, episode):\n",
        "    action = self.brain.decide_action(state, episode)\n",
        "    return action\n",
        "\n",
        "  def memorize(self, state, action, state_next, reward):\n",
        "    self.brain.memory.push(state, action, state_next, reward)\n",
        "\n",
        "  def update_target_q_function(self):\n",
        "    self.brain.update_target_q_network()\n",
        "  \n",
        "  def memorize_td_error(self, td_error):\n",
        "    self.brain.td_error_memory.push(td_error)\n",
        "  \n",
        "  def update_td_error_memory(self):\n",
        "    self.brain.update_td_error_memory()\n"
      ],
      "execution_count": null,
      "outputs": []
    },
    {
      "cell_type": "code",
      "metadata": {
        "id": "-KaIgEuTTvCc"
      },
      "source": [
        "class Environment:\n",
        "  def __init__(self):\n",
        "    self.env = wrap_env(gym.make(ENV))\n",
        "    self.num_states = self.env.observation_space.shape[0]\n",
        "    self.num_actions = self.env.action_space.n\n",
        "\n",
        "    self.agent = Agent(self.num_states, self.num_actions)\n",
        "  \n",
        "  def run(self):\n",
        "    # 10回ごとに立ち続けたepisodeの平均を取る\n",
        "    episode_10_list = np.zeros(10)\n",
        "    # 連続成功記録\n",
        "    complete_episodes = 0\n",
        "    episode_final = False\n",
        "\n",
        "    for episode in range(NUM_EPISODES):\n",
        "      observation = self.env.reset()\n",
        "\n",
        "      state = observation\n",
        "      state = torch.from_numpy(state).type(torch.FloatTensor)\n",
        "      state = torch.unsqueeze(state, 0)\n",
        "\n",
        "      for step in range(MAX_STEPS):\n",
        "        \n",
        "        action = self.agent.get_action(state, episode)\n",
        "\n",
        "        observation_next, _, done, _ = self.env.step(action.item())\n",
        "\n",
        "        if done:\n",
        "          state_next = None\n",
        "          episode_10_list = np.hstack((episode_10_list[1:], step + 1))\n",
        "\n",
        "          if step < 195:\n",
        "            reward = torch.FloatTensor([-1.0])\n",
        "            complete_episodes = 0\n",
        "          else:\n",
        "            reward = torch.FloatTensor([1.0])\n",
        "            complete_episodes += 1\n",
        "        else:\n",
        "          reward = torch.FloatTensor([0.0])\n",
        "          state_next = observation_next\n",
        "          state_next = torch.from_numpy(state_next).type(torch.FloatTensor)\n",
        "          state_next = torch.unsqueeze(state_next, 0)\n",
        "        \n",
        "        self.agent.memorize(state, action, state_next, reward)\n",
        "\n",
        "        self.agent.memorize_td_error(0)\n",
        "\n",
        "        self.agent.update_q_function(episode)\n",
        "\n",
        "        state = state_next\n",
        "\n",
        "        if done:\n",
        "          print(f'{episode} Episode: Finished after {step + 1} time steps: 10思考の平均step数 = {episode_10_list.mean()}')\n",
        "\n",
        "          if episode % 2 == 0:\n",
        "            self.agent.update_target_q_function()\n",
        "          break\n",
        "        \n",
        "      if episode_final is True:\n",
        "        show_video()\n",
        "        break\n",
        "      \n",
        "      if complete_episodes >= 10:\n",
        "        print('10回連続成功')\n",
        "        episode_final = True\n"
      ],
      "execution_count": null,
      "outputs": []
    },
    {
      "cell_type": "code",
      "metadata": {
        "colab": {
          "base_uri": "https://localhost:8080/"
        },
        "id": "DjaD9q5hy0nr",
        "outputId": "fd9f741e-99f3-4c6a-d014-0f5b0f8b9e5a"
      },
      "source": [
        "from collections import namedtuple\n",
        "Tr = namedtuple('tr', ('name_a', 'value_b'))\n",
        "Tr_object = Tr('名前Aです', 100)\n",
        "print(Tr_object)\n",
        "print(Tr_object.value_b)\n",
        "Transition = namedtuple('Transition', ('state', 'action', 'next_state', 'reward'))\n",
        "\n",
        "\n",
        "ENV = 'CartPole-v0'\n",
        "GAMMA = 0.99\n",
        "MAX_STEPS = 200\n",
        "NUM_EPISODES = 500"
      ],
      "execution_count": null,
      "outputs": [
        {
          "output_type": "stream",
          "text": [
            "tr(name_a='名前Aです', value_b=100)\n",
            "100\n"
          ],
          "name": "stdout"
        }
      ]
    },
    {
      "cell_type": "code",
      "metadata": {
        "colab": {
          "background_save": true,
          "base_uri": "https://localhost:8080/"
        },
        "id": "OFdEx_9hUVmh",
        "outputId": "230647f1-d789-49d6-99c2-82c053d37fe2"
      },
      "source": [
        "cartpole_env = Environment()\n",
        "cartpole_env.run()"
      ],
      "execution_count": null,
      "outputs": [
        {
          "output_type": "stream",
          "text": [
            "Net(\n",
            "  (fc1): Linear(in_features=4, out_features=32, bias=True)\n",
            "  (fc2): Linear(in_features=32, out_features=32, bias=True)\n",
            "  (fc3): Linear(in_features=32, out_features=2, bias=True)\n",
            ")\n",
            "0 Episode: Finished after 18 time steps: 10思考の平均step数 = 1.8\n",
            "1 Episode: Finished after 11 time steps: 10思考の平均step数 = 2.9\n",
            "2 Episode: Finished after 14 time steps: 10思考の平均step数 = 4.3\n"
          ],
          "name": "stdout"
        },
        {
          "output_type": "stream",
          "text": [
            "/usr/local/lib/python3.6/dist-packages/ipykernel_launcher.py:86: UserWarning: indexing with dtype torch.uint8 is now deprecated, please use a dtype torch.bool instead. (Triggered internally at  /pytorch/aten/src/ATen/native/IndexingUtils.h:25.)\n",
            "/usr/local/lib/python3.6/dist-packages/ipykernel_launcher.py:88: UserWarning: indexing with dtype torch.uint8 is now deprecated, please use a dtype torch.bool instead. (Triggered internally at  /pytorch/aten/src/ATen/native/IndexingUtils.h:25.)\n",
            "/usr/local/lib/python3.6/dist-packages/ipykernel_launcher.py:94: UserWarning: indexing with dtype torch.uint8 is now deprecated, please use a dtype torch.bool instead. (Triggered internally at  /pytorch/aten/src/ATen/native/IndexingUtils.h:25.)\n"
          ],
          "name": "stderr"
        },
        {
          "output_type": "stream",
          "text": [
            "3 Episode: Finished after 13 time steps: 10思考の平均step数 = 5.6\n",
            "4 Episode: Finished after 20 time steps: 10思考の平均step数 = 7.6\n",
            "5 Episode: Finished after 17 time steps: 10思考の平均step数 = 9.3\n",
            "6 Episode: Finished after 22 time steps: 10思考の平均step数 = 11.5\n",
            "7 Episode: Finished after 18 time steps: 10思考の平均step数 = 13.3\n",
            "8 Episode: Finished after 15 time steps: 10思考の平均step数 = 14.8\n",
            "9 Episode: Finished after 15 time steps: 10思考の平均step数 = 16.3\n"
          ],
          "name": "stdout"
        },
        {
          "output_type": "stream",
          "text": [
            "/usr/local/lib/python3.6/dist-packages/ipykernel_launcher.py:86: UserWarning: indexing with dtype torch.uint8 is now deprecated, please use a dtype torch.bool instead. (Triggered internally at  /pytorch/aten/src/ATen/native/IndexingUtils.h:25.)\n",
            "/usr/local/lib/python3.6/dist-packages/ipykernel_launcher.py:88: UserWarning: indexing with dtype torch.uint8 is now deprecated, please use a dtype torch.bool instead. (Triggered internally at  /pytorch/aten/src/ATen/native/IndexingUtils.h:25.)\n",
            "/usr/local/lib/python3.6/dist-packages/ipykernel_launcher.py:94: UserWarning: indexing with dtype torch.uint8 is now deprecated, please use a dtype torch.bool instead. (Triggered internally at  /pytorch/aten/src/ATen/native/IndexingUtils.h:25.)\n"
          ],
          "name": "stderr"
        },
        {
          "output_type": "stream",
          "text": [
            "10 Episode: Finished after 22 time steps: 10思考の平均step数 = 16.7\n",
            "11 Episode: Finished after 39 time steps: 10思考の平均step数 = 19.5\n",
            "12 Episode: Finished after 24 time steps: 10思考の平均step数 = 20.5\n",
            "13 Episode: Finished after 21 time steps: 10思考の平均step数 = 21.3\n",
            "14 Episode: Finished after 88 time steps: 10思考の平均step数 = 28.1\n",
            "15 Episode: Finished after 9 time steps: 10思考の平均step数 = 27.3\n",
            "16 Episode: Finished after 13 time steps: 10思考の平均step数 = 26.4\n",
            "17 Episode: Finished after 25 time steps: 10思考の平均step数 = 27.1\n",
            "18 Episode: Finished after 22 time steps: 10思考の平均step数 = 27.8\n",
            "19 Episode: Finished after 9 time steps: 10思考の平均step数 = 27.2\n"
          ],
          "name": "stdout"
        },
        {
          "output_type": "stream",
          "text": [
            "/usr/local/lib/python3.6/dist-packages/ipykernel_launcher.py:86: UserWarning: indexing with dtype torch.uint8 is now deprecated, please use a dtype torch.bool instead. (Triggered internally at  /pytorch/aten/src/ATen/native/IndexingUtils.h:25.)\n",
            "/usr/local/lib/python3.6/dist-packages/ipykernel_launcher.py:88: UserWarning: indexing with dtype torch.uint8 is now deprecated, please use a dtype torch.bool instead. (Triggered internally at  /pytorch/aten/src/ATen/native/IndexingUtils.h:25.)\n",
            "/usr/local/lib/python3.6/dist-packages/ipykernel_launcher.py:94: UserWarning: indexing with dtype torch.uint8 is now deprecated, please use a dtype torch.bool instead. (Triggered internally at  /pytorch/aten/src/ATen/native/IndexingUtils.h:25.)\n"
          ],
          "name": "stderr"
        },
        {
          "output_type": "stream",
          "text": [
            "20 Episode: Finished after 10 time steps: 10思考の平均step数 = 26.0\n",
            "21 Episode: Finished after 8 time steps: 10思考の平均step数 = 22.9\n",
            "22 Episode: Finished after 10 time steps: 10思考の平均step数 = 21.5\n",
            "23 Episode: Finished after 10 time steps: 10思考の平均step数 = 20.4\n",
            "24 Episode: Finished after 34 time steps: 10思考の平均step数 = 15.0\n",
            "25 Episode: Finished after 31 time steps: 10思考の平均step数 = 17.2\n",
            "26 Episode: Finished after 29 time steps: 10思考の平均step数 = 18.8\n",
            "27 Episode: Finished after 19 time steps: 10思考の平均step数 = 18.2\n",
            "28 Episode: Finished after 48 time steps: 10思考の平均step数 = 20.8\n",
            "29 Episode: Finished after 38 time steps: 10思考の平均step数 = 23.7\n"
          ],
          "name": "stdout"
        },
        {
          "output_type": "stream",
          "text": [
            "/usr/local/lib/python3.6/dist-packages/ipykernel_launcher.py:86: UserWarning: indexing with dtype torch.uint8 is now deprecated, please use a dtype torch.bool instead. (Triggered internally at  /pytorch/aten/src/ATen/native/IndexingUtils.h:25.)\n",
            "/usr/local/lib/python3.6/dist-packages/ipykernel_launcher.py:88: UserWarning: indexing with dtype torch.uint8 is now deprecated, please use a dtype torch.bool instead. (Triggered internally at  /pytorch/aten/src/ATen/native/IndexingUtils.h:25.)\n",
            "/usr/local/lib/python3.6/dist-packages/ipykernel_launcher.py:94: UserWarning: indexing with dtype torch.uint8 is now deprecated, please use a dtype torch.bool instead. (Triggered internally at  /pytorch/aten/src/ATen/native/IndexingUtils.h:25.)\n"
          ],
          "name": "stderr"
        },
        {
          "output_type": "stream",
          "text": [
            "30 Episode: Finished after 64 time steps: 10思考の平均step数 = 29.1\n",
            "31 Episode: Finished after 25 time steps: 10思考の平均step数 = 30.8\n",
            "32 Episode: Finished after 49 time steps: 10思考の平均step数 = 34.7\n",
            "33 Episode: Finished after 27 time steps: 10思考の平均step数 = 36.4\n",
            "34 Episode: Finished after 89 time steps: 10思考の平均step数 = 41.9\n",
            "35 Episode: Finished after 27 time steps: 10思考の平均step数 = 41.5\n",
            "36 Episode: Finished after 20 time steps: 10思考の平均step数 = 40.6\n",
            "37 Episode: Finished after 22 time steps: 10思考の平均step数 = 40.9\n",
            "38 Episode: Finished after 23 time steps: 10思考の平均step数 = 38.4\n",
            "39 Episode: Finished after 20 time steps: 10思考の平均step数 = 36.6\n"
          ],
          "name": "stdout"
        },
        {
          "output_type": "stream",
          "text": [
            "/usr/local/lib/python3.6/dist-packages/ipykernel_launcher.py:86: UserWarning: indexing with dtype torch.uint8 is now deprecated, please use a dtype torch.bool instead. (Triggered internally at  /pytorch/aten/src/ATen/native/IndexingUtils.h:25.)\n",
            "/usr/local/lib/python3.6/dist-packages/ipykernel_launcher.py:88: UserWarning: indexing with dtype torch.uint8 is now deprecated, please use a dtype torch.bool instead. (Triggered internally at  /pytorch/aten/src/ATen/native/IndexingUtils.h:25.)\n",
            "/usr/local/lib/python3.6/dist-packages/ipykernel_launcher.py:94: UserWarning: indexing with dtype torch.uint8 is now deprecated, please use a dtype torch.bool instead. (Triggered internally at  /pytorch/aten/src/ATen/native/IndexingUtils.h:25.)\n"
          ],
          "name": "stderr"
        },
        {
          "output_type": "stream",
          "text": [
            "40 Episode: Finished after 31 time steps: 10思考の平均step数 = 33.3\n",
            "41 Episode: Finished after 30 time steps: 10思考の平均step数 = 33.8\n",
            "42 Episode: Finished after 29 time steps: 10思考の平均step数 = 31.8\n",
            "43 Episode: Finished after 40 time steps: 10思考の平均step数 = 33.1\n",
            "44 Episode: Finished after 29 time steps: 10思考の平均step数 = 27.1\n",
            "45 Episode: Finished after 31 time steps: 10思考の平均step数 = 27.5\n",
            "46 Episode: Finished after 25 time steps: 10思考の平均step数 = 28.0\n",
            "47 Episode: Finished after 48 time steps: 10思考の平均step数 = 30.6\n",
            "48 Episode: Finished after 26 time steps: 10思考の平均step数 = 30.9\n",
            "49 Episode: Finished after 60 time steps: 10思考の平均step数 = 34.9\n"
          ],
          "name": "stdout"
        },
        {
          "output_type": "stream",
          "text": [
            "/usr/local/lib/python3.6/dist-packages/ipykernel_launcher.py:86: UserWarning: indexing with dtype torch.uint8 is now deprecated, please use a dtype torch.bool instead. (Triggered internally at  /pytorch/aten/src/ATen/native/IndexingUtils.h:25.)\n",
            "/usr/local/lib/python3.6/dist-packages/ipykernel_launcher.py:88: UserWarning: indexing with dtype torch.uint8 is now deprecated, please use a dtype torch.bool instead. (Triggered internally at  /pytorch/aten/src/ATen/native/IndexingUtils.h:25.)\n",
            "/usr/local/lib/python3.6/dist-packages/ipykernel_launcher.py:94: UserWarning: indexing with dtype torch.uint8 is now deprecated, please use a dtype torch.bool instead. (Triggered internally at  /pytorch/aten/src/ATen/native/IndexingUtils.h:25.)\n"
          ],
          "name": "stderr"
        },
        {
          "output_type": "stream",
          "text": [
            "50 Episode: Finished after 64 time steps: 10思考の平均step数 = 38.2\n",
            "51 Episode: Finished after 57 time steps: 10思考の平均step数 = 40.9\n",
            "52 Episode: Finished after 60 time steps: 10思考の平均step数 = 44.0\n",
            "53 Episode: Finished after 57 time steps: 10思考の平均step数 = 45.7\n",
            "54 Episode: Finished after 33 time steps: 10思考の平均step数 = 46.1\n",
            "55 Episode: Finished after 48 time steps: 10思考の平均step数 = 47.8\n",
            "56 Episode: Finished after 24 time steps: 10思考の平均step数 = 47.7\n",
            "57 Episode: Finished after 36 time steps: 10思考の平均step数 = 46.5\n",
            "58 Episode: Finished after 62 time steps: 10思考の平均step数 = 50.1\n",
            "59 Episode: Finished after 31 time steps: 10思考の平均step数 = 47.2\n"
          ],
          "name": "stdout"
        },
        {
          "output_type": "stream",
          "text": [
            "/usr/local/lib/python3.6/dist-packages/ipykernel_launcher.py:86: UserWarning: indexing with dtype torch.uint8 is now deprecated, please use a dtype torch.bool instead. (Triggered internally at  /pytorch/aten/src/ATen/native/IndexingUtils.h:25.)\n",
            "/usr/local/lib/python3.6/dist-packages/ipykernel_launcher.py:88: UserWarning: indexing with dtype torch.uint8 is now deprecated, please use a dtype torch.bool instead. (Triggered internally at  /pytorch/aten/src/ATen/native/IndexingUtils.h:25.)\n",
            "/usr/local/lib/python3.6/dist-packages/ipykernel_launcher.py:94: UserWarning: indexing with dtype torch.uint8 is now deprecated, please use a dtype torch.bool instead. (Triggered internally at  /pytorch/aten/src/ATen/native/IndexingUtils.h:25.)\n"
          ],
          "name": "stderr"
        },
        {
          "output_type": "stream",
          "text": [
            "60 Episode: Finished after 66 time steps: 10思考の平均step数 = 47.4\n",
            "61 Episode: Finished after 33 time steps: 10思考の平均step数 = 45.0\n",
            "62 Episode: Finished after 38 time steps: 10思考の平均step数 = 42.8\n",
            "63 Episode: Finished after 99 time steps: 10思考の平均step数 = 47.0\n",
            "64 Episode: Finished after 34 time steps: 10思考の平均step数 = 47.1\n",
            "65 Episode: Finished after 44 time steps: 10思考の平均step数 = 46.7\n",
            "66 Episode: Finished after 50 time steps: 10思考の平均step数 = 49.3\n",
            "67 Episode: Finished after 49 time steps: 10思考の平均step数 = 50.6\n",
            "68 Episode: Finished after 31 time steps: 10思考の平均step数 = 47.5\n",
            "69 Episode: Finished after 122 time steps: 10思考の平均step数 = 56.6\n"
          ],
          "name": "stdout"
        },
        {
          "output_type": "stream",
          "text": [
            "/usr/local/lib/python3.6/dist-packages/ipykernel_launcher.py:86: UserWarning: indexing with dtype torch.uint8 is now deprecated, please use a dtype torch.bool instead. (Triggered internally at  /pytorch/aten/src/ATen/native/IndexingUtils.h:25.)\n",
            "/usr/local/lib/python3.6/dist-packages/ipykernel_launcher.py:88: UserWarning: indexing with dtype torch.uint8 is now deprecated, please use a dtype torch.bool instead. (Triggered internally at  /pytorch/aten/src/ATen/native/IndexingUtils.h:25.)\n",
            "/usr/local/lib/python3.6/dist-packages/ipykernel_launcher.py:94: UserWarning: indexing with dtype torch.uint8 is now deprecated, please use a dtype torch.bool instead. (Triggered internally at  /pytorch/aten/src/ATen/native/IndexingUtils.h:25.)\n"
          ],
          "name": "stderr"
        },
        {
          "output_type": "stream",
          "text": [
            "70 Episode: Finished after 35 time steps: 10思考の平均step数 = 53.5\n",
            "71 Episode: Finished after 87 time steps: 10思考の平均step数 = 58.9\n",
            "72 Episode: Finished after 57 time steps: 10思考の平均step数 = 60.8\n",
            "73 Episode: Finished after 56 time steps: 10思考の平均step数 = 56.5\n",
            "74 Episode: Finished after 47 time steps: 10思考の平均step数 = 57.8\n",
            "75 Episode: Finished after 61 time steps: 10思考の平均step数 = 59.5\n",
            "76 Episode: Finished after 200 time steps: 10思考の平均step数 = 74.5\n",
            "77 Episode: Finished after 37 time steps: 10思考の平均step数 = 73.3\n",
            "78 Episode: Finished after 63 time steps: 10思考の平均step数 = 76.5\n",
            "79 Episode: Finished after 39 time steps: 10思考の平均step数 = 68.2\n"
          ],
          "name": "stdout"
        },
        {
          "output_type": "stream",
          "text": [
            "/usr/local/lib/python3.6/dist-packages/ipykernel_launcher.py:86: UserWarning: indexing with dtype torch.uint8 is now deprecated, please use a dtype torch.bool instead. (Triggered internally at  /pytorch/aten/src/ATen/native/IndexingUtils.h:25.)\n",
            "/usr/local/lib/python3.6/dist-packages/ipykernel_launcher.py:88: UserWarning: indexing with dtype torch.uint8 is now deprecated, please use a dtype torch.bool instead. (Triggered internally at  /pytorch/aten/src/ATen/native/IndexingUtils.h:25.)\n",
            "/usr/local/lib/python3.6/dist-packages/ipykernel_launcher.py:94: UserWarning: indexing with dtype torch.uint8 is now deprecated, please use a dtype torch.bool instead. (Triggered internally at  /pytorch/aten/src/ATen/native/IndexingUtils.h:25.)\n"
          ],
          "name": "stderr"
        },
        {
          "output_type": "stream",
          "text": [
            "80 Episode: Finished after 84 time steps: 10思考の平均step数 = 73.1\n",
            "81 Episode: Finished after 53 time steps: 10思考の平均step数 = 69.7\n",
            "82 Episode: Finished after 66 time steps: 10思考の平均step数 = 70.6\n",
            "83 Episode: Finished after 82 time steps: 10思考の平均step数 = 73.2\n",
            "84 Episode: Finished after 63 time steps: 10思考の平均step数 = 74.8\n",
            "85 Episode: Finished after 38 time steps: 10思考の平均step数 = 72.5\n",
            "86 Episode: Finished after 54 time steps: 10思考の平均step数 = 57.9\n",
            "87 Episode: Finished after 68 time steps: 10思考の平均step数 = 61.0\n",
            "88 Episode: Finished after 96 time steps: 10思考の平均step数 = 64.3\n",
            "89 Episode: Finished after 56 time steps: 10思考の平均step数 = 66.0\n"
          ],
          "name": "stdout"
        },
        {
          "output_type": "stream",
          "text": [
            "/usr/local/lib/python3.6/dist-packages/ipykernel_launcher.py:86: UserWarning: indexing with dtype torch.uint8 is now deprecated, please use a dtype torch.bool instead. (Triggered internally at  /pytorch/aten/src/ATen/native/IndexingUtils.h:25.)\n",
            "/usr/local/lib/python3.6/dist-packages/ipykernel_launcher.py:88: UserWarning: indexing with dtype torch.uint8 is now deprecated, please use a dtype torch.bool instead. (Triggered internally at  /pytorch/aten/src/ATen/native/IndexingUtils.h:25.)\n",
            "/usr/local/lib/python3.6/dist-packages/ipykernel_launcher.py:94: UserWarning: indexing with dtype torch.uint8 is now deprecated, please use a dtype torch.bool instead. (Triggered internally at  /pytorch/aten/src/ATen/native/IndexingUtils.h:25.)\n"
          ],
          "name": "stderr"
        },
        {
          "output_type": "stream",
          "text": [
            "90 Episode: Finished after 66 time steps: 10思考の平均step数 = 64.2\n",
            "91 Episode: Finished after 51 time steps: 10思考の平均step数 = 64.0\n",
            "92 Episode: Finished after 54 time steps: 10思考の平均step数 = 62.8\n",
            "93 Episode: Finished after 61 time steps: 10思考の平均step数 = 60.7\n",
            "94 Episode: Finished after 63 time steps: 10思考の平均step数 = 60.7\n",
            "95 Episode: Finished after 58 time steps: 10思考の平均step数 = 62.7\n",
            "96 Episode: Finished after 57 time steps: 10思考の平均step数 = 63.0\n",
            "97 Episode: Finished after 38 time steps: 10思考の平均step数 = 60.0\n",
            "98 Episode: Finished after 52 time steps: 10思考の平均step数 = 55.6\n",
            "99 Episode: Finished after 42 time steps: 10思考の平均step数 = 54.2\n"
          ],
          "name": "stdout"
        },
        {
          "output_type": "stream",
          "text": [
            "/usr/local/lib/python3.6/dist-packages/ipykernel_launcher.py:86: UserWarning: indexing with dtype torch.uint8 is now deprecated, please use a dtype torch.bool instead. (Triggered internally at  /pytorch/aten/src/ATen/native/IndexingUtils.h:25.)\n",
            "/usr/local/lib/python3.6/dist-packages/ipykernel_launcher.py:88: UserWarning: indexing with dtype torch.uint8 is now deprecated, please use a dtype torch.bool instead. (Triggered internally at  /pytorch/aten/src/ATen/native/IndexingUtils.h:25.)\n",
            "/usr/local/lib/python3.6/dist-packages/ipykernel_launcher.py:94: UserWarning: indexing with dtype torch.uint8 is now deprecated, please use a dtype torch.bool instead. (Triggered internally at  /pytorch/aten/src/ATen/native/IndexingUtils.h:25.)\n"
          ],
          "name": "stderr"
        },
        {
          "output_type": "stream",
          "text": [
            "100 Episode: Finished after 40 time steps: 10思考の平均step数 = 51.6\n",
            "101 Episode: Finished after 57 time steps: 10思考の平均step数 = 52.2\n",
            "102 Episode: Finished after 43 time steps: 10思考の平均step数 = 51.1\n",
            "103 Episode: Finished after 200 time steps: 10思考の平均step数 = 65.0\n",
            "104 Episode: Finished after 61 time steps: 10思考の平均step数 = 64.8\n",
            "105 Episode: Finished after 57 time steps: 10思考の平均step数 = 64.7\n",
            "106 Episode: Finished after 159 time steps: 10思考の平均step数 = 74.9\n",
            "107 Episode: Finished after 73 time steps: 10思考の平均step数 = 78.4\n",
            "108 Episode: Finished after 154 time steps: 10思考の平均step数 = 88.6\n",
            "109 Episode: Finished after 162 time steps: 10思考の平均step数 = 100.6\n"
          ],
          "name": "stdout"
        },
        {
          "output_type": "stream",
          "text": [
            "/usr/local/lib/python3.6/dist-packages/ipykernel_launcher.py:86: UserWarning: indexing with dtype torch.uint8 is now deprecated, please use a dtype torch.bool instead. (Triggered internally at  /pytorch/aten/src/ATen/native/IndexingUtils.h:25.)\n",
            "/usr/local/lib/python3.6/dist-packages/ipykernel_launcher.py:88: UserWarning: indexing with dtype torch.uint8 is now deprecated, please use a dtype torch.bool instead. (Triggered internally at  /pytorch/aten/src/ATen/native/IndexingUtils.h:25.)\n",
            "/usr/local/lib/python3.6/dist-packages/ipykernel_launcher.py:94: UserWarning: indexing with dtype torch.uint8 is now deprecated, please use a dtype torch.bool instead. (Triggered internally at  /pytorch/aten/src/ATen/native/IndexingUtils.h:25.)\n"
          ],
          "name": "stderr"
        },
        {
          "output_type": "stream",
          "text": [
            "110 Episode: Finished after 169 time steps: 10思考の平均step数 = 113.5\n",
            "111 Episode: Finished after 98 time steps: 10思考の平均step数 = 117.6\n",
            "112 Episode: Finished after 122 time steps: 10思考の平均step数 = 125.5\n",
            "113 Episode: Finished after 138 time steps: 10思考の平均step数 = 119.3\n",
            "114 Episode: Finished after 65 time steps: 10思考の平均step数 = 119.7\n",
            "115 Episode: Finished after 146 time steps: 10思考の平均step数 = 128.6\n",
            "116 Episode: Finished after 130 time steps: 10思考の平均step数 = 125.7\n",
            "117 Episode: Finished after 69 time steps: 10思考の平均step数 = 125.3\n",
            "118 Episode: Finished after 91 time steps: 10思考の平均step数 = 119.0\n",
            "119 Episode: Finished after 103 time steps: 10思考の平均step数 = 113.1\n"
          ],
          "name": "stdout"
        },
        {
          "output_type": "stream",
          "text": [
            "/usr/local/lib/python3.6/dist-packages/ipykernel_launcher.py:86: UserWarning: indexing with dtype torch.uint8 is now deprecated, please use a dtype torch.bool instead. (Triggered internally at  /pytorch/aten/src/ATen/native/IndexingUtils.h:25.)\n",
            "/usr/local/lib/python3.6/dist-packages/ipykernel_launcher.py:88: UserWarning: indexing with dtype torch.uint8 is now deprecated, please use a dtype torch.bool instead. (Triggered internally at  /pytorch/aten/src/ATen/native/IndexingUtils.h:25.)\n",
            "/usr/local/lib/python3.6/dist-packages/ipykernel_launcher.py:94: UserWarning: indexing with dtype torch.uint8 is now deprecated, please use a dtype torch.bool instead. (Triggered internally at  /pytorch/aten/src/ATen/native/IndexingUtils.h:25.)\n"
          ],
          "name": "stderr"
        },
        {
          "output_type": "stream",
          "text": [
            "120 Episode: Finished after 103 time steps: 10思考の平均step数 = 106.5\n",
            "121 Episode: Finished after 79 time steps: 10思考の平均step数 = 104.6\n",
            "122 Episode: Finished after 147 time steps: 10思考の平均step数 = 107.1\n",
            "123 Episode: Finished after 200 time steps: 10思考の平均step数 = 113.3\n",
            "124 Episode: Finished after 110 time steps: 10思考の平均step数 = 117.8\n",
            "125 Episode: Finished after 86 time steps: 10思考の平均step数 = 111.8\n",
            "126 Episode: Finished after 185 time steps: 10思考の平均step数 = 117.3\n",
            "127 Episode: Finished after 200 time steps: 10思考の平均step数 = 130.4\n",
            "128 Episode: Finished after 80 time steps: 10思考の平均step数 = 129.3\n",
            "129 Episode: Finished after 200 time steps: 10思考の平均step数 = 139.0\n"
          ],
          "name": "stdout"
        },
        {
          "output_type": "stream",
          "text": [
            "/usr/local/lib/python3.6/dist-packages/ipykernel_launcher.py:86: UserWarning: indexing with dtype torch.uint8 is now deprecated, please use a dtype torch.bool instead. (Triggered internally at  /pytorch/aten/src/ATen/native/IndexingUtils.h:25.)\n",
            "/usr/local/lib/python3.6/dist-packages/ipykernel_launcher.py:88: UserWarning: indexing with dtype torch.uint8 is now deprecated, please use a dtype torch.bool instead. (Triggered internally at  /pytorch/aten/src/ATen/native/IndexingUtils.h:25.)\n",
            "/usr/local/lib/python3.6/dist-packages/ipykernel_launcher.py:94: UserWarning: indexing with dtype torch.uint8 is now deprecated, please use a dtype torch.bool instead. (Triggered internally at  /pytorch/aten/src/ATen/native/IndexingUtils.h:25.)\n"
          ],
          "name": "stderr"
        },
        {
          "output_type": "stream",
          "text": [
            "130 Episode: Finished after 177 time steps: 10思考の平均step数 = 146.4\n",
            "131 Episode: Finished after 176 time steps: 10思考の平均step数 = 156.1\n",
            "132 Episode: Finished after 148 time steps: 10思考の平均step数 = 156.2\n",
            "133 Episode: Finished after 179 time steps: 10思考の平均step数 = 154.1\n",
            "134 Episode: Finished after 97 time steps: 10思考の平均step数 = 152.8\n",
            "135 Episode: Finished after 147 time steps: 10思考の平均step数 = 158.9\n",
            "136 Episode: Finished after 176 time steps: 10思考の平均step数 = 158.0\n",
            "137 Episode: Finished after 185 time steps: 10思考の平均step数 = 156.5\n",
            "138 Episode: Finished after 129 time steps: 10思考の平均step数 = 161.4\n",
            "139 Episode: Finished after 194 time steps: 10思考の平均step数 = 160.8\n"
          ],
          "name": "stdout"
        },
        {
          "output_type": "stream",
          "text": [
            "/usr/local/lib/python3.6/dist-packages/ipykernel_launcher.py:86: UserWarning: indexing with dtype torch.uint8 is now deprecated, please use a dtype torch.bool instead. (Triggered internally at  /pytorch/aten/src/ATen/native/IndexingUtils.h:25.)\n",
            "/usr/local/lib/python3.6/dist-packages/ipykernel_launcher.py:88: UserWarning: indexing with dtype torch.uint8 is now deprecated, please use a dtype torch.bool instead. (Triggered internally at  /pytorch/aten/src/ATen/native/IndexingUtils.h:25.)\n",
            "/usr/local/lib/python3.6/dist-packages/ipykernel_launcher.py:94: UserWarning: indexing with dtype torch.uint8 is now deprecated, please use a dtype torch.bool instead. (Triggered internally at  /pytorch/aten/src/ATen/native/IndexingUtils.h:25.)\n"
          ],
          "name": "stderr"
        },
        {
          "output_type": "stream",
          "text": [
            "140 Episode: Finished after 103 time steps: 10思考の平均step数 = 153.4\n",
            "141 Episode: Finished after 200 time steps: 10思考の平均step数 = 155.8\n",
            "142 Episode: Finished after 200 time steps: 10思考の平均step数 = 161.0\n",
            "143 Episode: Finished after 200 time steps: 10思考の平均step数 = 163.1\n",
            "144 Episode: Finished after 200 time steps: 10思考の平均step数 = 173.4\n",
            "145 Episode: Finished after 172 time steps: 10思考の平均step数 = 175.9\n",
            "146 Episode: Finished after 88 time steps: 10思考の平均step数 = 167.1\n",
            "147 Episode: Finished after 146 time steps: 10思考の平均step数 = 163.2\n",
            "148 Episode: Finished after 200 time steps: 10思考の平均step数 = 170.3\n",
            "149 Episode: Finished after 179 time steps: 10思考の平均step数 = 168.8\n"
          ],
          "name": "stdout"
        },
        {
          "output_type": "stream",
          "text": [
            "/usr/local/lib/python3.6/dist-packages/ipykernel_launcher.py:86: UserWarning: indexing with dtype torch.uint8 is now deprecated, please use a dtype torch.bool instead. (Triggered internally at  /pytorch/aten/src/ATen/native/IndexingUtils.h:25.)\n",
            "/usr/local/lib/python3.6/dist-packages/ipykernel_launcher.py:88: UserWarning: indexing with dtype torch.uint8 is now deprecated, please use a dtype torch.bool instead. (Triggered internally at  /pytorch/aten/src/ATen/native/IndexingUtils.h:25.)\n",
            "/usr/local/lib/python3.6/dist-packages/ipykernel_launcher.py:94: UserWarning: indexing with dtype torch.uint8 is now deprecated, please use a dtype torch.bool instead. (Triggered internally at  /pytorch/aten/src/ATen/native/IndexingUtils.h:25.)\n"
          ],
          "name": "stderr"
        },
        {
          "output_type": "stream",
          "text": [
            "150 Episode: Finished after 200 time steps: 10思考の平均step数 = 178.5\n",
            "151 Episode: Finished after 200 time steps: 10思考の平均step数 = 178.5\n",
            "152 Episode: Finished after 175 time steps: 10思考の平均step数 = 176.0\n",
            "153 Episode: Finished after 135 time steps: 10思考の平均step数 = 169.5\n",
            "154 Episode: Finished after 87 time steps: 10思考の平均step数 = 158.2\n",
            "155 Episode: Finished after 106 time steps: 10思考の平均step数 = 151.6\n",
            "156 Episode: Finished after 200 time steps: 10思考の平均step数 = 162.8\n",
            "157 Episode: Finished after 89 time steps: 10思考の平均step数 = 157.1\n",
            "158 Episode: Finished after 183 time steps: 10思考の平均step数 = 155.4\n",
            "159 Episode: Finished after 200 time steps: 10思考の平均step数 = 157.5\n"
          ],
          "name": "stdout"
        },
        {
          "output_type": "stream",
          "text": [
            "/usr/local/lib/python3.6/dist-packages/ipykernel_launcher.py:86: UserWarning: indexing with dtype torch.uint8 is now deprecated, please use a dtype torch.bool instead. (Triggered internally at  /pytorch/aten/src/ATen/native/IndexingUtils.h:25.)\n",
            "/usr/local/lib/python3.6/dist-packages/ipykernel_launcher.py:88: UserWarning: indexing with dtype torch.uint8 is now deprecated, please use a dtype torch.bool instead. (Triggered internally at  /pytorch/aten/src/ATen/native/IndexingUtils.h:25.)\n",
            "/usr/local/lib/python3.6/dist-packages/ipykernel_launcher.py:94: UserWarning: indexing with dtype torch.uint8 is now deprecated, please use a dtype torch.bool instead. (Triggered internally at  /pytorch/aten/src/ATen/native/IndexingUtils.h:25.)\n"
          ],
          "name": "stderr"
        },
        {
          "output_type": "stream",
          "text": [
            "160 Episode: Finished after 142 time steps: 10思考の平均step数 = 151.7\n",
            "161 Episode: Finished after 157 time steps: 10思考の平均step数 = 147.4\n",
            "162 Episode: Finished after 80 time steps: 10思考の平均step数 = 137.9\n",
            "163 Episode: Finished after 136 time steps: 10思考の平均step数 = 138.0\n",
            "164 Episode: Finished after 146 time steps: 10思考の平均step数 = 143.9\n",
            "165 Episode: Finished after 200 time steps: 10思考の平均step数 = 153.3\n",
            "166 Episode: Finished after 185 time steps: 10思考の平均step数 = 151.8\n",
            "167 Episode: Finished after 169 time steps: 10思考の平均step数 = 159.8\n",
            "168 Episode: Finished after 87 time steps: 10思考の平均step数 = 150.2\n",
            "169 Episode: Finished after 200 time steps: 10思考の平均step数 = 150.2\n"
          ],
          "name": "stdout"
        },
        {
          "output_type": "stream",
          "text": [
            "/usr/local/lib/python3.6/dist-packages/ipykernel_launcher.py:86: UserWarning: indexing with dtype torch.uint8 is now deprecated, please use a dtype torch.bool instead. (Triggered internally at  /pytorch/aten/src/ATen/native/IndexingUtils.h:25.)\n",
            "/usr/local/lib/python3.6/dist-packages/ipykernel_launcher.py:88: UserWarning: indexing with dtype torch.uint8 is now deprecated, please use a dtype torch.bool instead. (Triggered internally at  /pytorch/aten/src/ATen/native/IndexingUtils.h:25.)\n",
            "/usr/local/lib/python3.6/dist-packages/ipykernel_launcher.py:94: UserWarning: indexing with dtype torch.uint8 is now deprecated, please use a dtype torch.bool instead. (Triggered internally at  /pytorch/aten/src/ATen/native/IndexingUtils.h:25.)\n"
          ],
          "name": "stderr"
        },
        {
          "output_type": "stream",
          "text": [
            "170 Episode: Finished after 200 time steps: 10思考の平均step数 = 156.0\n",
            "171 Episode: Finished after 163 time steps: 10思考の平均step数 = 156.6\n",
            "172 Episode: Finished after 200 time steps: 10思考の平均step数 = 168.6\n",
            "173 Episode: Finished after 87 time steps: 10思考の平均step数 = 163.7\n",
            "174 Episode: Finished after 169 time steps: 10思考の平均step数 = 166.0\n",
            "175 Episode: Finished after 165 time steps: 10思考の平均step数 = 162.5\n",
            "176 Episode: Finished after 160 time steps: 10思考の平均step数 = 160.0\n",
            "177 Episode: Finished after 200 time steps: 10思考の平均step数 = 163.1\n",
            "178 Episode: Finished after 200 time steps: 10思考の平均step数 = 174.4\n",
            "179 Episode: Finished after 174 time steps: 10思考の平均step数 = 171.8\n"
          ],
          "name": "stdout"
        },
        {
          "output_type": "stream",
          "text": [
            "/usr/local/lib/python3.6/dist-packages/ipykernel_launcher.py:86: UserWarning: indexing with dtype torch.uint8 is now deprecated, please use a dtype torch.bool instead. (Triggered internally at  /pytorch/aten/src/ATen/native/IndexingUtils.h:25.)\n",
            "/usr/local/lib/python3.6/dist-packages/ipykernel_launcher.py:88: UserWarning: indexing with dtype torch.uint8 is now deprecated, please use a dtype torch.bool instead. (Triggered internally at  /pytorch/aten/src/ATen/native/IndexingUtils.h:25.)\n",
            "/usr/local/lib/python3.6/dist-packages/ipykernel_launcher.py:94: UserWarning: indexing with dtype torch.uint8 is now deprecated, please use a dtype torch.bool instead. (Triggered internally at  /pytorch/aten/src/ATen/native/IndexingUtils.h:25.)\n"
          ],
          "name": "stderr"
        },
        {
          "output_type": "stream",
          "text": [
            "180 Episode: Finished after 172 time steps: 10思考の平均step数 = 169.0\n",
            "181 Episode: Finished after 129 time steps: 10思考の平均step数 = 165.6\n",
            "182 Episode: Finished after 141 time steps: 10思考の平均step数 = 159.7\n",
            "183 Episode: Finished after 200 time steps: 10思考の平均step数 = 171.0\n",
            "184 Episode: Finished after 200 time steps: 10思考の平均step数 = 174.1\n",
            "185 Episode: Finished after 152 time steps: 10思考の平均step数 = 172.8\n",
            "186 Episode: Finished after 144 time steps: 10思考の平均step数 = 171.2\n",
            "187 Episode: Finished after 200 time steps: 10思考の平均step数 = 171.2\n",
            "188 Episode: Finished after 200 time steps: 10思考の平均step数 = 171.2\n",
            "189 Episode: Finished after 173 time steps: 10思考の平均step数 = 171.1\n"
          ],
          "name": "stdout"
        },
        {
          "output_type": "stream",
          "text": [
            "/usr/local/lib/python3.6/dist-packages/ipykernel_launcher.py:86: UserWarning: indexing with dtype torch.uint8 is now deprecated, please use a dtype torch.bool instead. (Triggered internally at  /pytorch/aten/src/ATen/native/IndexingUtils.h:25.)\n",
            "/usr/local/lib/python3.6/dist-packages/ipykernel_launcher.py:88: UserWarning: indexing with dtype torch.uint8 is now deprecated, please use a dtype torch.bool instead. (Triggered internally at  /pytorch/aten/src/ATen/native/IndexingUtils.h:25.)\n",
            "/usr/local/lib/python3.6/dist-packages/ipykernel_launcher.py:94: UserWarning: indexing with dtype torch.uint8 is now deprecated, please use a dtype torch.bool instead. (Triggered internally at  /pytorch/aten/src/ATen/native/IndexingUtils.h:25.)\n"
          ],
          "name": "stderr"
        },
        {
          "output_type": "stream",
          "text": [
            "190 Episode: Finished after 141 time steps: 10思考の平均step数 = 168.0\n",
            "191 Episode: Finished after 200 time steps: 10思考の平均step数 = 175.1\n",
            "192 Episode: Finished after 94 time steps: 10思考の平均step数 = 170.4\n",
            "193 Episode: Finished after 200 time steps: 10思考の平均step数 = 170.4\n",
            "194 Episode: Finished after 152 time steps: 10思考の平均step数 = 165.6\n",
            "195 Episode: Finished after 200 time steps: 10思考の平均step数 = 170.4\n",
            "196 Episode: Finished after 97 time steps: 10思考の平均step数 = 165.7\n",
            "197 Episode: Finished after 200 time steps: 10思考の平均step数 = 165.7\n",
            "198 Episode: Finished after 150 time steps: 10思考の平均step数 = 160.7\n",
            "199 Episode: Finished after 200 time steps: 10思考の平均step数 = 163.4\n"
          ],
          "name": "stdout"
        },
        {
          "output_type": "stream",
          "text": [
            "/usr/local/lib/python3.6/dist-packages/ipykernel_launcher.py:86: UserWarning: indexing with dtype torch.uint8 is now deprecated, please use a dtype torch.bool instead. (Triggered internally at  /pytorch/aten/src/ATen/native/IndexingUtils.h:25.)\n",
            "/usr/local/lib/python3.6/dist-packages/ipykernel_launcher.py:88: UserWarning: indexing with dtype torch.uint8 is now deprecated, please use a dtype torch.bool instead. (Triggered internally at  /pytorch/aten/src/ATen/native/IndexingUtils.h:25.)\n",
            "/usr/local/lib/python3.6/dist-packages/ipykernel_launcher.py:94: UserWarning: indexing with dtype torch.uint8 is now deprecated, please use a dtype torch.bool instead. (Triggered internally at  /pytorch/aten/src/ATen/native/IndexingUtils.h:25.)\n"
          ],
          "name": "stderr"
        },
        {
          "output_type": "stream",
          "text": [
            "200 Episode: Finished after 122 time steps: 10思考の平均step数 = 161.5\n",
            "201 Episode: Finished after 172 time steps: 10思考の平均step数 = 158.7\n",
            "202 Episode: Finished after 146 time steps: 10思考の平均step数 = 163.9\n",
            "203 Episode: Finished after 141 time steps: 10思考の平均step数 = 158.0\n",
            "204 Episode: Finished after 140 time steps: 10思考の平均step数 = 156.8\n",
            "205 Episode: Finished after 200 time steps: 10思考の平均step数 = 156.8\n",
            "206 Episode: Finished after 187 time steps: 10思考の平均step数 = 165.8\n",
            "207 Episode: Finished after 134 time steps: 10思考の平均step数 = 159.2\n",
            "208 Episode: Finished after 164 time steps: 10思考の平均step数 = 160.6\n",
            "209 Episode: Finished after 130 time steps: 10思考の平均step数 = 153.6\n"
          ],
          "name": "stdout"
        },
        {
          "output_type": "stream",
          "text": [
            "/usr/local/lib/python3.6/dist-packages/ipykernel_launcher.py:86: UserWarning: indexing with dtype torch.uint8 is now deprecated, please use a dtype torch.bool instead. (Triggered internally at  /pytorch/aten/src/ATen/native/IndexingUtils.h:25.)\n",
            "/usr/local/lib/python3.6/dist-packages/ipykernel_launcher.py:88: UserWarning: indexing with dtype torch.uint8 is now deprecated, please use a dtype torch.bool instead. (Triggered internally at  /pytorch/aten/src/ATen/native/IndexingUtils.h:25.)\n",
            "/usr/local/lib/python3.6/dist-packages/ipykernel_launcher.py:94: UserWarning: indexing with dtype torch.uint8 is now deprecated, please use a dtype torch.bool instead. (Triggered internally at  /pytorch/aten/src/ATen/native/IndexingUtils.h:25.)\n"
          ],
          "name": "stderr"
        },
        {
          "output_type": "stream",
          "text": [
            "210 Episode: Finished after 167 time steps: 10思考の平均step数 = 158.1\n",
            "211 Episode: Finished after 127 time steps: 10思考の平均step数 = 153.6\n",
            "212 Episode: Finished after 200 time steps: 10思考の平均step数 = 159.0\n",
            "213 Episode: Finished after 163 time steps: 10思考の平均step数 = 161.2\n",
            "214 Episode: Finished after 130 time steps: 10思考の平均step数 = 160.2\n",
            "215 Episode: Finished after 200 time steps: 10思考の平均step数 = 160.2\n",
            "216 Episode: Finished after 175 time steps: 10思考の平均step数 = 159.0\n",
            "217 Episode: Finished after 150 time steps: 10思考の平均step数 = 160.6\n",
            "218 Episode: Finished after 186 time steps: 10思考の平均step数 = 162.8\n",
            "219 Episode: Finished after 200 time steps: 10思考の平均step数 = 169.8\n"
          ],
          "name": "stdout"
        },
        {
          "output_type": "stream",
          "text": [
            "/usr/local/lib/python3.6/dist-packages/ipykernel_launcher.py:86: UserWarning: indexing with dtype torch.uint8 is now deprecated, please use a dtype torch.bool instead. (Triggered internally at  /pytorch/aten/src/ATen/native/IndexingUtils.h:25.)\n",
            "/usr/local/lib/python3.6/dist-packages/ipykernel_launcher.py:88: UserWarning: indexing with dtype torch.uint8 is now deprecated, please use a dtype torch.bool instead. (Triggered internally at  /pytorch/aten/src/ATen/native/IndexingUtils.h:25.)\n",
            "/usr/local/lib/python3.6/dist-packages/ipykernel_launcher.py:94: UserWarning: indexing with dtype torch.uint8 is now deprecated, please use a dtype torch.bool instead. (Triggered internally at  /pytorch/aten/src/ATen/native/IndexingUtils.h:25.)\n"
          ],
          "name": "stderr"
        },
        {
          "output_type": "stream",
          "text": [
            "220 Episode: Finished after 142 time steps: 10思考の平均step数 = 167.3\n",
            "221 Episode: Finished after 195 time steps: 10思考の平均step数 = 174.1\n",
            "222 Episode: Finished after 200 time steps: 10思考の平均step数 = 174.1\n",
            "223 Episode: Finished after 137 time steps: 10思考の平均step数 = 171.5\n",
            "224 Episode: Finished after 145 time steps: 10思考の平均step数 = 173.0\n",
            "225 Episode: Finished after 129 time steps: 10思考の平均step数 = 165.9\n",
            "226 Episode: Finished after 195 time steps: 10思考の平均step数 = 167.9\n",
            "227 Episode: Finished after 136 time steps: 10思考の平均step数 = 166.5\n",
            "228 Episode: Finished after 125 time steps: 10思考の平均step数 = 160.4\n",
            "229 Episode: Finished after 180 time steps: 10思考の平均step数 = 158.4\n"
          ],
          "name": "stdout"
        },
        {
          "output_type": "stream",
          "text": [
            "/usr/local/lib/python3.6/dist-packages/ipykernel_launcher.py:86: UserWarning: indexing with dtype torch.uint8 is now deprecated, please use a dtype torch.bool instead. (Triggered internally at  /pytorch/aten/src/ATen/native/IndexingUtils.h:25.)\n",
            "/usr/local/lib/python3.6/dist-packages/ipykernel_launcher.py:88: UserWarning: indexing with dtype torch.uint8 is now deprecated, please use a dtype torch.bool instead. (Triggered internally at  /pytorch/aten/src/ATen/native/IndexingUtils.h:25.)\n",
            "/usr/local/lib/python3.6/dist-packages/ipykernel_launcher.py:94: UserWarning: indexing with dtype torch.uint8 is now deprecated, please use a dtype torch.bool instead. (Triggered internally at  /pytorch/aten/src/ATen/native/IndexingUtils.h:25.)\n"
          ],
          "name": "stderr"
        },
        {
          "output_type": "stream",
          "text": [
            "230 Episode: Finished after 149 time steps: 10思考の平均step数 = 159.1\n",
            "231 Episode: Finished after 200 time steps: 10思考の平均step数 = 159.6\n",
            "232 Episode: Finished after 141 time steps: 10思考の平均step数 = 153.7\n",
            "233 Episode: Finished after 200 time steps: 10思考の平均step数 = 160.0\n",
            "234 Episode: Finished after 199 time steps: 10思考の平均step数 = 165.4\n",
            "235 Episode: Finished after 129 time steps: 10思考の平均step数 = 165.4\n",
            "236 Episode: Finished after 139 time steps: 10思考の平均step数 = 159.8\n",
            "237 Episode: Finished after 143 time steps: 10思考の平均step数 = 160.5\n",
            "238 Episode: Finished after 147 time steps: 10思考の平均step数 = 162.7\n",
            "239 Episode: Finished after 178 time steps: 10思考の平均step数 = 162.5\n"
          ],
          "name": "stdout"
        },
        {
          "output_type": "stream",
          "text": [
            "/usr/local/lib/python3.6/dist-packages/ipykernel_launcher.py:86: UserWarning: indexing with dtype torch.uint8 is now deprecated, please use a dtype torch.bool instead. (Triggered internally at  /pytorch/aten/src/ATen/native/IndexingUtils.h:25.)\n",
            "/usr/local/lib/python3.6/dist-packages/ipykernel_launcher.py:88: UserWarning: indexing with dtype torch.uint8 is now deprecated, please use a dtype torch.bool instead. (Triggered internally at  /pytorch/aten/src/ATen/native/IndexingUtils.h:25.)\n",
            "/usr/local/lib/python3.6/dist-packages/ipykernel_launcher.py:94: UserWarning: indexing with dtype torch.uint8 is now deprecated, please use a dtype torch.bool instead. (Triggered internally at  /pytorch/aten/src/ATen/native/IndexingUtils.h:25.)\n"
          ],
          "name": "stderr"
        },
        {
          "output_type": "stream",
          "text": [
            "240 Episode: Finished after 160 time steps: 10思考の平均step数 = 163.6\n",
            "241 Episode: Finished after 123 time steps: 10思考の平均step数 = 155.9\n",
            "242 Episode: Finished after 200 time steps: 10思考の平均step数 = 161.8\n",
            "243 Episode: Finished after 200 time steps: 10思考の平均step数 = 161.8\n",
            "244 Episode: Finished after 190 time steps: 10思考の平均step数 = 160.9\n",
            "245 Episode: Finished after 153 time steps: 10思考の平均step数 = 163.3\n",
            "246 Episode: Finished after 145 time steps: 10思考の平均step数 = 163.9\n",
            "247 Episode: Finished after 200 time steps: 10思考の平均step数 = 169.6\n",
            "248 Episode: Finished after 200 time steps: 10思考の平均step数 = 174.9\n",
            "249 Episode: Finished after 142 time steps: 10思考の平均step数 = 171.3\n"
          ],
          "name": "stdout"
        },
        {
          "output_type": "stream",
          "text": [
            "/usr/local/lib/python3.6/dist-packages/ipykernel_launcher.py:86: UserWarning: indexing with dtype torch.uint8 is now deprecated, please use a dtype torch.bool instead. (Triggered internally at  /pytorch/aten/src/ATen/native/IndexingUtils.h:25.)\n",
            "/usr/local/lib/python3.6/dist-packages/ipykernel_launcher.py:88: UserWarning: indexing with dtype torch.uint8 is now deprecated, please use a dtype torch.bool instead. (Triggered internally at  /pytorch/aten/src/ATen/native/IndexingUtils.h:25.)\n",
            "/usr/local/lib/python3.6/dist-packages/ipykernel_launcher.py:94: UserWarning: indexing with dtype torch.uint8 is now deprecated, please use a dtype torch.bool instead. (Triggered internally at  /pytorch/aten/src/ATen/native/IndexingUtils.h:25.)\n"
          ],
          "name": "stderr"
        },
        {
          "output_type": "stream",
          "text": [
            "250 Episode: Finished after 143 time steps: 10思考の平均step数 = 169.6\n",
            "251 Episode: Finished after 182 time steps: 10思考の平均step数 = 175.5\n",
            "252 Episode: Finished after 200 time steps: 10思考の平均step数 = 175.5\n",
            "253 Episode: Finished after 200 time steps: 10思考の平均step数 = 175.5\n",
            "254 Episode: Finished after 146 time steps: 10思考の平均step数 = 171.1\n",
            "255 Episode: Finished after 200 time steps: 10思考の平均step数 = 175.8\n",
            "256 Episode: Finished after 200 time steps: 10思考の平均step数 = 181.3\n",
            "257 Episode: Finished after 175 time steps: 10思考の平均step数 = 178.8\n",
            "258 Episode: Finished after 150 time steps: 10思考の平均step数 = 173.8\n",
            "259 Episode: Finished after 187 time steps: 10思考の平均step数 = 178.3\n"
          ],
          "name": "stdout"
        },
        {
          "output_type": "stream",
          "text": [
            "/usr/local/lib/python3.6/dist-packages/ipykernel_launcher.py:86: UserWarning: indexing with dtype torch.uint8 is now deprecated, please use a dtype torch.bool instead. (Triggered internally at  /pytorch/aten/src/ATen/native/IndexingUtils.h:25.)\n",
            "/usr/local/lib/python3.6/dist-packages/ipykernel_launcher.py:88: UserWarning: indexing with dtype torch.uint8 is now deprecated, please use a dtype torch.bool instead. (Triggered internally at  /pytorch/aten/src/ATen/native/IndexingUtils.h:25.)\n",
            "/usr/local/lib/python3.6/dist-packages/ipykernel_launcher.py:94: UserWarning: indexing with dtype torch.uint8 is now deprecated, please use a dtype torch.bool instead. (Triggered internally at  /pytorch/aten/src/ATen/native/IndexingUtils.h:25.)\n"
          ],
          "name": "stderr"
        },
        {
          "output_type": "stream",
          "text": [
            "260 Episode: Finished after 139 time steps: 10思考の平均step数 = 177.9\n",
            "261 Episode: Finished after 152 time steps: 10思考の平均step数 = 174.9\n",
            "262 Episode: Finished after 180 time steps: 10思考の平均step数 = 172.9\n",
            "263 Episode: Finished after 146 time steps: 10思考の平均step数 = 167.5\n",
            "264 Episode: Finished after 140 time steps: 10思考の平均step数 = 166.9\n",
            "265 Episode: Finished after 153 time steps: 10思考の平均step数 = 162.2\n",
            "266 Episode: Finished after 153 time steps: 10思考の平均step数 = 157.5\n",
            "267 Episode: Finished after 142 time steps: 10思考の平均step数 = 154.2\n",
            "268 Episode: Finished after 178 time steps: 10思考の平均step数 = 157.0\n",
            "269 Episode: Finished after 152 time steps: 10思考の平均step数 = 153.5\n"
          ],
          "name": "stdout"
        },
        {
          "output_type": "stream",
          "text": [
            "/usr/local/lib/python3.6/dist-packages/ipykernel_launcher.py:86: UserWarning: indexing with dtype torch.uint8 is now deprecated, please use a dtype torch.bool instead. (Triggered internally at  /pytorch/aten/src/ATen/native/IndexingUtils.h:25.)\n",
            "/usr/local/lib/python3.6/dist-packages/ipykernel_launcher.py:88: UserWarning: indexing with dtype torch.uint8 is now deprecated, please use a dtype torch.bool instead. (Triggered internally at  /pytorch/aten/src/ATen/native/IndexingUtils.h:25.)\n",
            "/usr/local/lib/python3.6/dist-packages/ipykernel_launcher.py:94: UserWarning: indexing with dtype torch.uint8 is now deprecated, please use a dtype torch.bool instead. (Triggered internally at  /pytorch/aten/src/ATen/native/IndexingUtils.h:25.)\n"
          ],
          "name": "stderr"
        },
        {
          "output_type": "stream",
          "text": [
            "270 Episode: Finished after 126 time steps: 10思考の平均step数 = 152.2\n",
            "271 Episode: Finished after 147 time steps: 10思考の平均step数 = 151.7\n",
            "272 Episode: Finished after 110 time steps: 10思考の平均step数 = 144.7\n",
            "273 Episode: Finished after 141 time steps: 10思考の平均step数 = 144.2\n",
            "274 Episode: Finished after 133 time steps: 10思考の平均step数 = 143.5\n",
            "275 Episode: Finished after 135 time steps: 10思考の平均step数 = 141.7\n",
            "276 Episode: Finished after 119 time steps: 10思考の平均step数 = 138.3\n",
            "277 Episode: Finished after 127 time steps: 10思考の平均step数 = 136.8\n",
            "278 Episode: Finished after 191 time steps: 10思考の平均step数 = 138.1\n",
            "279 Episode: Finished after 137 time steps: 10思考の平均step数 = 136.6\n"
          ],
          "name": "stdout"
        },
        {
          "output_type": "stream",
          "text": [
            "/usr/local/lib/python3.6/dist-packages/ipykernel_launcher.py:86: UserWarning: indexing with dtype torch.uint8 is now deprecated, please use a dtype torch.bool instead. (Triggered internally at  /pytorch/aten/src/ATen/native/IndexingUtils.h:25.)\n",
            "/usr/local/lib/python3.6/dist-packages/ipykernel_launcher.py:88: UserWarning: indexing with dtype torch.uint8 is now deprecated, please use a dtype torch.bool instead. (Triggered internally at  /pytorch/aten/src/ATen/native/IndexingUtils.h:25.)\n",
            "/usr/local/lib/python3.6/dist-packages/ipykernel_launcher.py:94: UserWarning: indexing with dtype torch.uint8 is now deprecated, please use a dtype torch.bool instead. (Triggered internally at  /pytorch/aten/src/ATen/native/IndexingUtils.h:25.)\n"
          ],
          "name": "stderr"
        },
        {
          "output_type": "stream",
          "text": [
            "280 Episode: Finished after 149 time steps: 10思考の平均step数 = 138.9\n",
            "281 Episode: Finished after 200 time steps: 10思考の平均step数 = 144.2\n",
            "282 Episode: Finished after 165 time steps: 10思考の平均step数 = 149.7\n",
            "283 Episode: Finished after 137 time steps: 10思考の平均step数 = 149.3\n",
            "284 Episode: Finished after 135 time steps: 10思考の平均step数 = 149.5\n",
            "285 Episode: Finished after 200 time steps: 10思考の平均step数 = 156.0\n",
            "286 Episode: Finished after 168 time steps: 10思考の平均step数 = 160.9\n",
            "287 Episode: Finished after 160 time steps: 10思考の平均step数 = 164.2\n",
            "288 Episode: Finished after 158 time steps: 10思考の平均step数 = 160.9\n",
            "289 Episode: Finished after 160 time steps: 10思考の平均step数 = 163.2\n"
          ],
          "name": "stdout"
        },
        {
          "output_type": "stream",
          "text": [
            "/usr/local/lib/python3.6/dist-packages/ipykernel_launcher.py:86: UserWarning: indexing with dtype torch.uint8 is now deprecated, please use a dtype torch.bool instead. (Triggered internally at  /pytorch/aten/src/ATen/native/IndexingUtils.h:25.)\n",
            "/usr/local/lib/python3.6/dist-packages/ipykernel_launcher.py:88: UserWarning: indexing with dtype torch.uint8 is now deprecated, please use a dtype torch.bool instead. (Triggered internally at  /pytorch/aten/src/ATen/native/IndexingUtils.h:25.)\n",
            "/usr/local/lib/python3.6/dist-packages/ipykernel_launcher.py:94: UserWarning: indexing with dtype torch.uint8 is now deprecated, please use a dtype torch.bool instead. (Triggered internally at  /pytorch/aten/src/ATen/native/IndexingUtils.h:25.)\n"
          ],
          "name": "stderr"
        },
        {
          "output_type": "stream",
          "text": [
            "290 Episode: Finished after 180 time steps: 10思考の平均step数 = 166.3\n",
            "291 Episode: Finished after 151 time steps: 10思考の平均step数 = 161.4\n",
            "292 Episode: Finished after 190 time steps: 10思考の平均step数 = 163.9\n",
            "293 Episode: Finished after 149 time steps: 10思考の平均step数 = 165.1\n",
            "294 Episode: Finished after 164 time steps: 10思考の平均step数 = 168.0\n",
            "295 Episode: Finished after 200 time steps: 10思考の平均step数 = 168.0\n",
            "296 Episode: Finished after 163 time steps: 10思考の平均step数 = 167.5\n",
            "297 Episode: Finished after 200 time steps: 10思考の平均step数 = 171.5\n",
            "298 Episode: Finished after 188 time steps: 10思考の平均step数 = 174.5\n",
            "299 Episode: Finished after 170 time steps: 10思考の平均step数 = 175.5\n"
          ],
          "name": "stdout"
        },
        {
          "output_type": "stream",
          "text": [
            "/usr/local/lib/python3.6/dist-packages/ipykernel_launcher.py:86: UserWarning: indexing with dtype torch.uint8 is now deprecated, please use a dtype torch.bool instead. (Triggered internally at  /pytorch/aten/src/ATen/native/IndexingUtils.h:25.)\n",
            "/usr/local/lib/python3.6/dist-packages/ipykernel_launcher.py:88: UserWarning: indexing with dtype torch.uint8 is now deprecated, please use a dtype torch.bool instead. (Triggered internally at  /pytorch/aten/src/ATen/native/IndexingUtils.h:25.)\n",
            "/usr/local/lib/python3.6/dist-packages/ipykernel_launcher.py:94: UserWarning: indexing with dtype torch.uint8 is now deprecated, please use a dtype torch.bool instead. (Triggered internally at  /pytorch/aten/src/ATen/native/IndexingUtils.h:25.)\n"
          ],
          "name": "stderr"
        },
        {
          "output_type": "stream",
          "text": [
            "300 Episode: Finished after 198 time steps: 10思考の平均step数 = 177.3\n",
            "301 Episode: Finished after 182 time steps: 10思考の平均step数 = 180.4\n",
            "302 Episode: Finished after 193 time steps: 10思考の平均step数 = 180.7\n",
            "303 Episode: Finished after 196 time steps: 10思考の平均step数 = 185.4\n",
            "304 Episode: Finished after 176 time steps: 10思考の平均step数 = 186.6\n",
            "305 Episode: Finished after 181 time steps: 10思考の平均step数 = 184.7\n",
            "306 Episode: Finished after 192 time steps: 10思考の平均step数 = 187.6\n",
            "307 Episode: Finished after 196 time steps: 10思考の平均step数 = 187.2\n",
            "308 Episode: Finished after 150 time steps: 10思考の平均step数 = 183.4\n",
            "309 Episode: Finished after 194 time steps: 10思考の平均step数 = 185.8\n"
          ],
          "name": "stdout"
        },
        {
          "output_type": "stream",
          "text": [
            "/usr/local/lib/python3.6/dist-packages/ipykernel_launcher.py:86: UserWarning: indexing with dtype torch.uint8 is now deprecated, please use a dtype torch.bool instead. (Triggered internally at  /pytorch/aten/src/ATen/native/IndexingUtils.h:25.)\n",
            "/usr/local/lib/python3.6/dist-packages/ipykernel_launcher.py:88: UserWarning: indexing with dtype torch.uint8 is now deprecated, please use a dtype torch.bool instead. (Triggered internally at  /pytorch/aten/src/ATen/native/IndexingUtils.h:25.)\n",
            "/usr/local/lib/python3.6/dist-packages/ipykernel_launcher.py:94: UserWarning: indexing with dtype torch.uint8 is now deprecated, please use a dtype torch.bool instead. (Triggered internally at  /pytorch/aten/src/ATen/native/IndexingUtils.h:25.)\n"
          ],
          "name": "stderr"
        },
        {
          "output_type": "stream",
          "text": [
            "310 Episode: Finished after 195 time steps: 10思考の平均step数 = 185.5\n",
            "311 Episode: Finished after 161 time steps: 10思考の平均step数 = 183.4\n",
            "312 Episode: Finished after 167 time steps: 10思考の平均step数 = 180.8\n",
            "313 Episode: Finished after 164 time steps: 10思考の平均step数 = 177.6\n",
            "314 Episode: Finished after 172 time steps: 10思考の平均step数 = 177.2\n",
            "315 Episode: Finished after 200 time steps: 10思考の平均step数 = 179.1\n",
            "316 Episode: Finished after 171 time steps: 10思考の平均step数 = 177.0\n",
            "317 Episode: Finished after 200 time steps: 10思考の平均step数 = 177.4\n",
            "318 Episode: Finished after 200 time steps: 10思考の平均step数 = 182.4\n",
            "319 Episode: Finished after 200 time steps: 10思考の平均step数 = 183.0\n"
          ],
          "name": "stdout"
        },
        {
          "output_type": "stream",
          "text": [
            "/usr/local/lib/python3.6/dist-packages/ipykernel_launcher.py:86: UserWarning: indexing with dtype torch.uint8 is now deprecated, please use a dtype torch.bool instead. (Triggered internally at  /pytorch/aten/src/ATen/native/IndexingUtils.h:25.)\n",
            "/usr/local/lib/python3.6/dist-packages/ipykernel_launcher.py:88: UserWarning: indexing with dtype torch.uint8 is now deprecated, please use a dtype torch.bool instead. (Triggered internally at  /pytorch/aten/src/ATen/native/IndexingUtils.h:25.)\n",
            "/usr/local/lib/python3.6/dist-packages/ipykernel_launcher.py:94: UserWarning: indexing with dtype torch.uint8 is now deprecated, please use a dtype torch.bool instead. (Triggered internally at  /pytorch/aten/src/ATen/native/IndexingUtils.h:25.)\n"
          ],
          "name": "stderr"
        },
        {
          "output_type": "stream",
          "text": [
            "320 Episode: Finished after 199 time steps: 10思考の平均step数 = 183.4\n",
            "321 Episode: Finished after 176 time steps: 10思考の平均step数 = 184.9\n",
            "322 Episode: Finished after 200 time steps: 10思考の平均step数 = 188.2\n",
            "323 Episode: Finished after 178 time steps: 10思考の平均step数 = 189.6\n",
            "324 Episode: Finished after 200 time steps: 10思考の平均step数 = 192.4\n",
            "325 Episode: Finished after 157 time steps: 10思考の平均step数 = 188.1\n",
            "326 Episode: Finished after 183 time steps: 10思考の平均step数 = 189.3\n",
            "327 Episode: Finished after 167 time steps: 10思考の平均step数 = 186.0\n",
            "328 Episode: Finished after 159 time steps: 10思考の平均step数 = 181.9\n",
            "329 Episode: Finished after 200 time steps: 10思考の平均step数 = 181.9\n"
          ],
          "name": "stdout"
        },
        {
          "output_type": "stream",
          "text": [
            "/usr/local/lib/python3.6/dist-packages/ipykernel_launcher.py:86: UserWarning: indexing with dtype torch.uint8 is now deprecated, please use a dtype torch.bool instead. (Triggered internally at  /pytorch/aten/src/ATen/native/IndexingUtils.h:25.)\n",
            "/usr/local/lib/python3.6/dist-packages/ipykernel_launcher.py:88: UserWarning: indexing with dtype torch.uint8 is now deprecated, please use a dtype torch.bool instead. (Triggered internally at  /pytorch/aten/src/ATen/native/IndexingUtils.h:25.)\n",
            "/usr/local/lib/python3.6/dist-packages/ipykernel_launcher.py:94: UserWarning: indexing with dtype torch.uint8 is now deprecated, please use a dtype torch.bool instead. (Triggered internally at  /pytorch/aten/src/ATen/native/IndexingUtils.h:25.)\n"
          ],
          "name": "stderr"
        },
        {
          "output_type": "stream",
          "text": [
            "330 Episode: Finished after 200 time steps: 10思考の平均step数 = 182.0\n",
            "331 Episode: Finished after 194 time steps: 10思考の平均step数 = 183.8\n",
            "332 Episode: Finished after 197 time steps: 10思考の平均step数 = 183.5\n",
            "333 Episode: Finished after 200 time steps: 10思考の平均step数 = 185.7\n",
            "334 Episode: Finished after 179 time steps: 10思考の平均step数 = 183.6\n",
            "335 Episode: Finished after 200 time steps: 10思考の平均step数 = 187.9\n",
            "336 Episode: Finished after 200 time steps: 10思考の平均step数 = 189.6\n",
            "337 Episode: Finished after 200 time steps: 10思考の平均step数 = 192.9\n",
            "338 Episode: Finished after 177 time steps: 10思考の平均step数 = 194.7\n",
            "339 Episode: Finished after 186 time steps: 10思考の平均step数 = 193.3\n"
          ],
          "name": "stdout"
        },
        {
          "output_type": "stream",
          "text": [
            "/usr/local/lib/python3.6/dist-packages/ipykernel_launcher.py:86: UserWarning: indexing with dtype torch.uint8 is now deprecated, please use a dtype torch.bool instead. (Triggered internally at  /pytorch/aten/src/ATen/native/IndexingUtils.h:25.)\n",
            "/usr/local/lib/python3.6/dist-packages/ipykernel_launcher.py:88: UserWarning: indexing with dtype torch.uint8 is now deprecated, please use a dtype torch.bool instead. (Triggered internally at  /pytorch/aten/src/ATen/native/IndexingUtils.h:25.)\n",
            "/usr/local/lib/python3.6/dist-packages/ipykernel_launcher.py:94: UserWarning: indexing with dtype torch.uint8 is now deprecated, please use a dtype torch.bool instead. (Triggered internally at  /pytorch/aten/src/ATen/native/IndexingUtils.h:25.)\n"
          ],
          "name": "stderr"
        },
        {
          "output_type": "stream",
          "text": [
            "340 Episode: Finished after 196 time steps: 10思考の平均step数 = 192.9\n",
            "341 Episode: Finished after 185 time steps: 10思考の平均step数 = 192.0\n",
            "342 Episode: Finished after 178 time steps: 10思考の平均step数 = 190.1\n",
            "343 Episode: Finished after 173 time steps: 10思考の平均step数 = 187.4\n",
            "344 Episode: Finished after 176 time steps: 10思考の平均step数 = 187.1\n",
            "345 Episode: Finished after 200 time steps: 10思考の平均step数 = 187.1\n",
            "346 Episode: Finished after 200 time steps: 10思考の平均step数 = 187.1\n",
            "347 Episode: Finished after 200 time steps: 10思考の平均step数 = 187.1\n",
            "348 Episode: Finished after 200 time steps: 10思考の平均step数 = 189.4\n",
            "349 Episode: Finished after 192 time steps: 10思考の平均step数 = 190.0\n"
          ],
          "name": "stdout"
        },
        {
          "output_type": "stream",
          "text": [
            "/usr/local/lib/python3.6/dist-packages/ipykernel_launcher.py:86: UserWarning: indexing with dtype torch.uint8 is now deprecated, please use a dtype torch.bool instead. (Triggered internally at  /pytorch/aten/src/ATen/native/IndexingUtils.h:25.)\n",
            "/usr/local/lib/python3.6/dist-packages/ipykernel_launcher.py:88: UserWarning: indexing with dtype torch.uint8 is now deprecated, please use a dtype torch.bool instead. (Triggered internally at  /pytorch/aten/src/ATen/native/IndexingUtils.h:25.)\n",
            "/usr/local/lib/python3.6/dist-packages/ipykernel_launcher.py:94: UserWarning: indexing with dtype torch.uint8 is now deprecated, please use a dtype torch.bool instead. (Triggered internally at  /pytorch/aten/src/ATen/native/IndexingUtils.h:25.)\n"
          ],
          "name": "stderr"
        },
        {
          "output_type": "stream",
          "text": [
            "350 Episode: Finished after 200 time steps: 10思考の平均step数 = 190.4\n",
            "351 Episode: Finished after 199 time steps: 10思考の平均step数 = 191.8\n",
            "352 Episode: Finished after 200 time steps: 10思考の平均step数 = 194.0\n",
            "353 Episode: Finished after 193 time steps: 10思考の平均step数 = 196.0\n",
            "354 Episode: Finished after 196 time steps: 10思考の平均step数 = 198.0\n",
            "355 Episode: Finished after 200 time steps: 10思考の平均step数 = 198.0\n",
            "356 Episode: Finished after 200 time steps: 10思考の平均step数 = 198.0\n",
            "357 Episode: Finished after 200 time steps: 10思考の平均step数 = 198.0\n",
            "358 Episode: Finished after 200 time steps: 10思考の平均step数 = 198.0\n",
            "359 Episode: Finished after 200 time steps: 10思考の平均step数 = 198.8\n"
          ],
          "name": "stdout"
        },
        {
          "output_type": "stream",
          "text": [
            "/usr/local/lib/python3.6/dist-packages/ipykernel_launcher.py:86: UserWarning: indexing with dtype torch.uint8 is now deprecated, please use a dtype torch.bool instead. (Triggered internally at  /pytorch/aten/src/ATen/native/IndexingUtils.h:25.)\n",
            "/usr/local/lib/python3.6/dist-packages/ipykernel_launcher.py:88: UserWarning: indexing with dtype torch.uint8 is now deprecated, please use a dtype torch.bool instead. (Triggered internally at  /pytorch/aten/src/ATen/native/IndexingUtils.h:25.)\n",
            "/usr/local/lib/python3.6/dist-packages/ipykernel_launcher.py:94: UserWarning: indexing with dtype torch.uint8 is now deprecated, please use a dtype torch.bool instead. (Triggered internally at  /pytorch/aten/src/ATen/native/IndexingUtils.h:25.)\n"
          ],
          "name": "stderr"
        },
        {
          "output_type": "stream",
          "text": [
            "360 Episode: Finished after 180 time steps: 10思考の平均step数 = 196.8\n",
            "361 Episode: Finished after 200 time steps: 10思考の平均step数 = 196.9\n",
            "362 Episode: Finished after 200 time steps: 10思考の平均step数 = 196.9\n",
            "363 Episode: Finished after 196 time steps: 10思考の平均step数 = 197.2\n",
            "364 Episode: Finished after 187 time steps: 10思考の平均step数 = 196.3\n",
            "365 Episode: Finished after 200 time steps: 10思考の平均step数 = 196.3\n",
            "366 Episode: Finished after 200 time steps: 10思考の平均step数 = 196.3\n",
            "367 Episode: Finished after 185 time steps: 10思考の平均step数 = 194.8\n",
            "368 Episode: Finished after 200 time steps: 10思考の平均step数 = 194.8\n",
            "369 Episode: Finished after 200 time steps: 10思考の平均step数 = 194.8\n"
          ],
          "name": "stdout"
        },
        {
          "output_type": "stream",
          "text": [
            "/usr/local/lib/python3.6/dist-packages/ipykernel_launcher.py:86: UserWarning: indexing with dtype torch.uint8 is now deprecated, please use a dtype torch.bool instead. (Triggered internally at  /pytorch/aten/src/ATen/native/IndexingUtils.h:25.)\n",
            "/usr/local/lib/python3.6/dist-packages/ipykernel_launcher.py:88: UserWarning: indexing with dtype torch.uint8 is now deprecated, please use a dtype torch.bool instead. (Triggered internally at  /pytorch/aten/src/ATen/native/IndexingUtils.h:25.)\n",
            "/usr/local/lib/python3.6/dist-packages/ipykernel_launcher.py:94: UserWarning: indexing with dtype torch.uint8 is now deprecated, please use a dtype torch.bool instead. (Triggered internally at  /pytorch/aten/src/ATen/native/IndexingUtils.h:25.)\n"
          ],
          "name": "stderr"
        },
        {
          "output_type": "stream",
          "text": [
            "370 Episode: Finished after 200 time steps: 10思考の平均step数 = 196.8\n",
            "371 Episode: Finished after 200 time steps: 10思考の平均step数 = 196.8\n",
            "372 Episode: Finished after 200 time steps: 10思考の平均step数 = 196.8\n",
            "373 Episode: Finished after 200 time steps: 10思考の平均step数 = 197.2\n",
            "374 Episode: Finished after 200 time steps: 10思考の平均step数 = 198.5\n",
            "375 Episode: Finished after 200 time steps: 10思考の平均step数 = 198.5\n",
            "376 Episode: Finished after 197 time steps: 10思考の平均step数 = 198.2\n",
            "377 Episode: Finished after 200 time steps: 10思考の平均step数 = 199.7\n",
            "10回連続成功\n",
            "378 Episode: Finished after 181 time steps: 10思考の平均step数 = 197.8\n"
          ],
          "name": "stdout"
        },
        {
          "output_type": "display_data",
          "data": {
            "text/html": [
              "<video alt=\"test\" autoplay \n",
              "                loop controls style=\"height: 400px;\">\n",
              "                <source src=\"data:video/mp4;base64,AAAAIGZ0eXBpc29tAAACAGlzb21pc28yYXZjMW1wNDEAAAAIZnJlZQAAPvVtZGF0AAACrgYF//+q3EXpvebZSLeWLNgg2SPu73gyNjQgLSBjb3JlIDE1MiByMjg1NCBlOWE1OTAzIC0gSC4yNjQvTVBFRy00IEFWQyBjb2RlYyAtIENvcHlsZWZ0IDIwMDMtMjAxNyAtIGh0dHA6Ly93d3cudmlkZW9sYW4ub3JnL3gyNjQuaHRtbCAtIG9wdGlvbnM6IGNhYmFjPTEgcmVmPTMgZGVibG9jaz0xOjA6MCBhbmFseXNlPTB4MzoweDExMyBtZT1oZXggc3VibWU9NyBwc3k9MSBwc3lfcmQ9MS4wMDowLjAwIG1peGVkX3JlZj0xIG1lX3JhbmdlPTE2IGNocm9tYV9tZT0xIHRyZWxsaXM9MSA4eDhkY3Q9MSBjcW09MCBkZWFkem9uZT0yMSwxMSBmYXN0X3Bza2lwPTEgY2hyb21hX3FwX29mZnNldD0tMiB0aHJlYWRzPTMgbG9va2FoZWFkX3RocmVhZHM9MSBzbGljZWRfdGhyZWFkcz0wIG5yPTAgZGVjaW1hdGU9MSBpbnRlcmxhY2VkPTAgYmx1cmF5X2NvbXBhdD0wIGNvbnN0cmFpbmVkX2ludHJhPTAgYmZyYW1lcz0zIGJfcHlyYW1pZD0yIGJfYWRhcHQ9MSBiX2JpYXM9MCBkaXJlY3Q9MSB3ZWlnaHRiPTEgb3Blbl9nb3A9MCB3ZWlnaHRwPTIga2V5aW50PTI1MCBrZXlpbnRfbWluPTI1IHNjZW5lY3V0PTQwIGludHJhX3JlZnJlc2g9MCByY19sb29rYWhlYWQ9NDAgcmM9Y3JmIG1idHJlZT0xIGNyZj0yMy4wIHFjb21wPTAuNjAgcXBtaW49MCBxcG1heD02OSBxcHN0ZXA9NCBpcF9yYXRpbz0xLjQwIGFxPTE6MS4wMACAAAABpmWIhAAz//727L4FNf2f0JcRLMXaSnA+KqSAgHc0wAAAAwAAAwAAFgn0I7DkqgN3QAAAHGAFBCwCPCVC2EhH2OkN/weIfwAJ+A6M4RVBXrxUejrv7pxtj2wAHb+P2VRHh8RkQTG/GDLd//xcsuaOnLn+QIBP7ybyW0/18Eq+AxUj1FS1H//HqODj6TFh5wHP9/GhI9gcwm2HsbKutyfPQpjnV4rPZmtAvZc+A6ICUKbR3Ii2cFARniaaEu2vEv0n7dux2LBCwLlOtqxIXQxu/q5HR1meUZZOnbJqLJR1pjWTe45zX2vIvRvrc4hfY6Uh4aYSb/4Pam+bDdWesE1TZ9tRlV1+srhBEzuolfDIwI/tTAnDZbmtKv19ZKYkvp3UX5FpPozFBdbzfZUIkPCxxvDY/aBa64aaAJmJpsv+na10u0bEj0VB0Nj260mzMgWYLDlYiF8FdhDDgO61CxdjsU38S6OYPzMegE6yDfFbyMbuz0b4twOIBpm/b3SBEvpzSKgfTGql4MFiAajBh0/UTqYXkcHFOQ+TymWPnAX7QAAAAwAAAwNXAAAA1UGaJGxDP/6eEAAARXUitAQAUGhtj22DDQqywAVewMICl7aWkcAprzKeeVuLa5zrY8RwE4mq6NW+crkT3ArMNnI0gfzMPcwEpO5BQ7OueAS02gfGzALNQ42/tcTuTz54T53fjDRlPYmN8akaEEs41i2JzhKDc/3gbjqShlEF4cIiU2K6rMALcomEHXvdclWCW1GcE638WBYt5urD1tIfoDASiSXG9nEw0MissE3hkpL+6qTheSbCnZa7JezlH8sxtePBKLa/9aXKXultrRqtCLFaSsBlQAAAAEVBnkJ4hH8AABanzQcitToNSXVJqI/bsar2gBbbOBPaELgtB5HQAdu78S4IAAADABxvXlNgZ/fa65u5/nl2ioxmjLAAVsEAAAAtAZ5hdEf/AAAjwvZvYsYdXBuLGuw+z9EwAAADAAjQ6kWAAAANe+/jbUqgAGtAAAAALwGeY2pH/wAAI78EJ+6JylQhcDFPBwOw43GtrCX/PONyI35I4AAKoIHGSXkqgF3BAAAAmUGaaEmoQWiZTAhn//6eEAAARUUJ3IBNKXCz0Z0tYP+dqPMuh/XBv8Aq37F3lQkPHf3zCdgGCaKgDqkRuW++6DbLh8A6F7Cbg48rTuMQG1gTD53sLw1zxZIqA3V4yGkXokEEFVWEXsP8YgLKRjoW/ORyXBq24r2lyYGPcvYCYT+/d/dux33ZO3N1LjgAk63mGXmbdBXInlgNSQAAADBBnoZFESwj/wAAFrxObLXyoNYUy1ynF4+hkA3vAy7y4o+vJOznasAAACQfgussGjEAAAAxAZ6ldEf/AAAFHFJqX0+asgHRWucvr/AB+H0OapPmmFWl8MPqfm6AAAADAAHN6sIHHQAAADUBnqdqR/8AACO/Gs7a0wgZMdP1jP1svXbiH60gAP7HAYxnDQsYDzGOmwAAAwAAAwBPvZYNGAAAAItBmqxJqEFsmUwIZ//+nhAAAEVFBe9ZE1b4ZwDfURABygG1cayti1p00jqDES6TLP0GjgalRIbzKhAN0uh3jUpWDgpnFI5fMFXmMg2TIU2O6YgKUZ9bbmkTd20fNyM43kH16TDU6MO7W2VQSoER/7h8vgc7QsmJwAAAAwAAAwACjak11f00Zx5AAtAuAAAAS0GeykUVLCP/AAAWvE2lC3cnxNBKejmAlR2ErNLkvA82w9xzNxDNd56n8RSgSWGWyZcC5UrmX3tgCBcffHMAAAMAAAMANCd0MsB+QQAAAC0Bnul0R/8AAA1+E4oKZXXGigjHbFtMinnDCKszNFf7oLtnQAgAACX/n7LCA2YAAAAyAZ7rakf/AAAjsi17GrdEWPTP7pmgIhBB8zzTlLGEiij5YSBYAAADAAADABFv+PFUA/wAAABmQZrwSahBbJlMCGf//p4QAABFRQXxZEhJmE3nx5ixGRLN41tdPjwTZahEba5pz80Fo1ACdaFNbtBMBLfjoCse2ca1ll9xaJn3b8EEfiG7DJ5X9+rJMxPN8c5R7zmgto0Aizko0IuxAAAASkGfDkUVLCP/AAAWvE6d/adCoGIyaT0ROArNLAAnbWNcNB8fdUzmja3oXNxjcX4jZqiXPCoC4hstqwtz8hwAAAMABdwK9ATVVAPzAAAATQGfLXRH/wAADX4TD1s8hbsVJMD0qQoZxxBkVYRYbwRqsqSz7qIAEzDVVn82sqdr8Dg8wNLkfv9BsTrOlLI3agbX3vUjtNyg3zt8IEnBAAAAQwGfL2pH/wAAI7InW1S/n2ZyNhKCUKLiuRzenC++mz4sRoAGw1/IPmJFwphCzT9ru8qR+mrjudkllW0csDw+xw+EBxwAAAB0QZs0SahBbJlMCGf//p4QAABFRQg0AINJzGAxiQKO1sgAGtuu8vuQ2QrKTOSngc5ZAhKpIVE3J6tHTNo1rjhte0aUZ09nC1fcMz3DkpjGiubZ9KfNX88D4gQK2GdY6mR/ZyIZOWx3vC2zBV09SsZib52TU/gAAABjQZ9SRRUsI/8AABa8ULb25KphTBlNPW7wSidbe/cIGzZiNIo/ng4ZMnehmqLGUsVAhntY2JcVwyX7TLy4zMi8cjUR6VB8DRFRjKq2TaUFbSRFEUhhZnI7OKiZUl4wZ8QMsB+RAAAAPgGfcXRH/wAAJMNGfhqNhmWrGl9bVakFpfnlyMTHbo5dACY/G/dmRPyLEkzApvgK8d2NmM6uudwAROyrCBQQAAAASgGfc2pH/wAAJMe3pVDXpHASaDei7XQLx9amEEhtZZL1/aQJUrwACZM/PYPB+Jg2fr2uyW5KkeKhbmurYKJL60Bsb4A3QYTFUA/wAAAAhEGbeEmoQWyZTAhn//6eEAAARURadX+jkZnF4gQHUaDuiZr0ticwx5y1yjEUCks1aBAKH3Qyfn4HYswidWeNw+mY3BaCnCvNqpFyc+1wd0k3+f99Fr2hvmpjXsz0vF3xmT1K7/FwfVmBNsjwfup38a2gMpgVLhHPCIBW9dtV4AjQNyBvwQAAAE9Bn5ZFFSwj/wAAFruK3o4xzERWXAEECsFi03s5gUfW/VWKz94rICjgj9hQI6KuFX2vRxNb0YgnhXOUnFbL8PHrugAAAwAAAwArs+7aoCvgAAAARAGftXRH/wAAI5jKc3doSD1rKr4OKjbo0aU+em6up4S4E3dnSAEyZ5/DcrGIufdeD5HEYONMXa9JnsbNrb8su7olUB/hAAAAQQGft2pH/wAAI78Y09b2dKR9ha3NmFOD3zybVzIwVyGQAH34QQIeerAWCxSD0yymOJ7tSEbAHLnk7/ACOw/GmAi5AAAAu0GbvEmoQWyZTAhn//6eEAAAR0RaHsoXb6N4EDAur8OTVLRjPlXHFwJEOPP5UVJV14D2Wn6CuUHop6teKybPvO8ri5uZSlzes3O3EKfN9feRzVzfX4mpIAh4vXON0C/yGPdYc5ShuQd070Yf1TeBn4ttIOkX2X6k7+EDpg4NVhnBSEgAhhA5sN5I0r1xVt7d0MhQhES96BL65/pE+dyV2yuTJFJ210ovP06YrM/R2iTXLlo2eULHOw1OhuAAAABVQZ/aRRUsI/8AABdDR7cMlGlSV8afD6s//zuM2YVfwiH//0hjJdhgUN6BoDf3POgQPGxYz/LAoDbn+SoNmsC4oE+fVSUsg+SxHgAAAwACIenhWeEDewAAAFoBn/l0R/8AACTDF2iXJqiaB4AJHVuEUaNYgI1kTVkVnOhubrZbmiIPZolgqOjLkjfgCztZcbGNVrKsOTDpzog6io1lTNhvejkSYJAAAAMAAAMAboTG+jEAxYAAAABHAZ/7akf/AAAkvqoVJ4+u8nV/gAJ2V6pl3C8H22ky6MHSYrpbPs1vrY+Xhdh/r3/QPhOApqHPpX+UAdhYAAADAFWBPPfUA9MAAAB0QZvgSahBbJlMCGf//p4QAABHRFoLdeLADK/XPXHWaydvyKFv7NhYRcm0yWQQ5+k1VqdacNwtHMuLd4Kd0Y11OPsds+DvJ//fpAhwvFUZ5zAohary8PLr8ksAfIcL/woI8seCAQ576E3R8y9o3hwLzxfJyNkAAABKQZ4eRRUsI/8AABdDR/tq4f9pQDIMMOmqS1jru+CkCWxVtPj8LOlBy/XgBuM6KoOiMAUBTeUGIFI93perz3DTvUcSs+1WcgEGVswAAAAqAZ49dEf/AAANz0rb1lkwABdDbzlnhZCWlmiAsEO6Gv5ZrdwmAFziUwm1AAAASQGeP2pH/wAAJL71PdST81koDGJbDABwWbeyzcDns902xeCQH1zsVoFczgb955sEAIG9Qc/c8CY++Ax7Rt/dSuUImmUfkTtEmAUAAAB1QZokSahBbJlMCGf//p4QAABHVJevr5mJMSCAKzupLiFLsnazFUf25KgaSbhLJnrJ+mMU/QmJNUFCQ+HFhp+j2HojpasQ5wRBfXSYZvtHBI3pdIpz2UIE+4Ie9+seEIqtz3PVLAIXp8az544rwWv6V7wvEjCoAAAARkGeQkUVLCP/AAAXS4p3jPaeWBi3Izw8gANWfe9k3STkG22U/DxbwaXX4pM6LFhGA6zG2m9kmtDS4dGX3U/ubcjS95aeu18AAAA4AZ5hdEf/AAAkwxdlqF4tKSwkAC6iVrm0uODIxIZi6qopUyiJbsgCCUam7mUW9Cwoy+OVXJt1bUgAAAA9AZ5jakf/AAAkvvbikgBExcRKSDidqG0DiUszjnnUOAnTumyeRFgYUbMeQOy4s8fxBBUJ+vQS+PGg5uK9wQAAAGxBmmhJqEFsmUwIZ//+nhAAAEdQ3dcCmUhM+vlddbtyddZl/x0gA0VTxQW0teHco2tmboLB0tQWsQYJUANOwp5VIYO3q+/EOk0PC863FhMQ8D//P7mp4qo58d5GGu5qs38cumtTv9HMHF5znnkAAAA+QZ6GRRUsI/8AABdCrqvAFb7x2eTaaoAOaXjywY9OvgWYQyl6ygGVayMTK+AUFQHlb5O8k2Kx+dkcMlTJtSEAAAAsAZ6ldEf/AAAkt8vwh8UaaQTNTtTXv3oX1edx4tHYeraNNPbcTUc8Pa87G1MAAAAtAZ6nakf/AAAkkrrM4cM/5uvAmLtss5Famn5zscCUrhujcGaK47Ygx/NB3e1IAAAAXUGarEmoQWyZTAhn//6eEAAAR0OPbCbeUl46BztLC+YvoMbTsLlg68FoeJdIBQD94dQ5YMWxWz0ImxYpo2B/0N68O31WTYy+mkiyUAvX3y9lVq5LSfw3ROcQzcv+UAAAAEJBnspFFSwj/wAAF1AwtdI6CBgCuqV3IBRAQgPox616cwKwZA6kF6NZH2AXYxox2SliDLrDa5T0UTRrHUd9VRUHnXkAAABEAZ7pdEf/AAAkqepnauMl8RoML5R5YAC4n03KbDetwZyMSfQeXFpVCUs80XEPyFMIsP97+RuoYYfyH5mGnIIj0g81XakAAAAvAZ7rakf/AAAkrl/IRfGR11WAC3fxqfPw3xKG7AnYtCI8PfnU3rZcuIJKlM0tZFgAAABqQZrwSahBbJlMCGf//p4QAABHVJz9feZlgsTC7f6/2V5rgALBx4YH3PIWgfWL+rCo2KSZ0Bj8NKlYnVVhtxT9hy09cf+4pYDZuJ8bYotU2mrBBYEsONETiRqYchT9eXtMQqdAs9Mm9diAwQAAAFBBnw5FFSwj/wAAF1AwvGbeVzwfeFcCFl5lO+kt3jusoJyg/5sgEklcR4Iru6cLbsz3a+yUjcwbbfYEF7FEa+Zm4h9oV5yB1uRN6WlC2cyVNwAAADIBny10R/8AACSp6u7RPqrMVd8AFqwhMd90Pa7vpHJD6bLdfrZS+52VRxB5NBGXHc6XgQAAADsBny9qR/8AACQ7fmi5Gn6eQ0AFj/b9xnqKDJmaEwfnZsXdkKNl4cyFEhiSbscCWuEaUEWwY9/J6lAXggAAAGdBmzRJqEFsmUwIZ//+nhAAAElDjzkoPgABWf2zlF8ZHZb3Tb4PG9BhajAyyDaLPnor/ux/exojX2BHEhMaKyZyodwBLuwAv5nhszRJFmHuxLJb3dZ5auEoMo9QfPCU/tE3Zy9Je+2AAAAAV0GfUkUVLCP/AAAX4If5C5OCY70NSb+XaWFDkAD9zFFQlMDm0bBAH48OiPOZYd3HlEgesovS9q3jxRVXkrgWuWbwxhocHQGDbT7l8LTetmFzx5i0X+KGwQAAADEBn3F0R/8AACXDEecueTT+A0wW9AC2zzfI1dJ3loFgvHmYI0uigX9AaWZX65HLwx+mAAAANQGfc2pH/wAAJb71PhjFxI7FgU8IAV62SsTbvxZeyctSqo3FVg5psAAnY6GsIhWamqVC/oLAAAAAcEGbeEmoQWyZTAhf//6MsAAAShRQRlDggBpP++xhiQihj3RYPjP/HldZ9Y+8B/kVsqkHdNd2vjKTCAMo4T/w3/atlRpauWKQyY5DF3oeaS705a2PC/P7fF8pS/hKFbaGtOogPdiAK6wSX7CHM7uEqT0AAABCQZ+WRRUsI/8AABff6+i0Q40TCU9Q7eOzBIRMQKblpjc7QEXfwmHOm7nw7Ukr7rO9mGW9Hfke6I4/YRyUxI/fxCLAAAAAKAGftXRH/wAAJcCZ3elekZ7mg+uEj96SyAdTO3zj8Y/Vuzhy/avrleEAAAAsAZ+3akf/AAAlrl4zgXlDs+CLLpmtLA53j3paTszHrDwACH/PiuZ+nClGGUEAAABsQZu8SahBbJlMCF///oywAABKAT0UG/1tA6/8Ow0cyAJCxi4OMqxfSL1wyo+K4gSyuoxWIsYHEEc17YDdI9Zt3LGtyUHF8wrTvp2NMOn3GsWClHhJ/4WYydIJjoeI/0g9r2Hx0+kZiHHR5DQaAAAANUGf2kUVLCP/AAAX3+votEOFPyXPihVlCHF59oJtf0L4LSI09effJWibdXXSmQy2Spn4ez3XAAAAKwGf+XRH/wAAJcCZH87NNH0+8Q3ozXvwklp6ASQ4anwpVd3V8PGSI8HbWnAAAAAtAZ/7akf/AAAlrl4zgjHq/cum2K6tcWvtp0qC2aW5t9vspAMaYSprHUZPY7rBAAAAcEGb/kmoQWyZTBRML//+jLAAAEoB8n88CPhGczbxJFSwzLnv+RxUCP5kDJ+kzkFaqqECF6I1qj8e39BtT0NdQmL2HORRPoCoLAN10nRJB1ycLAs2QhQJFkhQY4MUuusVrN0yUXlc5Bb/dGftFqIt1REAAAA5AZ4dakf/AAAlrl/7X5FVQ6DlbWVLwBH/mIAW2GkFvv6EuUgMrWaX1QFGifngkbN9RgIzgXaXuUCAAAAAakGaAknhClJlMCF//oywAABMAV81Sh49RuSwhsg6RvkccGXk5HeDQyF4Ksh8OeupjdSJTXzFS3O03zABfAABwKsPzJCq0etvSjK2f0ujnpI2Qwd+F5XKA0ruUvs89jIdHrcl+K7ipHwzBewAAABHQZ4gRTRMI/8AABiJfMNgJ9D39G76orRKB1GbYvVmDLQsmd41T4FQ8hJH8lr9WnUobTXP19d3d8t9bPS9889SUiwJ9xrd58EAAAApAZ5fdEf/AAAlwJqhnoC1kmPOliZdzDyyLjuq7acd7EQHyztatLhEuoEAAAAwAZ5Bakf/AAAmvvU+Gp+X1XXkwVARoCA9IvhmJesJHS/aUAHxuGlrPaly5rwNHFadAAAAikGaREmoQWiZTBTwz/6eEAAAS0OQAQA6G8cF2EQTjJZPuEjnlB7eSvI1OXdizC/UOo2GXaNSSdRrpvwsjKtEssFtjN94GX6iA2OKpUz7DrXArm+3gH6HQ4oPoy2iMnSWM/ykU0kgIUL41OgQ1uvCmO857fZFyLy+7rmOsEUHEPUix5wJ2Anb9dHGsAAAAC8BnmNqR/8AACatXA6POCl+Tit8+pXdtcgRr6KKdHjXsFOH5xLJI0k+gfsAVdjR2wAAAHBBmmhJ4QpSZTAhn/6eEAAAS2QYvBxY/ssdHLIIknIiUvdYmVmljcYtXCQb2DUbzqhCiJ7b3Ibg+WFINH9+SvI44Bo3cLRnBi7Bl+C4QdH+oXpzlk10B1PN/7oGQPK0hSRIJJ9np4wtJuby7ksKcB5pAAAAQ0GehkU0TCP/AAAYiJthH121OXSS4N+Wo2522X8VdYs5uQQu800h3CrgXwATt3jbx4e/fM28cBekc6fsJGq6R6rCRqUAAAA2AZ6ldEf/AAAmwJnd6KY5qljRLqmyHVU6DjiWF6MedwlNk5hQngeySgCI7r1lCftSWbugDcj5AAAAPAGep2pH/wAAJpK6zN/E7VcG7g0OiuraskS9kevjp3LEKTMi3Oz/4LXI+eqxDAOyqnYf1wxNlRqD0exe0AAAAFxBmqxJqEFomUwIZ//+nhAAAEtQ9JrcuphZuhTo4EC0i+BkEFK30FAB8zwYmY2vSIr2xW+Gpx0EdM41MbAdaMKIdh/q1PnesussOSzBdHAA2AQHplKtqesA7D7nUAAAAEJBnspFESwj/wAAGH/sLzeqvnFYgUhJlK5gYAr+Apj4Si3Mn/RVUUIvhOizjhnoTN+nkoCdCEFVnI5SKwnumuX+gOUAAAA3AZ7pdEf/AAAmnrq000qZPnhMaZ+lM92KNgN202zr3NEI+EHyJdC7bAm8dViqE35YM5tEiVPKgAAAADEBnutqR/8AACauYAtXLvJEHeXKGirRgnR7Fd+NbK8OJsLJgHqMy8BpOITzIVjJg+7hAAAAckGa8EmoQWyZTAhn//6eEAAATUP33DoN9gAjI+2IQmtMe2DNNe3+LoL+YHAx4ZoUmUkOYYYDwF/E6n5gwk3VrFEwnmodrvpHzDKNNIBFq/DwtH6oYu4FV51zFGuOjmBaaV+HPyIAXeIQ3/wd5iece1mwQQAAAFZBnw5FFSwj/wAAGR9DVhveQEsC2VFYPYtL2u6eXsW4oiYcO8Qx+7maJg4v4eBGXOnXpA/CAOG6awH+E7uC/ld8XaIbdd2J73g/CPIFwWHfH2F/U3cj4QAAAD0Bny10R/8AACfeNOGCYJ9eDQl2RedqWIVec1iyhujhO16/Lpro3lylk0BXTdwbf1kcr8ntU1UDNW2dZQkhAAAAMwGfL2pH/wAAJ8VUfA2jqjVniaD19CYUa4GIhEYXpOHfFnNirsikxj2PENkeKx2seCs+2gAAAHtBmzRJqEFsmUwIX//+jLAAAE4BeLyQAjEXuVcYAqSJZMkdpegtgqJUXG+OvzyqoOzHrAVCVRw6b/M828cfakWAjemulRwpT4KmJgqd9hqPLjcqp+5xacuaEs31lVJrhKaoAbQxE2MKk+oyL+CfQuxXd5tjRsWQuyZFs6oAAABGQZ9SRRUsI/8AABkoYwcWBdb0kIF6sfZ9PZGOE8IfTBV1ChNz7YmENpWqCNLbieCAFq6lMzoueC0GwbutEfYIgy6BaVwDpwAAADgBn3F0R/8AACfanO1JW4Kkk6lItOKy0XiERfxiTyLJTSrOIz1oJnlP6XkxerDNsDfgiygNHinu4AAAADwBn3NqR/8AACenkA044rShzssZ5Ji4vV6i7Fpj8V2kbIP2SGlmiCHXArtuZCAgsETv853wtPbqsW4gdYAAAABtQZt3SahBbJlMCGf//p4QAABNekQCDgl+FNjda1QHrZpl12RlYIYK+lXZRRaBw9wbuGynStffN6FePHNlGjwpyjPP6KYyXOtmYf0/XvFrLBgAO0N/qalBjafhdJYVuQvAUeqlEqjcrS9Sy/kg2QAAAE1Bn5VFFSwj/wAAGS15hxwsTQePJO+lvkLzuXvHiBleq4rjthxdCKRCVaTAAh+EY6xoHS7FImpMWJBOsC2qCCW+kt3JjgwSNDQQfJ+C4AAAADEBn7ZqR/8AACfXM4fmzBRPBRgT1qya8Uy3aGQKeTcpJrVEyZx/Kj4YbAi9YBsOlXTBAAAAa0Gbu0moQWyZTAhn//6eEAAAT2ufGfWJorsAFSwwx+D2Zis3eWG5/Ciq+FqAM9b+iAkMwlOVvU7xTbr9Rk4g4293yMGX5Ecfeii8GaZ3M34cLD8bLdeuy1JDvf+/ZoA229IS/bbXnTu/dcALAAAAVUGf2UUVLCP/AAAZyHRbQopUsV1etXwYn1bTWSGFDmOTedA7WdAAN1BH7xxF+Gtn/vU6zHBx6sp8i74qEppEwkcPO+KNL4k4tmTOphLs4p/7ZN8u/TcAAAA2AZ/4dEf/AAAo+p2NYifd/4HZyHmcq2o1cjsJPNTAcDJJEOUxjixco5mL58F6R8pqkFmHDHerAAAAKAGf+mpH/wAAKOQZl8kIYSYXBB+WICsA+TPinEdTIBzxY5IDlwlLHHgAAABkQZv/SahBbJlMCGf//p4QAABPa592gAHFpVBI27e0mvnzBy5CtUFp5yMTbEKUptMasqNda7ba6hXgImfPhfW2a544fpvQLC+BC1AUnmQfzNjqrB35iieESojjE6MsBsjWSpQ7ewAAAD9Bnh1FFSwj/wAAGch0PZOt5ciu1UpPGPbqv22dcDAOwcQDASccwjrZXKqv/rXTjRLbtsUmcG6n3/0FPmFSa2EAAAA8AZ48dEf/AAAo+p0Yztf3MXABI63VDcNp6VUjsEYGxySPPonaBMF5gpZC6F0m7HzJD1JIM3Vx7pzxTODKAAAAOAGePmpH/wAAKOQZ+UBaqzmS6+2c9HzdG8BC/wNAAtZhLfU1Cmi0Jdk+EYPMGV390Y5Sat6/5nwIAAAAZUGaI0moQWyZTAhn//6eEAAAUauhLgSAFVtF2ggt82fEfSb/YxiJOk+Sex8MlOZZ1zaK+aAJ+yufQHvurG/0tn1dsoes9YC4ijC6KfGeKd+I48IbwYWVMZhdbQxAOqkb1i5K+yC5AAAAS0GeQUUVLCP/AAAaaHRsJ2GIydX0u7ASK489ccrH7HAEPdJHebKv75okgPirIg2ldQFTHBmLIC/kLZVUmQx/np7bcMp4PhnJHB9kHAAAADcBnmB0R/8AACoeM9xl5HmBWnrzt0Bpi4s8hTNvfxuFmXOwAe1mpwTHcs77F+jjX+ujvfbESzKBAAAAJgGeYmpH/wAAKgQZMA5cZJz4vKO983xp0coMPn5lqT0G6rnOVgyQAAAAkEGaZ0moQWyZTAhn//6eEAAAUelUEuSqABxkLcUTxCSzT372leeQGm4zivJDKC3IW7jDlrRbnxXknzzldMmr+dMehqff9XAJhwcOQqfmGZ+yCM7gYruLp7XE9vjKgUq3RtEgpuGxvyuW2DlpS2SimPsGSQgZ+W1BQbaVbsQ3oJTbxP+d/S5nsJYWYnFnsO31qQAAADJBnoVFFSwj/wAAGmh0bB/Hg7vuHc6qa6wZZzonMph2wAdmKdgDHe3Lfi5VezR+isO0kQAAACEBnqR0R/8AACoanO1JTVxJikwkaCWruqT3yyoERUvH8ZMAAABBAZ6makf/AAAqFzJNWmLFCPr8+g2ECy0AbC8E3q/hs9DAgsyaL/795rokIIgBMtEIdnxD4EV799oSxtwrG85YAW0AAABpQZqrSahBbJlMCF///oywAABUqkpEdGl6CUEhgAATjy7FbnuRVFB13Gpg16FhPDdkm5yKkzH+LGzaVs7imdAizZZLrK71CAxuLPYSmCqqQo91+SgUnJKsry3rvZuT1goGyXCPsZp9lzigAAAAO0GeyUUVLCP/AAAbCYbOHS+weDUsdYQAJmoAamsd8oV2eIVf7vbSJe0F88zH9k1XcTq9SghtUFdT6l3AAAAARgGe6HRH/wAAKf+fIIf5Ydtf1ACWLnU7DHAN0PbrRlAQBc4ZpZ3G+Zmt8lYpd2W8woE8wJWX+OLhtfzNUkVcgVmR0d+zckEAAAAuAZ7qakf/AAArNzNFVILmytFed17jFUlrvdJyp8siWQeYziRj7cv2oZEnp9LfwAAAAF9Bmu5JqEFsmUwIZ//+nhAAAFQihf5PgsMAiydkHcNQ7nOkrNw+ijdMrMhlM/VFtp8JVcXrF2vvtljwd+GDe8i6FKjYM3VAeJwD7l7ka2ol6p0lF3l6WFST+l5z/4ybVAAAAExBnwxFFSwj/wAAGwhWKeVzI5bLOR6HI7cwATI9HDR81sGF4z3V8MDJ6B6RM4C0vGBjWc70caSgEbzaa98adcE2hRgyhLm/LDFw61/BAAAARAGfLWpH/wAAKyQZMnDsXA+AjusSBFiPrKayHERQAlqnU10ymVjwk5cDRt3+vyPM+jIEAHknWi9hZEblFK4TLJhXKlX9AAAAe0GbMkmoQWyZTAhn//6eEAAAU+uy/JQAlky/UT6TdJqFBun4AaET9CYrcU5pUMSriTTuij+2rh/3xF0NZ54MI1yrL46tXnFVnCA8L3dGQPzrDSio54X1HZrghDlT/3CI0v3K9P84Ob9lzD1mdlj2uiCN9iL05ZYHpimZ/QAAAE5Bn1BFFSwj/wAAGv91Pqm3buTk9by6lSIMrabtCK0yF4drSu7xurf/SF/LY+cSnDrZzYRS//dvd/vkVWr13rTcPJ0cuHb5aG91U8UMD4AAAABDAZ9vdEf/AAArOp0oNaIiiUOEsAFxMJgGBIU+X6/UdYda+9ETiEcd7FE8DRDhe2wMSufHeqHV6zDaGI+v+V2CexApgAAAADwBn3FqR/8AACskGoT8ipHAL0qAC0ZcA7wHbNxlXVidkW00y3Q7i8NCcVJ1rg6pKJqOA7qDw8A5xjh7MOEAAACAQZt2SahBbJlMCGf//p4QAABWK7QfjgBF9gl8LHXYRlFcBPek7brVcZeNiNTCVrWdhPqzRlktQmB2Kp0+It7H6++kZqVsXf23DTSLh7R10qlrg5CXTUQ8Zab1wFtTyzdGX/7XdFu5nFThcHYk4yQDWCoABfo+2uUXenWfQqH3WSAAAABKQZ+URRUsI/8AABufdR0XpIARe8RxiQZ+Wy+p+xWJPA02bgmsze5f/U68x6MRb+sw5t4uVGbbo161pNAFNLPENwaE8eI7a76/nzAAAAA6AZ+zdEf/AAAsP6rB4hdHVHGq3iMDpLQmTB/EsocuU8+ABxuhT/cGio2nNp6lFymDn11vqDv2VQAJIQAAADcBn7VqR/8AACxEGe4fOcmUYXaCOBPmQH/uzL/rZg/LpZcqwIMAEHU6NW6ZaT2IvewuJvcv41lAAAAApEGbukmoQWyZTAhf//6MsAAAVupi9ZwAcb1CreLXGXTkwyMZd3Zrde3xP3u8JlINW8BeN+1PLO4m1h+oPphPQAenW+PtgCHnQlqNUHmqoSGCn5zVz81seS3mWRoJzSljK6FBVVGPeMKTf+SK0cnfUf5wCRKW5FSP8l5kP9zDpxN2n760HgHHiUQ8sLK76DGPJadEex1nZbeCReyvXwFZimKe5dahAAAAVEGf2EUVLCP/AAAbqHRnF157u8lkq9//+wY8b+Q+W0S4kgB0AksNa0pv72B3EU4R6Sk/3NdG9QDVd37RMeuol68RAFpnfp6n18etw+nS3j6UiScf4QAAAC8Bn/d0R/8AACxanShAe+/CPxHnAjRaC8LUm23qWcDdi5YY9zRzrPQa4S9q1O9rKAAAAEABn/lqR/8AACxEGopkUftv8eOa/uz9blMxsDekDweFsiCc1pOYXHAF+zkkkAH82gN90FtMATLCzHZRKEKi1wSTAAAAh0Gb/UmoQWyZTAhn//6eEAAAWHvRJQQARE8+6Q0Ng+ibHY2QCSV2L0kDnBM6uaxJdi4d40jljScf1fAN/g4Y1xXS4g8HAn1n6F0PsEJE3md9ZYYX+1ZWpwY4xLovheEMWC+cYIH6iH3FZCS81xa2Pg7OPOeM3p0VGXpVzhLBe2Bi5ZLroZbH8AAAAFBBnhtFFSwj/wAAHEyCe/gDl4UWGB1XGHQ+QmLYbGvaYr9lpEn8F0wd8mG2WX0q69QE3WHsPyMuLsIJ6QyqHAQ4zkXavkwLsIj4B6q0KR2xDwAAAEABnjxqR/8AAC13Mrqe0LCClfd7DLLKHv4uoD4DDRBw9t76qnEKgnhSrIAAP0Ry0w4EZ35naoAkBIn9nOt3foElAAAAkEGaIUmoQWyZTAhn//6eEAAAWGu6zyUALXEuj14LGXQTXpajssgDWstehj7v/1jp+odIv3lXurxGMIv7xfNSQsrS2DSavlpCXfUP5/s/q3x/Gp0UoDqDMtFr7Y+uS1ZPlUF1jNSm7dVyLcZtra8Oe+iohINTHtJd6kZSadHmYbF+3CEJRC18bmNTQzjYyJVc6gAAAFpBnl9FFSwj/wAAHEgJt9ZXY3LzmjRxGBUiJD7GapSyqxj03Y4arkXEWmSjwj01c96nDbO6VX6pIKGXDHZs4ABwYpkOygM3pGh8KvvW6kT+7X+oIt9ADSi1IIAAAAA6AZ5+dEf/AAAtX8GqSeqk+aRKWm61mp37DBAaHVshLcd12XAeMPeEnl6iqCDuAlL8l1SGUTdwGNVXgQAAADIBnmBqR/8AAC1kGql/dTEp7smTQMgSUPyZufVwjSZojba0xJK9oGCCsiFGE3Egi/KAQQAAAHZBmmVJqEFsmUwIZ//+nhAAAFrljdTks01YAT9B9UKBvZaITy1h8QsP6TueuDT7KgoVTW0rr4pGcmfv+aXobC/we0DOrUuyS6c/4TeM8gWVmjMYpnx3DnsI5Sx89tK9fDv9yBCko6Jv8JcCFknAh5rTEjao3fPPAAAARUGeg0UVLCP/AAAdBveOlYssuGtDSqp19vfDkLtWcaHvliK9DDwY7WpY9aFgAH8MfCVG7N2gpdQImPOJljgRSK5HkzqakAAAADgBnqJ0R/8AAC6anPeTdh1UuJnOSJQTrMYFVzldKlfia5dyR6VRdWbAAhrPcGp/IwWEyfqRV36oQQAAAE4BnqRqR/8AAC6XM0VUcxKn1NNe54lkkpeislJWx3JD/Zx9ZFkwoK8BsS1tod0E99hutKZrmgCZyfdASKWDRXZi6gA9i7OAdR7LAxRc1/EAAACYQZqpSahBbJlMCF///oywAABdsdtgKGeuEyjfQsqMymTXnjVGZl/h5+H3OTmtTxR8VvVDYVwU1aVBp/HcwLWS0XqvKuixNYeUIChHUXtRh4X6ygfbHOkdmGMtlV5bP0Sf8d00JnvgA+t7dfi3suX12n6GbHwELfm3iwHkjr6zjLnATdmTB44pRtAZC+VIDhD5H1ZLMLl+bw0AAABIQZ7HRRUsI/8AAB24gYvVsz9ecCdx3nsoKc4PIpIADbdCYp5V8OeUDGJUDPLsAqGCvQZkKbXmGjiTbrexVPbkZEcgg7e3ePLBAAAAPgGe5nRH/wAALpBQvhAwwi/ksP9p5WiDhcgwfZFOBZUuS1BA53Spe+Bjr2aBUgflVQAfb0sR1Q0hyTxx7ppBAAAAOwGe6GpH/wAAL9JRkUqY7+T43dpSx5YDUHhrGgSaaD4AHL4JRWq3i+afhW7RTEvPzIlrB3TDRTDQ6amAAAAAhkGa7UmoQWyZTAhf//6MsAAAXg6kQjogCPepQj2y15Gt5jSIX3x3EUs9Au6r86ET138WmoggrvHmZno69B7gZW7XR1AkkRYrj+vzvX+e6M3Fj6ByxzzXPnUZmG9bCINjoFWLmKNg5lR/ncmLcuTDThLvtmaGIP/jEnateI9fVGo8gycOPkEDAAAAQUGfC0UVLCP/AAAdrJBkgteaeDGFSrCmcJbsrOuQSeZqFQh5e+pQ51uF2ZxfdcVuZU+RCKDNPLFCF1fQP6ULLhJGAAAARgGfKnRH/wAAL7R/fXSczhpMrfmhG1RjGiSN4JulHqGZ1qtngzgxJM57NFQVZnIUFmubUHhBA/ciTSmNELJwlYqaxNnZ9FwAAABMAZ8sakf/AAAvpnwfIJX4ChEPEl0Is+xlrU0zL11lawvWLoHHMAK3yyOmLGAuuVyze4KplB6qVoWAsaU8AJNEyiI3ORvZo6AGH+c6YQAAAGNBmzBJqEFsmUwIX//+jLAAAGAWYjiprqHl23gDD5v3Hh/gG1LLZPy1gi65fnWxW58MoNgrGWhiq1fT8h03nT1ghSACoz9JCKFmA1cy5fvHuAJVqqkKIMGEHgEEddCMehmTTRMAAABUQZ9ORRUsI/8AAB5oersFNjjUD49lnr+AFDhe/cO1Z52CV+KKO8PUmQ/DB3hbNHHIAB78TynJ9Szz+rkK4mTRZTz1VJayS8Umh7WFBYqtID0r5nTBAAAASQGfb2pH/wAAMRI7YZMeGK6euoe9/J8NX+I7QvxNkHbHw/jjmWvuxqwCkpSbwVg7N3jkbZbqUuS2DABbgCqZsYn/dJls3w0m5qQAAABZQZt0SahBbJlMCF///oywAABgFniVtPWkZ2TIh/WW3+ZEe+HHXbCYgAFtS9nWUeW+DlUVBXdhTs29ux0HymWu4KQMuLNuDSb5thQX9z0uv4g96emRnrHm3iEAAABSQZ+SRRUsI/8AAB5Lkn4d9g1HaKQ8sJmoQxhqTtOJOpW30Gj4t/nsmIoe3Vku40d08AHYFmE002iMztkslMM1ku7J0sIIDeI+SmOtysmLmFMXgQAAAE0Bn7F0R/8AADDzjqgXZbnUwb0cc9a0u1yced/y+32RWKjuTKNLPp+0yi7EmWU8ZJDr1+VtwAAmPPhq3dD1cO34LGNWxiaYF5laZiRfwAAAADUBn7NqR/8AADDmJzVOyXqtmrTmANnpclW125NcF9b973aG9dIIdRBayAGM6hkSIEf1WTZboAAAAGxBm7dJqEFsmUwIX//+jLAAAGKpB0w+SxgGleud2EwotJ5ifK/N2Ulr4+880DLC+9p8AxUZHVC/EYV2IwWOhSxdGotJG/6OwngOnVR0dvBZpVT1sSXVtFAb7Osih8q3WbRLqDagAReTYlEiuIEAAAA9QZ/VRRUsI/8AAB8YersFODZxvUSSwQdMazMldhI82O9jISajS6ybAI8yp9wyqwxikvFfpghkkvVpWAIJwAAAAFIBn/ZqR/8AADI3F7b2YzOu930nV0gtwC+F8XmTdR6vt5frlEVN2TRPYMuTeYDVSBRHmVE4UYGW/tuHI9oCuvOcmVGW8gBYHJneqpR/yJD23ZOPAAAAlkGb+0moQWyZTAhf//6MsAAAZRZ+k811WcBAdNIAGmGXa1fwd9eQP9/FTSzUqAqKC20JcKHb3U0qAaDWPUl0xapJYq3ATqZoMuHwCMvO5Vj18cH16ggdbfUJ9Xb6oB3dX8lk0Ix0Dm1JuHLwrTxtNgBrZr2oEUKccWR2+n79C8HWIVuZKu79un6JA0qyTHSMGisuX3E9YQAAAFVBnhlFFSwj/wAAH8hyEVJgtmyWerP9VTDSkSs24t6q1PZFxjsbWjyjKHtDDOX9qBuYoQzB1layhgRGWvLAAJuuNhrwmYuWjROzF8nXubRdrzAtu38wAAAAOgGeOHRH/wAAMjOOxpMHVOR1vHT5hadyuG825Fx5lV1b1NLmK7abOVey13/QLTm87wACWAL2d4b/oRcAAABHAZ46akf/AAAzkjt98t1odQs3g7usa72IhnU4FzdBON4eihAYLmOXkL6uFa3iAPqCAAh//ZgLcgDF8Q1EPmeHssGXsda1v8AAAAChQZo9SahBbJlMFEwv//6MsAAAZQGq2WdmAFh8aWgpwyujVpak/NkXeeZxiTUgAQX4y29z4fAN2MShl7dBpRGTNd5WFb6GL1QC0No4cmghBpTbetOs+tvj87hfsBjQY844M/fUb91e+j+o3Y096Tiw1ybS3eyZLilcT61F/CJCW6feMaixXDd1IicfwKPvnecuDGXKU/ZfRZcmDMx/glPN3YEAAABWAZ5cakf/AAAzdxe29lkkR6EzKD+kr83F8hnJLLgmvPcIYEJjn4CeaaXUvWO1xt5z4wmEhAA++HvSjLszHdi8TDICUYD2beeGGep162w1kPufJ9eKkJ0AAACNQZpASeEKUmUwIX/+jLAAAGeWcpGOMnjAHMPD2B7b2TJfiBj2Ws/WjEC2dkF0T7kZtoaE2xhc26LUBcozORo94N5uAr4a802Whc31vsJmZwhdDn0F2hggRE6oO/OSRMG95cvdo8hXbe6OPPJx+CWRcE70TP+u2bBQc0p1jiuCBTLlJnEXDwbs+P3tUxQpAAAAP0GefkU0TCP/AAAgvIV/bNA4bS3zefWk4ndnngU+eU70Ebl4qBdipUPZBCGGow7cD8zPyNbo/Zx0rUwDKXMJwAAAAEgBnp9qR/8AADTSLLipYkDIRHQSxyRWa0r3uq2EEaSTv0IejS0WRt8cij+EtWWE/2dm8c4yX0xjlAAfAT+ChZvXM8BW9JGWl4EAAACBQZqESahBaJlMCE///fEAAAMD33EdGFMnlYAF+I6pq1o4HXL+5QcKPblI7b4VAOkjLh8GZIM7ExfttVLMHZj3OJDwwzSvdJjdXGOcKUejtsuFun75XGyXOFPCMwIy3GgKkqeJhW7VQgVNqBK1F6p+FKmDfvNjfysINd/Bg9YmbcOAAAAASkGeokURLCP/AAAhvClV4pCHuC+kgj4SmdYvBNgyV/iim5pqyjHdYH8BbZSoXz5Oybwf2b/rciN/45tDUXL160wIy9e7wAf/hUnBAAAARAGewXRH/wAANNF9OHkU6f2yfYzLCZg0oQAj/cVZ+2eC8HWRaD78Ko03SvqaTn0y9pF74MwPQnkYAPLFLaJbMdPcYdugAAAAQQGew2pH/wAANhIgQNv4fdCAA2OII0XiD7vbXD+QWGVRIk1ZXAtdjtHEm5HtK/Vx9tOggA4lyP5iSdwfm7XTHNhxAAAAYEGaxkmoQWyZTBRMI//94QAABkiDiZUvuIEZwJe9xnKq/KQjIEJtmDMUAHYTgJvhij345rYPYas8c6sH89tYdIetANrnW/pOuVfByy8jTjkk3GkX9RvfmCLkdehdRbo7wQAAADkBnuVqR/8AADX3n19tg5hzmVOSDCSzen5L91xQeNqBp91wEiVWZk2ycOM6yVGBrRSfiT5hqMEYH5kAAABxQZrpSeEKUmUwIR/94QAABmxUXTai8f8vRKl5IgC79rGkZNL1zC9jrwj0B1Ol+Fhw8a7szcBhXT4WAJRyK3FAE41uYdDKFMMBVBOnj+vSFnxN45kcCjG8D1F31huV8HG383r9AZ7kAJGbPKAmIq7i7nEAAABKQZ8HRTRMI/8AACK8hYZs0FGh8FG8/bWFzHqle3hldNmn9eJPkf7dy9Bd10WhenGkIPCojPZEse/yZ/0wYZQ4YyGszcq8a5qhycAAAAA/AZ8oakf/AAA3UjvvcwOlWzrXI8yRoD4opsr4jqMiMfQNsn+qWTRETlIWg0BW2wuIHkz30tJnWxU+rPzta07AAAAAWUGbK0moQWiZTBTwj/3hAAAGcBjkXmWIAOkVMaFfoAkmlVNfMGIt/MTkz6isZhV4Eq8iw3U++wGhDzSdsBbiWb39Z/c71oTwmkRs0WlaeJYmC6sHeSsqw9CpAAAAUwGfSmpH/wAANzeetvZaGnZn49cg2VV2askWQZGZRpOhe+0zkoHEwFZCemzfUga4E4gBLsvsOQoByirC/6mCkSh/yi6nmT4EwuDlf5ox2W56Jk0nAAAAVkGbTUnhClJlMFLH//yEAAAZt7ILNZ0I6F3ayjLYEe8dgOo3XHz/oSlf28Q6hm9B90t1RgIHOpw8xEsrZE6gd+vzQY/AFAEbkTphtsMZxlu1xdwKgH72AAAASgGfbGpH/wAAOLJj0/DQTTaul3UuJB8CBz/9bF6Z5vXcaPyNZlfIywBJD9HA+9XXoFTCjPJ9sHYd6kAJXQG1/XXq21W1V5XPHUrZAAAAaEGbbknhDomUwIR//eEAAAaUQjs8ADoDYR4NzFxn0mb7XEHHY0dhoJFv1+8lKJ1o0czqaZ91IhMUqoK/1qMWs2nxQbqr2dXg3WLZf9E2pniDNRc1Ha9ENIOa71PdwaanUNgfvxRtqqOnAAAAYkGbkEnhDyZTBRU8f/yEAAAZr/02r8p/aHQ/Zpj8ukQjbJiLGyqV7ctBJpPMARP1oXObCrQ/TYZKwriVHadACQd8AOdYo8qHl3e8bsDzdbxczdcBKQQgIH+CR08o0W4ElXeLAAAAPAGfr2pH/wAAOKwisDq+oX85ErIJet4GGdmJz+rFkPPTLOGTeqC2MmEtn+ehYJQIkQuvMN7vayYU72mTKgAAAFtBm7FJ4Q8mUwI///yEAAAZpNv5s4pQAsPQYUplMgCPu4XWE/eOP0cDEq67iG7+4q6/5U5mUAMdgeUM0hk9+1wF4ObylFC5QU+HFCQpA3KFW8R0D6Rc6HgXhCawAAAAPEGb0knhDyZTAhH//eEAAAaUSK8M2J6IOjlSnd7b/LAt/2LZHKp9fpsSd8C/twz93SZjmHfH8CMLkXYjXwAAAD9Bm/RJ4Q8mUwURPH/8hAAAGd9FE5exUC2ER6j51VtSjQCf/mfCLkCvTRubKlRpI31vipZYAhHO0GFBEikhL+AAAAAvAZ4Takf/AAA4n/BB5ze3FXjQ3KAwgnyP8/8kwgLvMBoASi0GF8LrlmaM1Hy6ABwAAAtPbW9vdgAAAGxtdmhkAAAAAAAAAAAAAAAAAAAD6AAADiQAAQAAAQAAAAAAAAAAAAAAAAEAAAAAAAAAAAAAAAAAAAABAAAAAAAAAAAAAAAAAABAAAAAAAAAAAAAAAAAAAAAAAAAAAAAAAAAAAAAAAAAAgAACnl0cmFrAAAAXHRraGQAAAADAAAAAAAAAAAAAAABAAAAAAAADiQAAAAAAAAAAAAAAAAAAAAAAAEAAAAAAAAAAAAAAAAAAAABAAAAAAAAAAAAAAAAAABAAAAAAlgAAAGQAAAAAAAkZWR0cwAAABxlbHN0AAAAAAAAAAEAAA4kAAACAAABAAAAAAnxbWRpYQAAACBtZGhkAAAAAAAAAAAAAAAAAAAyAAAAtQBVxAAAAAAALWhkbHIAAAAAAAAAAHZpZGUAAAAAAAAAAAAAAABWaWRlb0hhbmRsZXIAAAAJnG1pbmYAAAAUdm1oZAAAAAEAAAAAAAAAAAAAACRkaW5mAAAAHGRyZWYAAAAAAAAAAQAAAAx1cmwgAAAAAQAACVxzdGJsAAAAmHN0c2QAAAAAAAAAAQAAAIhhdmMxAAAAAAAAAAEAAAAAAAAAAAAAAAAAAAAAAlgBkABIAAAASAAAAAAAAAABAAAAAAAAAAAAAAAAAAAAAAAAAAAAAAAAAAAAAAAAAAAAGP//AAAAMmF2Y0MBZAAf/+EAGWdkAB+s2UCYM+XhAAADAAEAAAMAZA8YMZYBAAZo6+PLIsAAAAAYc3R0cwAAAAAAAAABAAAAtQAAAQAAAAAUc3RzcwAAAAAAAAABAAAAAQAABXhjdHRzAAAAAAAAAK0AAAABAAACAAAAAAEAAAUAAAAAAQAAAgAAAAABAAAAAAAAAAEAAAEAAAAAAQAABQAAAAABAAACAAAAAAEAAAAAAAAAAQAAAQAAAAABAAAFAAAAAAEAAAIAAAAAAQAAAAAAAAABAAABAAAAAAEAAAUAAAAAAQAAAgAAAAABAAAAAAAAAAEAAAEAAAAAAQAABQAAAAABAAACAAAAAAEAAAAAAAAAAQAAAQAAAAABAAAFAAAAAAEAAAIAAAAAAQAAAAAAAAABAAABAAAAAAEAAAUAAAAAAQAAAgAAAAABAAAAAAAAAAEAAAEAAAAAAQAABQAAAAABAAACAAAAAAEAAAAAAAAAAQAAAQAAAAABAAAFAAAAAAEAAAIAAAAAAQAAAAAAAAABAAABAAAAAAEAAAUAAAAAAQAAAgAAAAABAAAAAAAAAAEAAAEAAAAAAQAABQAAAAABAAACAAAAAAEAAAAAAAAAAQAAAQAAAAABAAAFAAAAAAEAAAIAAAAAAQAAAAAAAAABAAABAAAAAAEAAAUAAAAAAQAAAgAAAAABAAAAAAAAAAEAAAEAAAAAAQAABQAAAAABAAACAAAAAAEAAAAAAAAAAQAAAQAAAAABAAAFAAAAAAEAAAIAAAAAAQAAAAAAAAABAAABAAAAAAEAAAMAAAAAAQAAAQAAAAABAAAFAAAAAAEAAAIAAAAAAQAAAAAAAAABAAABAAAAAAEAAAMAAAAAAQAAAQAAAAABAAAFAAAAAAEAAAIAAAAAAQAAAAAAAAABAAABAAAAAAEAAAUAAAAAAQAAAgAAAAABAAAAAAAAAAEAAAEAAAAAAQAABQAAAAABAAACAAAAAAEAAAAAAAAAAQAAAQAAAAABAAAFAAAAAAEAAAIAAAAAAQAAAAAAAAABAAABAAAAAAEAAAQAAAAAAgAAAQAAAAABAAAFAAAAAAEAAAIAAAAAAQAAAAAAAAABAAABAAAAAAEAAAUAAAAAAQAAAgAAAAABAAAAAAAAAAEAAAEAAAAAAQAABQAAAAABAAACAAAAAAEAAAAAAAAAAQAAAQAAAAABAAAFAAAAAAEAAAIAAAAAAQAAAAAAAAABAAABAAAAAAEAAAUAAAAAAQAAAgAAAAABAAAAAAAAAAEAAAEAAAAAAQAABAAAAAACAAABAAAAAAEAAAUAAAAAAQAAAgAAAAABAAAAAAAAAAEAAAEAAAAAAQAABQAAAAABAAACAAAAAAEAAAAAAAAAAQAAAQAAAAABAAAFAAAAAAEAAAIAAAAAAQAAAAAAAAABAAABAAAAAAEAAAQAAAAAAgAAAQAAAAABAAAFAAAAAAEAAAIAAAAAAQAAAAAAAAABAAABAAAAAAEAAAUAAAAAAQAAAgAAAAABAAAAAAAAAAEAAAEAAAAAAQAABQAAAAABAAACAAAAAAEAAAAAAAAAAQAAAQAAAAABAAAFAAAAAAEAAAIAAAAAAQAAAAAAAAABAAABAAAAAAEAAAQAAAAAAgAAAQAAAAABAAAFAAAAAAEAAAIAAAAAAQAAAAAAAAABAAABAAAAAAEAAAQAAAAAAgAAAQAAAAABAAAFAAAAAAEAAAIAAAAAAQAAAAAAAAABAAABAAAAAAEAAAMAAAAAAQAAAQAAAAABAAAEAAAAAAIAAAEAAAAAAQAABQAAAAABAAACAAAAAAEAAAAAAAAAAQAAAQAAAAABAAADAAAAAAEAAAEAAAAAAQAABAAAAAACAAABAAAAAAEAAAMAAAAAAQAAAQAAAAABAAADAAAAAAEAAAEAAAAAAQAAAgAAAAABAAADAAAAAAEAAAEAAAAAAgAAAgAAAAABAAADAAAAAAEAAAEAAAAAHHN0c2MAAAAAAAAAAQAAAAEAAAC1AAAAAQAAAuhzdHN6AAAAAAAAAAAAAAC1AAAEXAAAANkAAABJAAAAMQAAADMAAACdAAAANAAAADUAAAA5AAAAjwAAAE8AAAAxAAAANgAAAGoAAABOAAAAUQAAAEcAAAB4AAAAZwAAAEIAAABOAAAAiAAAAFMAAABIAAAARQAAAL8AAABZAAAAXgAAAEsAAAB4AAAATgAAAC4AAABNAAAAeQAAAEoAAAA8AAAAQQAAAHAAAABCAAAAMAAAADEAAABhAAAARgAAAEgAAAAzAAAAbgAAAFQAAAA2AAAAPwAAAGsAAABbAAAANQAAADkAAAB0AAAARgAAACwAAAAwAAAAcAAAADkAAAAvAAAAMQAAAHQAAAA9AAAAbgAAAEsAAAAtAAAANAAAAI4AAAAzAAAAdAAAAEcAAAA6AAAAQAAAAGAAAABGAAAAOwAAADUAAAB2AAAAWgAAAEEAAAA3AAAAfwAAAEoAAAA8AAAAQAAAAHEAAABRAAAANQAAAG8AAABZAAAAOgAAACwAAABoAAAAQwAAAEAAAAA8AAAAaQAAAE8AAAA7AAAAKgAAAJQAAAA2AAAAJQAAAEUAAABtAAAAPwAAAEoAAAAyAAAAYwAAAFAAAABIAAAAfwAAAFIAAABHAAAAQAAAAIQAAABOAAAAPgAAADsAAACoAAAAWAAAADMAAABEAAAAiwAAAFQAAABEAAAAlAAAAF4AAAA+AAAANgAAAHoAAABJAAAAPAAAAFIAAACcAAAATAAAAEIAAAA/AAAAigAAAEUAAABKAAAAUAAAAGcAAABYAAAATQAAAF0AAABWAAAAUQAAADkAAABwAAAAQQAAAFYAAACaAAAAWQAAAD4AAABLAAAApQAAAFoAAACRAAAAQwAAAEwAAACFAAAATgAAAEgAAABFAAAAZAAAAD0AAAB1AAAATgAAAEMAAABdAAAAVwAAAFoAAABOAAAAbAAAAGYAAABAAAAAXwAAAEAAAABDAAAAMwAAABRzdGNvAAAAAAAAAAEAAAAwAAAAYnVkdGEAAABabWV0YQAAAAAAAAAhaGRscgAAAAAAAAAAbWRpcmFwcGwAAAAAAAAAAAAAAAAtaWxzdAAAACWpdG9vAAAAHWRhdGEAAAABAAAAAExhdmY1Ny44My4xMDA=\" type=\"video/mp4\" />\n",
              "             </video>"
            ],
            "text/plain": [
              "<IPython.core.display.HTML object>"
            ]
          },
          "metadata": {
            "tags": []
          }
        }
      ]
    },
    {
      "cell_type": "code",
      "metadata": {
        "colab": {
          "background_save": true
        },
        "id": "7K_BcwRwUeLw"
      },
      "source": [
        ""
      ],
      "execution_count": null,
      "outputs": []
    }
  ]
}