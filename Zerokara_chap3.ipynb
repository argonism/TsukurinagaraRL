{
  "nbformat": 4,
  "nbformat_minor": 0,
  "metadata": {
    "colab": {
      "name": "Zerokara-chap3.ipynb",
      "provenance": [],
      "collapsed_sections": [],
      "authorship_tag": "ABX9TyOmdW5RKf5c+1kMxtzdoAQO",
      "include_colab_link": true
    },
    "kernelspec": {
      "name": "python3",
      "display_name": "Python 3"
    }
  },
  "cells": [
    {
      "cell_type": "markdown",
      "metadata": {
        "id": "view-in-github",
        "colab_type": "text"
      },
      "source": [
        "<a href=\"https://colab.research.google.com/github/argonism/TsukurinagaraRL/blob/master/Zerokara_chap3.ipynb\" target=\"_parent\"><img src=\"https://colab.research.google.com/assets/colab-badge.svg\" alt=\"Open In Colab\"/></a>"
      ]
    },
    {
      "cell_type": "markdown",
      "metadata": {
        "id": "PSgWc1SDoXPv"
      },
      "source": [
        "# colabでgymを使うための設定"
      ]
    },
    {
      "cell_type": "code",
      "metadata": {
        "id": "D7dt1XuFEJAu"
      },
      "source": [
        "# 使用するパッケージのインストール\n",
        "# gym==0.17.2 pyvirtualdisplay==1.3.2\n",
        "# xvfb=2:1.19.6-1ubuntu4.4 python-opengl=3.1.0+dfsg-1 ffmpeg=7:3.4.8-0ubuntu0.2\n",
        "# JSAnimation==0.1\n",
        "!pip install gym pyvirtualdisplay > /dev/null 2>&1\n",
        "!apt-get install -y xvfb python-opengl ffmpeg > /dev/null 2>&1\n",
        "!pip install JSAnimation > /dev/null 2>&1"
      ],
      "execution_count": null,
      "outputs": []
    },
    {
      "cell_type": "markdown",
      "metadata": {
        "id": "4t-Lsfhpoank"
      },
      "source": [
        "わからないところ\n",
        "- Q関数とQテーブルの違い\n",
        "  - 多分同じ"
      ]
    },
    {
      "cell_type": "code",
      "metadata": {
        "id": "HBu72X4G2364"
      },
      "source": [
        "# 使用するパッケージの宣言\n",
        "import numpy as np\n",
        "import matplotlib\n",
        "import matplotlib.pyplot as plt\n",
        "%matplotlib inline\n",
        "import gym\n",
        "from gym.wrappers import Monitor\n",
        "\n",
        "ENV = 'CartPole-v0'\n",
        "NUM_DIZITIZED = 6\n"
      ],
      "execution_count": null,
      "outputs": []
    },
    {
      "cell_type": "code",
      "metadata": {
        "id": "R0nEdB9u2367"
      },
      "source": [
        "# 動画の描画関数の宣言\n",
        "import glob\n",
        "import io\n",
        "import os\n",
        "import base64\n",
        "from JSAnimation.IPython_display import display_animation\n",
        "from matplotlib import animation\n",
        "from IPython import display as ipythondisplay\n",
        "from IPython.display import HTML\n",
        "from pyvirtualdisplay import Display\n",
        "\n",
        "display = Display(visible=0, size=(640, 400))\n",
        "display.start()\n",
        "\n",
        "def show_video():\n",
        "  mp4list = glob.glob('video/*.mp4')\n",
        "  if len(mp4list) > 0:\n",
        "    mp4 = mp4list[0]\n",
        "    video = io.open(mp4, 'r+b').read()\n",
        "    encoded = base64.b64encode(video)\n",
        "    ipythondisplay.display(HTML(data='''<video alt=\"test\" autoplay \n",
        "                loop controls style=\"height: 400px;\">\n",
        "                <source src=\"data:video/mp4;base64,{0}\" type=\"video/mp4\" />\n",
        "             </video>'''.format(encoded.decode('ascii'))))\n",
        "  else: \n",
        "    print(\"Could not find video\")\n",
        "    \n",
        "def reset_video():\n",
        "  mp4list = glob.glob('video/*.mp4')\n",
        "  for mp4 in mp4list:\n",
        "    os.remove(mp4)\n",
        "\n",
        "def wrap_env(env):\n",
        "  env = Monitor(env, './video', force=True, video_callable=(lambda ep: ep % 100 == 0))\n",
        "  reset_video()\n",
        "  return env"
      ],
      "execution_count": null,
      "outputs": []
    },
    {
      "cell_type": "code",
      "metadata": {
        "id": "Do2jKY9R236-"
      },
      "source": [
        "# CartPoleをランダムに動かす\n",
        "env = wrap_env(gym.make(ENV))\n",
        "observation = env.reset()  # 最初に環境のresetが必要\n",
        "for step in range(0, 200):\n",
        "    action = np.random.choice(2)  # 0(カートを左に押す), 1(カートを右に押す)をランダムに返す\n",
        "    env.render()\n",
        "    observation, reward, done, info = env.step(action)  # actionを実行する\n",
        "    if done:\n",
        "      break\n",
        "env.close()"
      ],
      "execution_count": null,
      "outputs": []
    },
    {
      "cell_type": "code",
      "metadata": {
        "colab": {
          "base_uri": "https://localhost:8080/",
          "height": 421
        },
        "id": "LreSo2oNYQCH",
        "outputId": "a211b85b-83df-48c0-db31-667b51a7788a"
      },
      "source": [
        "show_video()"
      ],
      "execution_count": null,
      "outputs": [
        {
          "output_type": "display_data",
          "data": {
            "text/html": [
              "<video alt=\"test\" autoplay \n",
              "                loop controls style=\"height: 400px;\">\n",
              "                <source src=\"data:video/mp4;base64,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\" type=\"video/mp4\" />\n",
              "             </video>"
            ],
            "text/plain": [
              "<IPython.core.display.HTML object>"
            ]
          },
          "metadata": {
            "tags": []
          }
        }
      ]
    },
    {
      "cell_type": "markdown",
      "metadata": {
        "id": "_Ht__0MyMo4T"
      },
      "source": [
        "## 離散化の閾値を求める\n",
        "\n",
        "bins(-2.4, 2.4, 6) のとき、\n",
        "\n",
        "[-1.6, -0.8,  0. ,  0.8,  1.6]\n",
        "\n",
        "となる。\n",
        "\n",
        "こうすると、インデックスを用いて（0, 1, 2, 3, 4, 5)という離散値を割り当てられる。\n",
        "\n"
      ]
    },
    {
      "cell_type": "code",
      "metadata": {
        "colab": {
          "base_uri": "https://localhost:8080/"
        },
        "id": "Wo9f7Jz8JRdv",
        "outputId": "9be676f5-e9b3-4e8a-a49f-f508ab6b6207"
      },
      "source": [
        "def bins(clip_min, clip_max, num):\n",
        "  return np.linspace(clip_min, clip_max, num + 1)[1:-1]\n",
        "\n",
        "bins(-2.4, 2.4, 6)"
      ],
      "execution_count": null,
      "outputs": [
        {
          "output_type": "execute_result",
          "data": {
            "text/plain": [
              "array([-1.6, -0.8,  0. ,  0.8,  1.6])"
            ]
          },
          "metadata": {
            "tags": []
          },
          "execution_count": 6
        }
      ]
    },
    {
      "cell_type": "markdown",
      "metadata": {
        "id": "a-xoBnRnYUYW"
      },
      "source": [
        "# 離散値に変換\n",
        "\n",
        "$cartPos * 6^0 + cartV * 6^1 + poleAngle * 6^2 + poleV * 6^3$"
      ]
    },
    {
      "cell_type": "code",
      "metadata": {
        "id": "dIrgA1CQN4mr"
      },
      "source": [
        "def digitize_state(observation):\n",
        "  cart_pos, cart_v, pole_angle, pole_v = observation\n",
        "  digitized = [\n",
        "               np.digitize(cart_pos, bins=bins(-2.4, 2.4, NUM_DIZITIZED)),\n",
        "               np.digitize(cart_v, bins=bins(-3.0, 3.0, NUM_DIZITIZED)),\n",
        "               np.digitize(pole_angle, bins=bins(-0.5, 0.5, NUM_DIZITIZED)),\n",
        "               np.digitize(pole_v, bins=bins(-2.0, 2.0, NUM_DIZITIZED))\n",
        "  ]\n",
        "  return sum([x * (NUM_DIZITIZED**i) for i, x in enumerate(digitized)])"
      ],
      "execution_count": null,
      "outputs": []
    },
    {
      "cell_type": "code",
      "metadata": {
        "id": "cH9WnaHHO6pp"
      },
      "source": [
        "GAMMA = 0.99\n",
        "ETA = 0.5\n",
        "MAX_STEPS = 200\n",
        "NUM_EPISODES = 1000"
      ],
      "execution_count": null,
      "outputs": []
    },
    {
      "cell_type": "markdown",
      "metadata": {
        "id": "jartxLacxphy"
      },
      "source": [
        "# Brain"
      ]
    },
    {
      "cell_type": "code",
      "metadata": {
        "id": "U353zZnDxsU3"
      },
      "source": [
        "class Brain:\n",
        "  def __init__(self, num_states, num_actions):\n",
        "    self.num_actions = num_actions\n",
        "    self.q_table = np.random.uniform(low=0, high=1, size=(NUM_DIZITIZED**num_states, num_actions))\n",
        "\n",
        "  def bins(self, clip_min, clip_max, num):\n",
        "    return np.linspace(clip_min, clip_max, num+1)[1:-1]\n",
        "  \n",
        "  def digitize_state(self, observation):\n",
        "    cart_pos, cart_v, pole_angle, pole_v = observation\n",
        "    digitized = [\n",
        "                np.digitize(cart_pos, bins=bins(-2.4, 2.4, NUM_DIZITIZED)),\n",
        "                np.digitize(cart_v, bins=bins(-3.0, 3.0, NUM_DIZITIZED)),\n",
        "                np.digitize(pole_angle, bins=bins(-0.5, 0.5, NUM_DIZITIZED)),\n",
        "                np.digitize(pole_v, bins=bins(-2.0, 2.0, NUM_DIZITIZED))\n",
        "    ]\n",
        "    return sum([x * (NUM_DIZITIZED**i) for i, x in enumerate(digitized)])\n",
        "  \n",
        "  def update_Q_table(self, observation, action, reward, observation_next):\n",
        "    state = self.digitize_state(observation)\n",
        "    state_next = self.digitize_state(observation_next)\n",
        "    Max_Q_next = max(self.q_table[state_next][:])\n",
        "    self.q_table[state, action] = self.q_table[state, action] + ETA * (reward + GAMMA * Max_Q_next - self.q_table[state, action])\n",
        "\n",
        "  # e-greedy法で少しずつランダム性を排除\n",
        "  def decide_action(self, observation, episode):\n",
        "    state = self.digitize_state(observation)\n",
        "    epsilon = 0.5 * (1 / (episode + 1))\n",
        "\n",
        "    if epsilon <= np.random.uniform(0, 1):\n",
        "      action = np.argmax(self.q_table[state][:])\n",
        "    else:\n",
        "      action = np.random.choice(self.num_actions)\n",
        "    return action\n"
      ],
      "execution_count": null,
      "outputs": []
    },
    {
      "cell_type": "markdown",
      "metadata": {
        "id": "cI1NzcCSyMQ2"
      },
      "source": [
        "# Agent"
      ]
    },
    {
      "cell_type": "code",
      "metadata": {
        "id": "-z72TNN2xJ3-"
      },
      "source": [
        "class Agent:\n",
        "  def __init__(self, num_states, num_actions):\n",
        "    self.brain = Brain(num_states, num_actions)\n",
        "  \n",
        "  def update_Q_function(self, observation, action, reward, observation_next):\n",
        "    self.brain.update_Q_table(observation, action, reward, observation_next)\n",
        "  \n",
        "  def get_action(self, observation, step):\n",
        "    action = self.brain.decide_action(observation, step)\n",
        "    return action\n"
      ],
      "execution_count": null,
      "outputs": []
    },
    {
      "cell_type": "code",
      "metadata": {
        "id": "DM-U8lZS3Fhe"
      },
      "source": [
        "class Environment:\n",
        "  def __init__(self):\n",
        "    self.env = wrap_env(gym.make(ENV))\n",
        "    num_states = self.env.observation_space.shape[0]\n",
        "    num_actions = self.env.action_space.n\n",
        "\n",
        "    self.agent = Agent(num_states, num_actions)\n",
        "  \n",
        "  def run(self):\n",
        "    complete_episodes = 0\n",
        "    is_episode_final = False\n",
        "\n",
        "    for episode in range(NUM_EPISODES):\n",
        "      observation = self.env.reset()\n",
        "\n",
        "      for step in range(MAX_STEPS):\n",
        "        \n",
        "        action = self.agent.get_action(observation, episode)\n",
        "\n",
        "        observation_next, _, done, _ = self.env.step(action)\n",
        "\n",
        "        if done:\n",
        "          if step < 195:\n",
        "            reward = -1\n",
        "            complete_episodes = 0\n",
        "          else:\n",
        "            reward = 1\n",
        "            complete_episodes += 1\n",
        "        else:\n",
        "          reward = 0\n",
        "        \n",
        "        self.agent.update_Q_function(observation, action, reward, observation_next)\n",
        "\n",
        "        observation = observation_next\n",
        "\n",
        "        if done:\n",
        "          print(f'{episode} Episode: Finished after {step + 1} time steps')\n",
        "          break\n",
        "        \n",
        "      if is_episode_final is True:\n",
        "        show_video()\n",
        "        break\n",
        "      \n",
        "      if complete_episodes >= 10:\n",
        "        print('10回連続成功')\n",
        "        is_episode_final = True"
      ],
      "execution_count": null,
      "outputs": []
    },
    {
      "cell_type": "code",
      "metadata": {
        "colab": {
          "base_uri": "https://localhost:8080/",
          "height": 1000
        },
        "id": "tGl35LS4IOYs",
        "outputId": "d3820f1b-f89d-4cbc-bc27-4af2982300be"
      },
      "source": [
        "cartpole_env = Environment()\n",
        "cartpole_env.run()"
      ],
      "execution_count": null,
      "outputs": [
        {
          "output_type": "stream",
          "text": [
            "0 Episode: Finished after 17 time steps\n",
            "1 Episode: Finished after 13 time steps\n",
            "2 Episode: Finished after 12 time steps\n",
            "3 Episode: Finished after 33 time steps\n",
            "4 Episode: Finished after 16 time steps\n",
            "5 Episode: Finished after 50 time steps\n",
            "6 Episode: Finished after 17 time steps\n",
            "7 Episode: Finished after 10 time steps\n",
            "8 Episode: Finished after 33 time steps\n",
            "9 Episode: Finished after 32 time steps\n",
            "10 Episode: Finished after 95 time steps\n",
            "11 Episode: Finished after 140 time steps\n",
            "12 Episode: Finished after 46 time steps\n",
            "13 Episode: Finished after 74 time steps\n",
            "14 Episode: Finished after 14 time steps\n",
            "15 Episode: Finished after 102 time steps\n",
            "16 Episode: Finished after 68 time steps\n",
            "17 Episode: Finished after 35 time steps\n",
            "18 Episode: Finished after 90 time steps\n",
            "19 Episode: Finished after 48 time steps\n",
            "20 Episode: Finished after 114 time steps\n",
            "21 Episode: Finished after 19 time steps\n",
            "22 Episode: Finished after 9 time steps\n",
            "23 Episode: Finished after 11 time steps\n",
            "24 Episode: Finished after 15 time steps\n",
            "25 Episode: Finished after 15 time steps\n",
            "26 Episode: Finished after 34 time steps\n",
            "27 Episode: Finished after 36 time steps\n",
            "28 Episode: Finished after 9 time steps\n",
            "29 Episode: Finished after 36 time steps\n",
            "30 Episode: Finished after 76 time steps\n",
            "31 Episode: Finished after 67 time steps\n",
            "32 Episode: Finished after 30 time steps\n",
            "33 Episode: Finished after 77 time steps\n",
            "34 Episode: Finished after 68 time steps\n",
            "35 Episode: Finished after 66 time steps\n",
            "36 Episode: Finished after 55 time steps\n",
            "37 Episode: Finished after 63 time steps\n",
            "38 Episode: Finished after 19 time steps\n",
            "39 Episode: Finished after 9 time steps\n",
            "40 Episode: Finished after 12 time steps\n",
            "41 Episode: Finished after 13 time steps\n",
            "42 Episode: Finished after 10 time steps\n",
            "43 Episode: Finished after 56 time steps\n",
            "44 Episode: Finished after 135 time steps\n",
            "45 Episode: Finished after 171 time steps\n",
            "46 Episode: Finished after 200 time steps\n",
            "47 Episode: Finished after 26 time steps\n",
            "48 Episode: Finished after 28 time steps\n",
            "49 Episode: Finished after 200 time steps\n",
            "50 Episode: Finished after 155 time steps\n",
            "51 Episode: Finished after 97 time steps\n",
            "52 Episode: Finished after 43 time steps\n",
            "53 Episode: Finished after 123 time steps\n",
            "54 Episode: Finished after 22 time steps\n",
            "55 Episode: Finished after 73 time steps\n",
            "56 Episode: Finished after 46 time steps\n",
            "57 Episode: Finished after 54 time steps\n",
            "58 Episode: Finished after 49 time steps\n",
            "59 Episode: Finished after 52 time steps\n",
            "60 Episode: Finished after 153 time steps\n",
            "61 Episode: Finished after 200 time steps\n",
            "62 Episode: Finished after 200 time steps\n",
            "63 Episode: Finished after 161 time steps\n",
            "64 Episode: Finished after 184 time steps\n",
            "65 Episode: Finished after 161 time steps\n",
            "66 Episode: Finished after 200 time steps\n",
            "67 Episode: Finished after 47 time steps\n",
            "68 Episode: Finished after 200 time steps\n",
            "69 Episode: Finished after 200 time steps\n",
            "70 Episode: Finished after 200 time steps\n",
            "71 Episode: Finished after 150 time steps\n",
            "72 Episode: Finished after 133 time steps\n",
            "73 Episode: Finished after 190 time steps\n",
            "74 Episode: Finished after 110 time steps\n",
            "75 Episode: Finished after 41 time steps\n",
            "76 Episode: Finished after 65 time steps\n",
            "77 Episode: Finished after 9 time steps\n",
            "78 Episode: Finished after 131 time steps\n",
            "79 Episode: Finished after 200 time steps\n",
            "80 Episode: Finished after 22 time steps\n",
            "81 Episode: Finished after 194 time steps\n",
            "82 Episode: Finished after 54 time steps\n",
            "83 Episode: Finished after 53 time steps\n",
            "84 Episode: Finished after 101 time steps\n",
            "85 Episode: Finished after 61 time steps\n",
            "86 Episode: Finished after 125 time steps\n",
            "87 Episode: Finished after 102 time steps\n",
            "88 Episode: Finished after 134 time steps\n",
            "89 Episode: Finished after 200 time steps\n",
            "90 Episode: Finished after 200 time steps\n",
            "91 Episode: Finished after 200 time steps\n",
            "92 Episode: Finished after 90 time steps\n",
            "93 Episode: Finished after 84 time steps\n",
            "94 Episode: Finished after 49 time steps\n",
            "95 Episode: Finished after 65 time steps\n",
            "96 Episode: Finished after 72 time steps\n",
            "97 Episode: Finished after 200 time steps\n",
            "98 Episode: Finished after 23 time steps\n",
            "99 Episode: Finished after 200 time steps\n",
            "100 Episode: Finished after 99 time steps\n",
            "101 Episode: Finished after 36 time steps\n",
            "102 Episode: Finished after 180 time steps\n",
            "103 Episode: Finished after 68 time steps\n",
            "104 Episode: Finished after 71 time steps\n",
            "105 Episode: Finished after 103 time steps\n",
            "106 Episode: Finished after 177 time steps\n",
            "107 Episode: Finished after 149 time steps\n",
            "108 Episode: Finished after 200 time steps\n",
            "109 Episode: Finished after 75 time steps\n",
            "110 Episode: Finished after 165 time steps\n",
            "111 Episode: Finished after 100 time steps\n",
            "112 Episode: Finished after 151 time steps\n",
            "113 Episode: Finished after 46 time steps\n",
            "114 Episode: Finished after 175 time steps\n",
            "115 Episode: Finished after 143 time steps\n",
            "116 Episode: Finished after 41 time steps\n",
            "117 Episode: Finished after 200 time steps\n",
            "118 Episode: Finished after 86 time steps\n",
            "119 Episode: Finished after 136 time steps\n",
            "120 Episode: Finished after 139 time steps\n",
            "121 Episode: Finished after 130 time steps\n",
            "122 Episode: Finished after 72 time steps\n",
            "123 Episode: Finished after 129 time steps\n",
            "124 Episode: Finished after 93 time steps\n",
            "125 Episode: Finished after 117 time steps\n",
            "126 Episode: Finished after 145 time steps\n",
            "127 Episode: Finished after 119 time steps\n",
            "128 Episode: Finished after 116 time steps\n",
            "129 Episode: Finished after 88 time steps\n",
            "130 Episode: Finished after 112 time steps\n",
            "131 Episode: Finished after 48 time steps\n",
            "132 Episode: Finished after 52 time steps\n",
            "133 Episode: Finished after 43 time steps\n",
            "134 Episode: Finished after 120 time steps\n",
            "135 Episode: Finished after 130 time steps\n",
            "136 Episode: Finished after 115 time steps\n",
            "137 Episode: Finished after 151 time steps\n",
            "138 Episode: Finished after 163 time steps\n",
            "139 Episode: Finished after 125 time steps\n",
            "140 Episode: Finished after 200 time steps\n",
            "141 Episode: Finished after 200 time steps\n",
            "142 Episode: Finished after 124 time steps\n",
            "143 Episode: Finished after 199 time steps\n",
            "144 Episode: Finished after 163 time steps\n",
            "145 Episode: Finished after 200 time steps\n",
            "146 Episode: Finished after 200 time steps\n",
            "147 Episode: Finished after 200 time steps\n",
            "148 Episode: Finished after 163 time steps\n",
            "149 Episode: Finished after 67 time steps\n",
            "150 Episode: Finished after 23 time steps\n",
            "151 Episode: Finished after 36 time steps\n",
            "152 Episode: Finished after 51 time steps\n",
            "153 Episode: Finished after 34 time steps\n",
            "154 Episode: Finished after 23 time steps\n",
            "155 Episode: Finished after 47 time steps\n",
            "156 Episode: Finished after 20 time steps\n",
            "157 Episode: Finished after 23 time steps\n",
            "158 Episode: Finished after 66 time steps\n",
            "159 Episode: Finished after 22 time steps\n",
            "160 Episode: Finished after 24 time steps\n",
            "161 Episode: Finished after 26 time steps\n",
            "162 Episode: Finished after 200 time steps\n",
            "163 Episode: Finished after 200 time steps\n",
            "164 Episode: Finished after 111 time steps\n",
            "165 Episode: Finished after 73 time steps\n",
            "166 Episode: Finished after 200 time steps\n",
            "167 Episode: Finished after 200 time steps\n",
            "168 Episode: Finished after 200 time steps\n",
            "169 Episode: Finished after 200 time steps\n",
            "170 Episode: Finished after 100 time steps\n",
            "171 Episode: Finished after 200 time steps\n",
            "172 Episode: Finished after 200 time steps\n",
            "173 Episode: Finished after 200 time steps\n",
            "174 Episode: Finished after 191 time steps\n",
            "175 Episode: Finished after 34 time steps\n",
            "176 Episode: Finished after 200 time steps\n",
            "177 Episode: Finished after 200 time steps\n",
            "178 Episode: Finished after 200 time steps\n",
            "179 Episode: Finished after 155 time steps\n",
            "180 Episode: Finished after 200 time steps\n",
            "181 Episode: Finished after 200 time steps\n",
            "182 Episode: Finished after 200 time steps\n",
            "183 Episode: Finished after 28 time steps\n",
            "184 Episode: Finished after 200 time steps\n",
            "185 Episode: Finished after 150 time steps\n",
            "186 Episode: Finished after 143 time steps\n",
            "187 Episode: Finished after 200 time steps\n",
            "188 Episode: Finished after 200 time steps\n",
            "189 Episode: Finished after 83 time steps\n",
            "190 Episode: Finished after 200 time steps\n",
            "191 Episode: Finished after 200 time steps\n",
            "192 Episode: Finished after 200 time steps\n",
            "193 Episode: Finished after 200 time steps\n",
            "194 Episode: Finished after 200 time steps\n",
            "195 Episode: Finished after 93 time steps\n",
            "196 Episode: Finished after 12 time steps\n",
            "197 Episode: Finished after 74 time steps\n",
            "198 Episode: Finished after 15 time steps\n",
            "199 Episode: Finished after 200 time steps\n",
            "200 Episode: Finished after 83 time steps\n",
            "201 Episode: Finished after 112 time steps\n",
            "202 Episode: Finished after 55 time steps\n",
            "203 Episode: Finished after 20 time steps\n",
            "204 Episode: Finished after 29 time steps\n",
            "205 Episode: Finished after 34 time steps\n",
            "206 Episode: Finished after 82 time steps\n",
            "207 Episode: Finished after 130 time steps\n",
            "208 Episode: Finished after 200 time steps\n",
            "209 Episode: Finished after 109 time steps\n",
            "210 Episode: Finished after 200 time steps\n",
            "211 Episode: Finished after 200 time steps\n",
            "212 Episode: Finished after 200 time steps\n",
            "213 Episode: Finished after 75 time steps\n",
            "214 Episode: Finished after 200 time steps\n",
            "215 Episode: Finished after 200 time steps\n",
            "216 Episode: Finished after 105 time steps\n",
            "217 Episode: Finished after 108 time steps\n",
            "218 Episode: Finished after 132 time steps\n",
            "219 Episode: Finished after 160 time steps\n",
            "220 Episode: Finished after 114 time steps\n",
            "221 Episode: Finished after 200 time steps\n",
            "222 Episode: Finished after 103 time steps\n",
            "223 Episode: Finished after 155 time steps\n",
            "224 Episode: Finished after 200 time steps\n",
            "225 Episode: Finished after 200 time steps\n",
            "226 Episode: Finished after 200 time steps\n",
            "227 Episode: Finished after 200 time steps\n",
            "228 Episode: Finished after 111 time steps\n",
            "229 Episode: Finished after 194 time steps\n",
            "230 Episode: Finished after 114 time steps\n",
            "231 Episode: Finished after 139 time steps\n",
            "232 Episode: Finished after 200 time steps\n",
            "233 Episode: Finished after 200 time steps\n",
            "234 Episode: Finished after 200 time steps\n",
            "235 Episode: Finished after 189 time steps\n",
            "236 Episode: Finished after 200 time steps\n",
            "237 Episode: Finished after 200 time steps\n",
            "238 Episode: Finished after 193 time steps\n",
            "239 Episode: Finished after 200 time steps\n",
            "240 Episode: Finished after 200 time steps\n",
            "241 Episode: Finished after 185 time steps\n",
            "242 Episode: Finished after 200 time steps\n",
            "243 Episode: Finished after 161 time steps\n",
            "244 Episode: Finished after 200 time steps\n",
            "245 Episode: Finished after 200 time steps\n",
            "246 Episode: Finished after 200 time steps\n",
            "247 Episode: Finished after 200 time steps\n",
            "248 Episode: Finished after 200 time steps\n",
            "249 Episode: Finished after 200 time steps\n",
            "250 Episode: Finished after 200 time steps\n",
            "251 Episode: Finished after 200 time steps\n",
            "252 Episode: Finished after 200 time steps\n",
            "253 Episode: Finished after 200 time steps\n",
            "10回連続成功\n",
            "254 Episode: Finished after 200 time steps\n"
          ],
          "name": "stdout"
        },
        {
          "output_type": "display_data",
          "data": {
            "text/html": [
              "<video alt=\"test\" autoplay \n",
              "                loop controls style=\"height: 400px;\">\n",
              "                <source src=\"data:video/mp4;base64,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\" type=\"video/mp4\" />\n",
              "             </video>"
            ],
            "text/plain": [
              "<IPython.core.display.HTML object>"
            ]
          },
          "metadata": {
            "tags": []
          }
        }
      ]
    },
    {
      "cell_type": "code",
      "metadata": {
        "id": "-_ogy3n8InF6"
      },
      "source": [
        ""
      ],
      "execution_count": null,
      "outputs": []
    }
  ]
}