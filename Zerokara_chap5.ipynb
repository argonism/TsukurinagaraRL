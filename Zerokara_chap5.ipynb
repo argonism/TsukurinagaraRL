{
  "nbformat": 4,
  "nbformat_minor": 0,
  "metadata": {
    "colab": {
      "name": "Zerokara-chap5.ipynb",
      "provenance": [],
      "collapsed_sections": [],
      "authorship_tag": "ABX9TyP9rhVmhTTb3en3Em5NlN95",
      "include_colab_link": true
    },
    "kernelspec": {
      "name": "python3",
      "display_name": "Python 3"
    },
    "accelerator": "GPU"
  },
  "cells": [
    {
      "cell_type": "markdown",
      "metadata": {
        "id": "view-in-github",
        "colab_type": "text"
      },
      "source": [
        "<a href=\"https://colab.research.google.com/github/argonism/TsukurinagaraRL/blob/master/Zerokara_chap5.ipynb\" target=\"_parent\"><img src=\"https://colab.research.google.com/assets/colab-badge.svg\" alt=\"Open In Colab\"/></a>"
      ]
    },
    {
      "cell_type": "markdown",
      "metadata": {
        "id": "TmCRyMEXJdw6"
      },
      "source": [
        "Brainのネットワークで、\n",
        "\n",
        "self.model.add_module('fc3', nn.Linear(32, num_actions))\n",
        "\n",
        "の'fc3'を'fc2'としたばっかりに学習が進まず、\n",
        "かつどこが間違っているのかわかりづらい沼にハマった。"
      ]
    },
    {
      "cell_type": "markdown",
      "metadata": {
        "id": "zybcT_zod65H"
      },
      "source": [
        "# 深層強化学習DQN\n",
        "\n",
        "ニューラルネットワークへの入力は、状態の各変数。\n",
        "出力は$Q(s_t,a_t)$の値。つまり割引報酬和\n",
        "\n",
        "誤差関数に、Q学習のアルゴリズムを使って学習する。\n",
        "\n",
        "Q学習では、\n",
        "\n",
        "$$Q(s_t, a_t) = R_{t+1} + \\gamma \\max_a Q(s_{t+1}, a)$$\n",
        "\n",
        "これが成り立って欲しい。\n",
        "\n",
        "そのため、$Q(s_t, a_t)$と$R_{t+1} + \\gamma \\max_a Q(s_{t+1}, a)$の二乗誤差を使う。\n",
        "\n",
        "つまり\n",
        "$$E(s_t, a_t) = (R_{t+1} + \\gamma \\max_a Q(s_{t+1}, a) - Q(s_t, a_t))^2$$\n"
      ]
    },
    {
      "cell_type": "markdown",
      "metadata": {
        "id": "mHSPjAoAeNQY"
      },
      "source": [
        "# 実装における注意\n",
        "\n",
        "## experience replay\n",
        "時間によって連続したステップの内容が似たものになった上で学習するのを防ぐために、ステップ内容は全てメモリに置いた上で、そのなかからランダムにピックアップして学習していく。\n",
        "\n",
        "時間によって連続して似た内容のステップを学習するとパラメータが安定しないらしい。\n",
        "わからん。\n",
        "\n",
        "## Fixed Target Q-network\n",
        "$Q(s_t, a)$の更新には、$Q(s_{t+1}, a)$が必要だが、ここで使用する関数Qが同じだとよろしくないらしく、学習最新版Q関数ではなく、少し前のものを使う。\n",
        "\n",
        "更新学習が不安定になるらしい。わからん。\n",
        "\n",
        "## 報酬のclipping\n",
        "報酬は-1, 0, 1に固定する。\n",
        "こうすることで、学習対象に依らずに同じハイパーパラメータでDQNを実行できるらしい。\n",
        "\n",
        "わからん。\n",
        "\n",
        "## Huber関数\n",
        "誤差関数。二乗誤差より、誤差が大きい時の誤差eが抑えられる。\n",
        "\n",
        "具体的には\n",
        "- 値の差が-1 ~ 1の間なら、誤差eは二乗誤差と同じ\n",
        "- それ以上の差なら、差の絶対値を取る。\n",
        "\n",
        "\n",
        "ミニバッチの実装について注意してくれている。親切。\n",
        "\n"
      ]
    },
    {
      "cell_type": "code",
      "metadata": {
        "id": "NN3dNW3vjCT6"
      },
      "source": [
        "# 使用するパッケージのインストール\n",
        "# gym==0.17.2 pyvirtualdisplay==1.3.2\n",
        "# xvfb=2:1.19.6-1ubuntu4.4 python-opengl=3.1.0+dfsg-1 ffmpeg=7:3.4.8-0ubuntu0.2\n",
        "# JSAnimation==0.1\n",
        "!pip install gym pyvirtualdisplay > /dev/null 2>&1\n",
        "!apt-get install -y xvfb python-opengl ffmpeg > /dev/null 2>&1\n",
        "!pip install JSAnimation > /dev/null 2>&1"
      ],
      "execution_count": null,
      "outputs": []
    },
    {
      "cell_type": "code",
      "metadata": {
        "id": "6vYHqeXSeCMp"
      },
      "source": [
        " import numpy as np\n",
        " import matplotlib.pyplot as plt\n",
        " %matplotlib inline\n",
        " import gym\n",
        "from gym.wrappers import Monitor"
      ],
      "execution_count": null,
      "outputs": []
    },
    {
      "cell_type": "code",
      "metadata": {
        "id": "Fm4DcxKAiwzI"
      },
      "source": [
        "# 動画の描画関数の宣言\n",
        "import glob\n",
        "import io\n",
        "import os\n",
        "import base64\n",
        "from JSAnimation.IPython_display import display_animation\n",
        "from matplotlib import animation\n",
        "from IPython import display as ipythondisplay\n",
        "from IPython.display import HTML\n",
        "from pyvirtualdisplay import Display\n",
        "\n",
        "display = Display(visible=0, size=(640, 400))\n",
        "display.start()\n",
        "\n",
        "def show_video():\n",
        "  mp4list = glob.glob('video/*.mp4')\n",
        "  if len(mp4list) > 0:\n",
        "    mp4 = mp4list[0]\n",
        "    video = io.open(mp4, 'r+b').read()\n",
        "    encoded = base64.b64encode(video)\n",
        "    ipythondisplay.display(HTML(data='''<video alt=\"test\" autoplay \n",
        "                loop controls style=\"height: 400px;\">\n",
        "                <source src=\"data:video/mp4;base64,{0}\" type=\"video/mp4\" />\n",
        "             </video>'''.format(encoded.decode('ascii'))))\n",
        "  else: \n",
        "    print(\"Could not find video\")\n",
        "    \n",
        "def reset_video():\n",
        "  mp4list = glob.glob('video/*.mp4')\n",
        "  for mp4 in mp4list:\n",
        "    os.remove(mp4)\n",
        "\n",
        "def wrap_env(env):\n",
        "  env = Monitor(env, './video', force=True, video_callable=(lambda ep: ep % 100 == 0))\n",
        "  reset_video()\n",
        "  return env"
      ],
      "execution_count": null,
      "outputs": []
    },
    {
      "cell_type": "code",
      "metadata": {
        "colab": {
          "base_uri": "https://localhost:8080/"
        },
        "id": "DjaD9q5hy0nr",
        "outputId": "f3a7162b-18e6-469c-8007-ac753b8f0744"
      },
      "source": [
        "from collections import namedtuple\n",
        "Tr = namedtuple('tr', ('name_a', 'value_b'))\n",
        "Tr_object = Tr('名前Aです', 100)\n",
        "print(Tr_object)\n",
        "print(Tr_object.value_b)\n",
        "Transition = namedtuple('Transition', ('state', 'action', 'next_state', 'reward'))\n",
        "\n",
        "\n",
        "ENV = 'CartPole-v0'\n",
        "GAMMA = 0.99\n",
        "MAX_STEPS = 200\n",
        "NUM_EPISODES = 500"
      ],
      "execution_count": null,
      "outputs": [
        {
          "output_type": "stream",
          "text": [
            "tr(name_a='名前Aです', value_b=100)\n",
            "100\n"
          ],
          "name": "stdout"
        }
      ]
    },
    {
      "cell_type": "code",
      "metadata": {
        "id": "lYeDd1xczMhU"
      },
      "source": [
        "class ReplayMemory:\n",
        "  def __init__(self, CAPACITY):\n",
        "    self.capacity = CAPACITY\n",
        "    self.memory = []\n",
        "    self.index = 0\n",
        "  \n",
        "  def push(self, state, action, state_next, reward):\n",
        "    if len(self.memory) < self.capacity:\n",
        "      self.memory.append(None)\n",
        "    \n",
        "    self.memory[self.index] = Transition(state, action, state_next, reward)\n",
        "\n",
        "    self.index = (self.index + 1) % self.capacity\n",
        "  \n",
        "  def sample(self, batch_size):\n",
        "    return random.sample(self.memory, batch_size)\n",
        "  \n",
        "  def __len__(self):\n",
        "    return len(self.memory)\n"
      ],
      "execution_count": null,
      "outputs": []
    },
    {
      "cell_type": "code",
      "metadata": {
        "id": "dKtt9lpof_x1"
      },
      "source": [
        "import random\n",
        "import torch\n",
        "from torch import nn\n",
        "from torch import optim\n",
        "import torch.nn.functional as F\n",
        "\n",
        "BATCH_SIZE = 32\n",
        "CAPACITY = 10000\n",
        "\n",
        "class Brain:\n",
        "  def __init__(self, num_states, num_actions):\n",
        "    self.num_actions = num_actions\n",
        "\n",
        "    self.memory = ReplayMemory(CAPACITY)\n",
        "\n",
        "    self.model = nn.Sequential()\n",
        "    self.model.add_module('fc1', nn.Linear(num_states, 32))\n",
        "    self.model.add_module('relu1', nn.ReLU())\n",
        "    self.model.add_module('fc2', nn.Linear(32, 32))\n",
        "    self.model.add_module('relu2', nn.ReLU())\n",
        "    self.model.add_module('fc3', nn.Linear(32, num_actions))\n",
        "\n",
        "    print(self.model)\n",
        "\n",
        "    self.optimizer = optim.Adam(self.model.parameters(), lr=0.0001)\n",
        "  \n",
        "  def replay(self):\n",
        "    '''保存した行動や結果、状態から結合パラメータを学習する'''\n",
        "\n",
        "    if len(self.memory) < BATCH_SIZE:\n",
        "      return\n",
        "    \n",
        "    # ミニバッチの作成\n",
        "\n",
        "    transitions = self.memory.sample(BATCH_SIZE)\n",
        "\n",
        "    #transitions = (state, action, state_next, reward) * batch_size を　(state * batch_size, action * batch_size, state_next * batch_size, ...)に変える。\n",
        "    batch = Transition(*zip(*transitions))\n",
        "\n",
        "    # statem action , state_next, rewardごとにミニバッチに対応した形にする\n",
        "    # stateなら (位置、速度、角度、角速度)の1*4のTensolがBATCH_SIZE分あったものを、BATCH_SIZE * 4のテンソルにする\n",
        "    state_batch = torch.cat(batch.state)\n",
        "    action_batch = torch.cat(batch.action)\n",
        "    reward_batch = torch.cat(batch.reward)\n",
        "    non_final_next_states = torch.cat([s for s in batch.next_state if s is not None])\n",
        "\n",
        "    # 教師信号となるQ(s_t, a_t)を求める\n",
        "\n",
        "    self.model.eval()\n",
        "    # self.model(state_batch) でbatch_size*2のテンソル(actionのQ値)が出る。\n",
        "    # action_batchはbatch_size*(0, 1)のようになっている。\n",
        "    # その後実行したactionの方のQ値を取り出すために、gatherを使っている。\n",
        "    state_action_values = self.model(state_batch).gather(1, action_batch)\n",
        "\n",
        "    # 次の状態(next_state)があるかどうかに注意しながら取り出し、max{Q(s_t+1, a)}を求める\n",
        "    # ここではインデックスマスクを作る。...?\n",
        "    # インデックスにByteTensor入れると、ByteTensorでTrueになってる要素を取り出して、そのそれぞれに対して代入を行えるっぽい。\n",
        "    non_final_mask = torch.ByteTensor(tuple(map(lambda s: s is not None, batch.next_state)))\n",
        "\n",
        "    next_state_values = torch.zeros(BATCH_SIZE)\n",
        "\n",
        "    # 次の状態をモデルに入力して、次の行動のQ値が大きいものを取り出す。\n",
        "    # それをnext_state_valuesの対応するインデックスに代入していく。\n",
        "    # 後々微分されないために（固定するために）detach()をする。くわしくはわからん。\n",
        "    # 現在の状態についてのQ値は更新対象であるから、detachしないっぽい。\n",
        "    next_state_values[non_final_mask] = self.model(non_final_next_states).max(1)[0].detach()\n",
        "\n",
        "    # 教師となるQ値を求める。説明で書いた式の右辺。\n",
        "    expected_state_action_values = reward_batch + GAMMA * next_state_values\n",
        "\n",
        "    # 訓練\n",
        "\n",
        "    self.model.train()\n",
        "\n",
        "    # smooth_l1_lossはHuber関数\n",
        "    # expected_state_action_valuesはsize: バッチサイズとなっているので、これをunsqueezeで(バッチサイズ*1)にする。...?\n",
        "    loss = F.smooth_l1_loss(state_action_values, expected_state_action_values.unsqueeze (1))\n",
        "    \n",
        "    self.optimizer.zero_grad()\n",
        "    loss.backward()\n",
        "    self.optimizer.step()\n",
        "\n",
        "  def decide_action(self, state, episode):\n",
        "    epsilon = 0.5 * (1 / (episode + 1))\n",
        "\n",
        "    if epsilon <= np.random.uniform(0, 1):\n",
        "      self.model.eval()\n",
        "      with torch.no_grad():\n",
        "        action = self.model(state).max(1)[1].view(1, 1)\n",
        "        # view(1, 1)は、[torch.LongTensor of size 1]をsize 1x1にするらしい。逆にsize 1x1って何。\n",
        "\n",
        "    else:\n",
        "      action = torch.LongTensor([[random.randrange(self.num_actions)]])\n",
        "    \n",
        "    return action\n",
        "\n"
      ],
      "execution_count": null,
      "outputs": []
    },
    {
      "cell_type": "code",
      "metadata": {
        "colab": {
          "base_uri": "https://localhost:8080/"
        },
        "id": "nFdX_rETvnuk",
        "outputId": "bd450107-5a1d-420a-8bc7-ec319c3f1791"
      },
      "source": [
        "t = torch.zeros(10)\n",
        "mask = t is not None\n",
        "new = torch.tensor([[1, 0, 1, 1, 0, 1, 0, 0, 1, 1]])\n",
        "print(t[mask])\n",
        "t[mask] = new\n",
        "print(t)"
      ],
      "execution_count": null,
      "outputs": [
        {
          "output_type": "stream",
          "text": [
            "tensor([[0., 0., 0., 0., 0., 0., 0., 0., 0., 0.]])\n",
            "tensor([1., 0., 1., 1., 0., 1., 0., 0., 1., 1.])\n"
          ],
          "name": "stdout"
        }
      ]
    },
    {
      "cell_type": "code",
      "metadata": {
        "id": "OPbhqVLiw3iD"
      },
      "source": [
        "class Agent:\n",
        "  def __init__(self, num_states, num_actions):\n",
        "    self.brain = Brain(num_states, num_actions)\n",
        "  \n",
        "  def update_q_function(self):\n",
        "    self.brain.replay()\n",
        "  \n",
        "  def get_action(self, state, episode):\n",
        "    action = self.brain.decide_action(state, episode)\n",
        "    return action\n",
        "\n",
        "  def memorize(self, state, action, state_next, reward):\n",
        "    self.brain.memory.push(state, action, state_next, reward)"
      ],
      "execution_count": null,
      "outputs": []
    },
    {
      "cell_type": "code",
      "metadata": {
        "id": "edT9LeEo9UIE"
      },
      "source": [
        "class Environment:\n",
        "  def __init__(self):\n",
        "    self.env = wrap_env(gym.make(ENV))\n",
        "    self.num_states = self.env.observation_space.shape[0]\n",
        "    self.num_actions = self.env.action_space.n\n",
        "\n",
        "    self.agent = Agent(self.num_states, self.num_actions)\n",
        "  \n",
        "  def run(self):\n",
        "    complete_episodes = 0\n",
        "    # 10回ごとに立ち続けたepisodeの平均を取る\n",
        "    episode_10_list = np.zeros(10)\n",
        "    # 連続成功記録\n",
        "    complete_episodes = 0\n",
        "    episode_final = False\n",
        "\n",
        "    for episode in range(NUM_EPISODES):\n",
        "      observation = self.env.reset()\n",
        "\n",
        "      state = observation\n",
        "      state = torch.from_numpy(state).type(torch.FloatTensor)\n",
        "      state = torch.unsqueeze(state, 0)\n",
        "\n",
        "      for step in range(MAX_STEPS):\n",
        "        \n",
        "        action = self.agent.get_action(state, episode)\n",
        "\n",
        "        observation_next, _, done, _ = self.env.step(action.item())\n",
        "\n",
        "        if done:\n",
        "          state_next = None\n",
        "          episode_10_list = np.hstack((episode_10_list[1:], step + 1))\n",
        "\n",
        "          if step < 195:\n",
        "            reward = torch.FloatTensor([-1.0])\n",
        "            complete_episodes = 0\n",
        "          else:\n",
        "            reward = torch.FloatTensor([1.0])\n",
        "            complete_episodes += 1\n",
        "        else:\n",
        "          reward = torch.FloatTensor([0.0])\n",
        "          state_next = observation_next\n",
        "          state_next = torch.from_numpy(state_next).type(torch.FloatTensor)\n",
        "          state_next = torch.unsqueeze(state_next, 0)\n",
        "        \n",
        "        self.agent.memorize(state, action, state_next, reward)\n",
        "\n",
        "        self.agent.update_q_function()\n",
        "\n",
        "        state = state_next\n",
        "\n",
        "        if done:\n",
        "          print(f'{episode} Episode: Finished after {step + 1} time steps: 10思考の平均step数 = {episode_10_list.mean()}')\n",
        "          break\n",
        "        \n",
        "      if episode_final is True:\n",
        "        show_video()\n",
        "        break\n",
        "      \n",
        "      if complete_episodes >= 10:\n",
        "        print('10回連続成功')\n",
        "        episode_final = True"
      ],
      "execution_count": null,
      "outputs": []
    },
    {
      "cell_type": "code",
      "metadata": {
        "colab": {
          "base_uri": "https://localhost:8080/",
          "height": 1000
        },
        "id": "KLN8sxL1Avsu",
        "outputId": "94a2f926-3631-489e-aedb-e35febc1d74e"
      },
      "source": [
        "cartpole_env = Environment()\n",
        "cartpole_env.run()"
      ],
      "execution_count": null,
      "outputs": [
        {
          "output_type": "stream",
          "text": [
            "Sequential(\n",
            "  (fc1): Linear(in_features=4, out_features=32, bias=True)\n",
            "  (relu1): ReLU()\n",
            "  (fc2): Linear(in_features=32, out_features=32, bias=True)\n",
            "  (relu2): ReLU()\n",
            "  (fc3): Linear(in_features=32, out_features=2, bias=True)\n",
            ")\n",
            "0 Episode: Finished after 11 time steps: 10思考の平均step数 = 1.1\n",
            "1 Episode: Finished after 9 time steps: 10思考の平均step数 = 2.0\n",
            "2 Episode: Finished after 9 time steps: 10思考の平均step数 = 2.9\n",
            "3 Episode: Finished after 8 time steps: 10思考の平均step数 = 3.7\n",
            "4 Episode: Finished after 9 time steps: 10思考の平均step数 = 4.6\n",
            "5 Episode: Finished after 13 time steps: 10思考の平均step数 = 5.9\n",
            "6 Episode: Finished after 11 time steps: 10思考の平均step数 = 7.0\n",
            "7 Episode: Finished after 9 time steps: 10思考の平均step数 = 7.9\n",
            "8 Episode: Finished after 15 time steps: 10思考の平均step数 = 9.4\n"
          ],
          "name": "stdout"
        },
        {
          "output_type": "stream",
          "text": [
            "/usr/local/lib/python3.6/dist-packages/ipykernel_launcher.py:66: UserWarning: indexing with dtype torch.uint8 is now deprecated, please use a dtype torch.bool instead. (Triggered internally at  /pytorch/aten/src/ATen/native/IndexingUtils.h:25.)\n"
          ],
          "name": "stderr"
        },
        {
          "output_type": "stream",
          "text": [
            "9 Episode: Finished after 10 time steps: 10思考の平均step数 = 10.4\n",
            "10 Episode: Finished after 15 time steps: 10思考の平均step数 = 10.8\n",
            "11 Episode: Finished after 10 time steps: 10思考の平均step数 = 10.9\n",
            "12 Episode: Finished after 12 time steps: 10思考の平均step数 = 11.2\n",
            "13 Episode: Finished after 13 time steps: 10思考の平均step数 = 11.7\n",
            "14 Episode: Finished after 14 time steps: 10思考の平均step数 = 12.2\n",
            "15 Episode: Finished after 20 time steps: 10思考の平均step数 = 12.9\n",
            "16 Episode: Finished after 18 time steps: 10思考の平均step数 = 13.6\n",
            "17 Episode: Finished after 60 time steps: 10思考の平均step数 = 18.7\n",
            "18 Episode: Finished after 25 time steps: 10思考の平均step数 = 19.7\n",
            "19 Episode: Finished after 15 time steps: 10思考の平均step数 = 20.2\n",
            "20 Episode: Finished after 18 time steps: 10思考の平均step数 = 20.5\n",
            "21 Episode: Finished after 11 time steps: 10思考の平均step数 = 20.6\n",
            "22 Episode: Finished after 13 time steps: 10思考の平均step数 = 20.7\n",
            "23 Episode: Finished after 9 time steps: 10思考の平均step数 = 20.3\n",
            "24 Episode: Finished after 8 time steps: 10思考の平均step数 = 19.7\n",
            "25 Episode: Finished after 9 time steps: 10思考の平均step数 = 18.6\n",
            "26 Episode: Finished after 11 time steps: 10思考の平均step数 = 17.9\n",
            "27 Episode: Finished after 10 time steps: 10思考の平均step数 = 12.9\n",
            "28 Episode: Finished after 12 time steps: 10思考の平均step数 = 11.6\n",
            "29 Episode: Finished after 16 time steps: 10思考の平均step数 = 11.7\n",
            "30 Episode: Finished after 10 time steps: 10思考の平均step数 = 10.9\n",
            "31 Episode: Finished after 10 time steps: 10思考の平均step数 = 10.8\n",
            "32 Episode: Finished after 11 time steps: 10思考の平均step数 = 10.6\n",
            "33 Episode: Finished after 14 time steps: 10思考の平均step数 = 11.1\n",
            "34 Episode: Finished after 17 time steps: 10思考の平均step数 = 12.0\n",
            "35 Episode: Finished after 13 time steps: 10思考の平均step数 = 12.4\n",
            "36 Episode: Finished after 24 time steps: 10思考の平均step数 = 13.7\n",
            "37 Episode: Finished after 24 time steps: 10思考の平均step数 = 15.1\n",
            "38 Episode: Finished after 33 time steps: 10思考の平均step数 = 17.2\n",
            "39 Episode: Finished after 28 time steps: 10思考の平均step数 = 18.4\n",
            "40 Episode: Finished after 46 time steps: 10思考の平均step数 = 22.0\n",
            "41 Episode: Finished after 34 time steps: 10思考の平均step数 = 24.4\n",
            "42 Episode: Finished after 43 time steps: 10思考の平均step数 = 27.6\n",
            "43 Episode: Finished after 63 time steps: 10思考の平均step数 = 32.5\n",
            "44 Episode: Finished after 42 time steps: 10思考の平均step数 = 35.0\n",
            "45 Episode: Finished after 53 time steps: 10思考の平均step数 = 39.0\n",
            "46 Episode: Finished after 42 time steps: 10思考の平均step数 = 40.8\n",
            "47 Episode: Finished after 36 time steps: 10思考の平均step数 = 42.0\n",
            "48 Episode: Finished after 30 time steps: 10思考の平均step数 = 41.7\n",
            "49 Episode: Finished after 63 time steps: 10思考の平均step数 = 45.2\n",
            "50 Episode: Finished after 34 time steps: 10思考の平均step数 = 44.0\n",
            "51 Episode: Finished after 26 time steps: 10思考の平均step数 = 43.2\n",
            "52 Episode: Finished after 30 time steps: 10思考の平均step数 = 41.9\n",
            "53 Episode: Finished after 37 time steps: 10思考の平均step数 = 39.3\n",
            "54 Episode: Finished after 36 time steps: 10思考の平均step数 = 38.7\n",
            "55 Episode: Finished after 35 time steps: 10思考の平均step数 = 36.9\n",
            "56 Episode: Finished after 34 time steps: 10思考の平均step数 = 36.1\n",
            "57 Episode: Finished after 28 time steps: 10思考の平均step数 = 35.3\n",
            "58 Episode: Finished after 46 time steps: 10思考の平均step数 = 36.9\n",
            "59 Episode: Finished after 45 time steps: 10思考の平均step数 = 35.1\n",
            "60 Episode: Finished after 48 time steps: 10思考の平均step数 = 36.5\n",
            "61 Episode: Finished after 45 time steps: 10思考の平均step数 = 38.4\n",
            "62 Episode: Finished after 77 time steps: 10思考の平均step数 = 43.1\n",
            "63 Episode: Finished after 47 time steps: 10思考の平均step数 = 44.1\n",
            "64 Episode: Finished after 67 time steps: 10思考の平均step数 = 47.2\n",
            "65 Episode: Finished after 70 time steps: 10思考の平均step数 = 50.7\n",
            "66 Episode: Finished after 86 time steps: 10思考の平均step数 = 55.9\n",
            "67 Episode: Finished after 43 time steps: 10思考の平均step数 = 57.4\n",
            "68 Episode: Finished after 80 time steps: 10思考の平均step数 = 60.8\n",
            "69 Episode: Finished after 123 time steps: 10思考の平均step数 = 68.6\n",
            "70 Episode: Finished after 133 time steps: 10思考の平均step数 = 77.1\n",
            "71 Episode: Finished after 125 time steps: 10思考の平均step数 = 85.1\n",
            "72 Episode: Finished after 117 time steps: 10思考の平均step数 = 89.1\n",
            "73 Episode: Finished after 200 time steps: 10思考の平均step数 = 104.4\n",
            "74 Episode: Finished after 67 time steps: 10思考の平均step数 = 104.4\n",
            "75 Episode: Finished after 116 time steps: 10思考の平均step数 = 109.0\n",
            "76 Episode: Finished after 59 time steps: 10思考の平均step数 = 106.3\n",
            "77 Episode: Finished after 176 time steps: 10思考の平均step数 = 119.6\n",
            "78 Episode: Finished after 65 time steps: 10思考の平均step数 = 118.1\n",
            "79 Episode: Finished after 93 time steps: 10思考の平均step数 = 115.1\n",
            "80 Episode: Finished after 77 time steps: 10思考の平均step数 = 109.5\n",
            "81 Episode: Finished after 200 time steps: 10思考の平均step数 = 117.0\n",
            "82 Episode: Finished after 65 time steps: 10思考の平均step数 = 111.8\n",
            "83 Episode: Finished after 68 time steps: 10思考の平均step数 = 98.6\n",
            "84 Episode: Finished after 200 time steps: 10思考の平均step数 = 111.9\n",
            "85 Episode: Finished after 73 time steps: 10思考の平均step数 = 107.6\n",
            "86 Episode: Finished after 163 time steps: 10思考の平均step数 = 118.0\n",
            "87 Episode: Finished after 71 time steps: 10思考の平均step数 = 107.5\n",
            "88 Episode: Finished after 171 time steps: 10思考の平均step数 = 118.1\n",
            "89 Episode: Finished after 75 time steps: 10思考の平均step数 = 116.3\n",
            "90 Episode: Finished after 107 time steps: 10思考の平均step数 = 119.3\n",
            "91 Episode: Finished after 120 time steps: 10思考の平均step数 = 111.3\n",
            "92 Episode: Finished after 188 time steps: 10思考の平均step数 = 123.6\n",
            "93 Episode: Finished after 106 time steps: 10思考の平均step数 = 127.4\n",
            "94 Episode: Finished after 104 time steps: 10思考の平均step数 = 117.8\n",
            "95 Episode: Finished after 157 time steps: 10思考の平均step数 = 126.2\n",
            "96 Episode: Finished after 200 time steps: 10思考の平均step数 = 129.9\n",
            "97 Episode: Finished after 185 time steps: 10思考の平均step数 = 141.3\n",
            "98 Episode: Finished after 194 time steps: 10思考の平均step数 = 143.6\n",
            "99 Episode: Finished after 171 time steps: 10思考の平均step数 = 153.2\n"
          ],
          "name": "stdout"
        },
        {
          "output_type": "stream",
          "text": [
            "/usr/local/lib/python3.6/dist-packages/ipykernel_launcher.py:66: UserWarning: indexing with dtype torch.uint8 is now deprecated, please use a dtype torch.bool instead. (Triggered internally at  /pytorch/aten/src/ATen/native/IndexingUtils.h:25.)\n"
          ],
          "name": "stderr"
        },
        {
          "output_type": "stream",
          "text": [
            "100 Episode: Finished after 200 time steps: 10思考の平均step数 = 162.5\n",
            "101 Episode: Finished after 200 time steps: 10思考の平均step数 = 170.5\n",
            "102 Episode: Finished after 200 time steps: 10思考の平均step数 = 171.7\n",
            "103 Episode: Finished after 200 time steps: 10思考の平均step数 = 181.1\n",
            "104 Episode: Finished after 200 time steps: 10思考の平均step数 = 190.7\n",
            "105 Episode: Finished after 200 time steps: 10思考の平均step数 = 195.0\n",
            "106 Episode: Finished after 200 time steps: 10思考の平均step数 = 195.0\n",
            "107 Episode: Finished after 200 time steps: 10思考の平均step数 = 196.5\n",
            "108 Episode: Finished after 200 time steps: 10思考の平均step数 = 197.1\n",
            "109 Episode: Finished after 200 time steps: 10思考の平均step数 = 200.0\n",
            "10回連続成功\n",
            "110 Episode: Finished after 200 time steps: 10思考の平均step数 = 200.0\n"
          ],
          "name": "stdout"
        },
        {
          "output_type": "display_data",
          "data": {
            "text/html": [
              "<video alt=\"test\" autoplay \n",
              "                loop controls style=\"height: 400px;\">\n",
              "                <source src=\"data:video/mp4;base64,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\" type=\"video/mp4\" />\n",
              "             </video>"
            ],
            "text/plain": [
              "<IPython.core.display.HTML object>"
            ]
          },
          "metadata": {
            "tags": []
          }
        }
      ]
    },
    {
      "cell_type": "code",
      "metadata": {
        "id": "8LS_hNPzA3xC"
      },
      "source": [
        ""
      ],
      "execution_count": null,
      "outputs": []
    }
  ]
}