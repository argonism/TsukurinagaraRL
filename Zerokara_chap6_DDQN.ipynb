{
  "nbformat": 4,
  "nbformat_minor": 0,
  "metadata": {
    "colab": {
      "name": "Zerokara-chap6-DDQN.ipynb",
      "provenance": [],
      "collapsed_sections": [],
      "authorship_tag": "ABX9TyN783CXjDXc1vtXVjFmx4HQ",
      "include_colab_link": true
    },
    "kernelspec": {
      "name": "python3",
      "display_name": "Python 3"
    },
    "accelerator": "GPU"
  },
  "cells": [
    {
      "cell_type": "markdown",
      "metadata": {
        "id": "view-in-github",
        "colab_type": "text"
      },
      "source": [
        "<a href=\"https://colab.research.google.com/github/argonism/TsukurinagaraRL/blob/master/Zerokara_chap6_DDQN.ipynb\" target=\"_parent\"><img src=\"https://colab.research.google.com/assets/colab-badge.svg\" alt=\"Open In Colab\"/></a>"
      ]
    },
    {
      "cell_type": "markdown",
      "metadata": {
        "id": "hQe-VE6LlljG"
      },
      "source": [
        "# DDQN(Double-DQN)\n",
        "\n",
        "Fixed Target Q-Networkを、ちゃんと実装したやつ\n",
        "\n",
        "更新式も変わる。\n",
        "$$Q_m(s_t, a_t) = Q_m(s_t, a_t) + \\eta * (R_{t+1} + \\gamma \\max_aQ_t(s_{t+1}, a_t) - Q_m(s_t, a_t))$$\n",
        "結構変わってない？？？\n",
        "\n",
        "\n",
        "ちょっと試した程度では効果は実感できなかった。\n",
        "\n"
      ]
    },
    {
      "cell_type": "code",
      "metadata": {
        "id": "NN3dNW3vjCT6"
      },
      "source": [
        "# 使用するパッケージのインストール\n",
        "# gym==0.17.2 pyvirtualdisplay==1.3.2\n",
        "# xvfb=2:1.19.6-1ubuntu4.4 python-opengl=3.1.0+dfsg-1 ffmpeg=7:3.4.8-0ubuntu0.2\n",
        "# JSAnimation==0.1\n",
        "!pip install gym pyvirtualdisplay > /dev/null 2>&1\n",
        "!apt-get install -y xvfb python-opengl ffmpeg > /dev/null 2>&1\n",
        "!pip install JSAnimation > /dev/null 2>&1"
      ],
      "execution_count": null,
      "outputs": []
    },
    {
      "cell_type": "code",
      "metadata": {
        "id": "6vYHqeXSeCMp"
      },
      "source": [
        " import numpy as np\n",
        " import matplotlib.pyplot as plt\n",
        " %matplotlib inline\n",
        " import gym\n",
        "from gym.wrappers import Monitor"
      ],
      "execution_count": null,
      "outputs": []
    },
    {
      "cell_type": "code",
      "metadata": {
        "id": "Fm4DcxKAiwzI"
      },
      "source": [
        "# 動画の描画関数の宣言\n",
        "import glob\n",
        "import io\n",
        "import os\n",
        "import base64\n",
        "from JSAnimation.IPython_display import display_animation\n",
        "from matplotlib import animation\n",
        "from IPython import display as ipythondisplay\n",
        "from IPython.display import HTML\n",
        "from pyvirtualdisplay import Display\n",
        "\n",
        "display = Display(visible=0, size=(640, 400))\n",
        "display.start()\n",
        "\n",
        "def show_video():\n",
        "  mp4list = glob.glob('video/*.mp4')\n",
        "  if len(mp4list) > 0:\n",
        "    mp4 = mp4list[0]\n",
        "    video = io.open(mp4, 'r+b').read()\n",
        "    encoded = base64.b64encode(video)\n",
        "    ipythondisplay.display(HTML(data='''<video alt=\"test\" autoplay \n",
        "                loop controls style=\"height: 400px;\">\n",
        "                <source src=\"data:video/mp4;base64,{0}\" type=\"video/mp4\" />\n",
        "             </video>'''.format(encoded.decode('ascii'))))\n",
        "  else: \n",
        "    print(\"Could not find video\")\n",
        "    \n",
        "def reset_video():\n",
        "  mp4list = glob.glob('video/*.mp4')\n",
        "  for mp4 in mp4list:\n",
        "    os.remove(mp4)\n",
        "\n",
        "def wrap_env(env):\n",
        "  env = Monitor(env, './video', force=True, video_callable=(lambda ep: ep % 10 == 0))\n",
        "  reset_video()\n",
        "  return env"
      ],
      "execution_count": null,
      "outputs": []
    },
    {
      "cell_type": "code",
      "metadata": {
        "colab": {
          "base_uri": "https://localhost:8080/"
        },
        "id": "DjaD9q5hy0nr",
        "outputId": "05270adc-8ab4-4647-ced4-56efec8e6cfa"
      },
      "source": [
        "from collections import namedtuple\n",
        "Tr = namedtuple('tr', ('name_a', 'value_b'))\n",
        "Tr_object = Tr('名前Aです', 100)\n",
        "print(Tr_object)\n",
        "print(Tr_object.value_b)\n",
        "Transition = namedtuple('Transition', ('state', 'action', 'next_state', 'reward'))\n",
        "\n",
        "\n",
        "ENV = 'CartPole-v0'\n",
        "GAMMA = 0.99\n",
        "MAX_STEPS = 200\n",
        "NUM_EPISODES = 500"
      ],
      "execution_count": null,
      "outputs": [
        {
          "output_type": "stream",
          "text": [
            "tr(name_a='名前Aです', value_b=100)\n",
            "100\n"
          ],
          "name": "stdout"
        }
      ]
    },
    {
      "cell_type": "code",
      "metadata": {
        "id": "lYeDd1xczMhU"
      },
      "source": [
        "class ReplayMemory:\n",
        "  def __init__(self, CAPACITY):\n",
        "    self.capacity = CAPACITY\n",
        "    self.memory = []\n",
        "    self.index = 0\n",
        "  \n",
        "  def push(self, state, action, state_next, reward):\n",
        "    if len(self.memory) < self.capacity:\n",
        "      self.memory.append(None)\n",
        "    \n",
        "    self.memory[self.index] = Transition(state, action, state_next, reward)\n",
        "\n",
        "    self.index = (self.index + 1) % self.capacity\n",
        "  \n",
        "  def sample(self, batch_size):\n",
        "    return random.sample(self.memory, batch_size)\n",
        "  \n",
        "  def __len__(self):\n",
        "    return len(self.memory)\n"
      ],
      "execution_count": null,
      "outputs": []
    },
    {
      "cell_type": "code",
      "metadata": {
        "id": "oXlrsrK1OAyE"
      },
      "source": [
        "from torch import nn\n",
        "import torch.nn.functional as F\n",
        "\n",
        "class Net(nn.Module):\n",
        "\n",
        "  def __init__(self, n_in, n_mid, n_out):\n",
        "    super(Net, self).__init__()\n",
        "    self.fc1 = nn.Linear(n_in, n_mid)\n",
        "    self.fc2 = nn.Linear(n_mid, n_mid)\n",
        "    self.fc3 = nn.Linear(n_mid, n_out)\n",
        "  \n",
        "  def forward(self, x):\n",
        "    h1 = F.relu(self.fc1(x))\n",
        "    h2 = F.relu(self.fc2(h1))\n",
        "    output = self.fc3(h2)\n",
        "    return output"
      ],
      "execution_count": null,
      "outputs": []
    },
    {
      "cell_type": "code",
      "metadata": {
        "id": "dKtt9lpof_x1"
      },
      "source": [
        "import random\n",
        "import torch\n",
        "from torch import nn\n",
        "import torch.nn.functional as F\n",
        "from torch import optim\n",
        "\n",
        "BATCH_SIZE = 32\n",
        "CAPACITY = 10000\n",
        "\n",
        "class Brain:\n",
        "  def __init__(self, num_states, num_actions):\n",
        "    self.num_actions = num_actions\n",
        "\n",
        "    self.memory = ReplayMemory(CAPACITY)\n",
        "\n",
        "    n_in, n_mid, n_out = num_states, 32, num_actions\n",
        "    self.main_q_network = Net(n_in, n_mid, n_out)\n",
        "    self.target_q_network = Net(n_in, n_mid, n_out)\n",
        "    print(self.main_q_network)\n",
        "\n",
        "    self.optimizer = optim.Adam(self.main_q_network.parameters(), lr=0.0001)\n",
        "  \n",
        "  def replay(self):\n",
        "    '''保存した行動や結果、状態から結合パラメータを学習する'''\n",
        "\n",
        "    if len(self.memory) < BATCH_SIZE:\n",
        "      return\n",
        "    \n",
        "    # ミニバッチの作成\n",
        "    self.batch, self.state_batch, self.action_batch, self.reward_batch, self.non_final_next_states = self.make_minibatch()\n",
        "\n",
        "    # 教師信号となるQ(s_t, a_t)を求める\n",
        "    self.expected_state_action_values = self.get_expected_state_action_values()\n",
        "\n",
        "    # 訓練\n",
        "    self.update_main_q_network()\n",
        "  \n",
        "  def update_main_q_network(self):\n",
        "    self.main_q_network.train()\n",
        "\n",
        "    # smooth_l1_lossはHuber関数\n",
        "    # expected_state_action_valuesはsize: バッチサイズとなっているので、これをunsqueezeで(バッチサイズ*1)にする。...?\n",
        "    loss = F.smooth_l1_loss(self.state_action_values, self.expected_state_action_values.unsqueeze (1))\n",
        "    \n",
        "    self.optimizer.zero_grad()\n",
        "    loss.backward()\n",
        "    self.optimizer.step()\n",
        "  \n",
        "  def make_minibatch(self):\n",
        "      '''2. ミニバッチの作成'''\n",
        "\n",
        "      # 2.1 メモリからミニバッチ分のデータを取り出す\n",
        "      transitions = self.memory.sample(BATCH_SIZE)\n",
        "\n",
        "      # 2.2 各変数をミニバッチに対応する形に変形\n",
        "      # transitionsは1stepごとの(state, action, state_next, reward)が、BATCH_SIZE分格納されている\n",
        "      # つまり、(state, action, state_next, reward)×BATCH_SIZE\n",
        "      # これをミニバッチにしたい。つまり\n",
        "      # (state×BATCH_SIZE, action×BATCH_SIZE, state_next×BATCH_SIZE, reward×BATCH_SIZE)にする\n",
        "      batch = Transition(*zip(*transitions))\n",
        "\n",
        "      # 2.3 各変数の要素をミニバッチに対応する形に変形し、ネットワークで扱えるようVariableにする\n",
        "      # 例えばstateの場合、[torch.FloatTensor of size 1x4]がBATCH_SIZE分並んでいるのですが、\n",
        "      # それを torch.FloatTensor of size BATCH_SIZEx4 に変換します\n",
        "      # 状態、行動、報酬、non_finalの状態のミニバッチのVariableを作成\n",
        "      # catはConcatenates（結合）のことです。\n",
        "      state_batch = torch.cat(batch.state)\n",
        "      action_batch = torch.cat(batch.action)\n",
        "      reward_batch = torch.cat(batch.reward)\n",
        "      non_final_next_states = torch.cat([s for s in batch.next_state\n",
        "                                          if s is not None])\n",
        "\n",
        "      return batch, state_batch, action_batch, reward_batch, non_final_next_states\n",
        "\n",
        "  def get_expected_state_action_values(self):\n",
        "    self.main_q_network.eval()\n",
        "    self.target_q_network.eval()\n",
        "    # self.model(state_batch) でbatch_size*2のテンソル(actionのQ値)が出る。\n",
        "    # action_batchはbatch_size*(0, 1)のようになっている。\n",
        "    # その後実行したactionの方のQ値を取り出すために、gatherを使っている。\n",
        "    self.state_action_values = self.main_q_network(self.state_batch).gather(1, self.action_batch)\n",
        "\n",
        "    # 次の状態(next_state)があるかどうかに注意しながら取り出し、max{Q(s_t+1, a)}を求める\n",
        "    # ここではインデックスマスクを作る。...?\n",
        "    # インデックスにByteTensor入れると、ByteTensorでTrueになってる要素を取り出して、そのそれぞれに対して代入を行えるっぽい。\n",
        "    non_final_mask = torch.ByteTensor(tuple(map(lambda s: s is not None, self.batch.next_state)))\n",
        "\n",
        "    next_state_values = torch.zeros(BATCH_SIZE)\n",
        "\n",
        "    a_m = torch.zeros(BATCH_SIZE).type(torch.LongTensor)\n",
        "\n",
        "    a_m[non_final_mask] = self.main_q_network(self.non_final_next_states).detach().max(1)[1]\n",
        "\n",
        "    a_m_non_final_next_states = a_m[non_final_mask].view(-1, 1)\n",
        "\n",
        "    # 次の状態をモデルに入力して、次の行動のQ値が大きいものを取り出す。\n",
        "    # それをnext_state_valuesの対応するインデックスに代入していく。\n",
        "    # 後々微分されないために（固定するために）detach()をする。くわしくはわからん。\n",
        "    # 現在の状態についてのQ値は更新対象であるから、detachしないっぽい。\n",
        "    next_state_values[non_final_mask] = self.target_q_network(self.non_final_next_states).gather(1, a_m_non_final_next_states).detach().squeeze()\n",
        "\n",
        "    # 教師となるQ値を求める。説明で書いた式の右辺。\n",
        "    expected_state_action_values = self.reward_batch + GAMMA * next_state_values\n",
        "\n",
        "    return expected_state_action_values\n",
        "  \n",
        "  def update_target_q_network(self):\n",
        "    self.target_q_network.load_state_dict(self.main_q_network.state_dict())\n",
        "\n",
        "  def decide_action(self, state, episode):\n",
        "    epsilon = 0.5 * (1 / (episode + 1))\n",
        "\n",
        "    if epsilon <= np.random.uniform(0, 1):\n",
        "      self.main_q_network.eval()\n",
        "      with torch.no_grad():\n",
        "        action = self.main_q_network(state).max(1)[1].view(1, 1)\n",
        "        # view(1, 1)は、[torch.LongTensor of size 1]をsize 1x1にするらしい。逆にsize 1x1って何。\n",
        "\n",
        "    else:\n",
        "      action = torch.LongTensor([[random.randrange(self.num_actions)]])\n",
        "    \n",
        "    return action\n",
        "\n"
      ],
      "execution_count": null,
      "outputs": []
    },
    {
      "cell_type": "code",
      "metadata": {
        "colab": {
          "base_uri": "https://localhost:8080/"
        },
        "id": "nFdX_rETvnuk",
        "outputId": "2176774a-d476-4066-d296-4ff571055ca8"
      },
      "source": [
        "t = torch.zeros(10)\n",
        "mask = t is not None\n",
        "new = torch.tensor([[1, 0, 1, 1, 0, 1, 0, 0, 1, 1]])\n",
        "print(t[mask])\n",
        "t[mask] = new\n",
        "print(t)"
      ],
      "execution_count": null,
      "outputs": [
        {
          "output_type": "stream",
          "text": [
            "tensor([[0., 0., 0., 0., 0., 0., 0., 0., 0., 0.]])\n",
            "tensor([1., 0., 1., 1., 0., 1., 0., 0., 1., 1.])\n"
          ],
          "name": "stdout"
        }
      ]
    },
    {
      "cell_type": "code",
      "metadata": {
        "id": "OPbhqVLiw3iD"
      },
      "source": [
        "class Agent:\n",
        "  def __init__(self, num_states, num_actions):\n",
        "    self.brain = Brain(num_states, num_actions)\n",
        "  \n",
        "  def update_q_function(self):\n",
        "    self.brain.replay()\n",
        "  \n",
        "  def get_action(self, state, episode):\n",
        "    action = self.brain.decide_action(state, episode)\n",
        "    return action\n",
        "\n",
        "  def memorize(self, state, action, state_next, reward):\n",
        "    self.brain.memory.push(state, action, state_next, reward)\n",
        "\n",
        "  def update_target_q_function(self):\n",
        "    self.brain.update_target_q_network()\n",
        "  "
      ],
      "execution_count": null,
      "outputs": []
    },
    {
      "cell_type": "code",
      "metadata": {
        "id": "edT9LeEo9UIE"
      },
      "source": [
        "class Environment:\n",
        "  def __init__(self):\n",
        "    self.env = wrap_env(gym.make(ENV))\n",
        "    self.num_states = self.env.observation_space.shape[0]\n",
        "    self.num_actions = self.env.action_space.n\n",
        "\n",
        "    self.agent = Agent(self.num_states, self.num_actions)\n",
        "  \n",
        "  def run(self):\n",
        "    # 10回ごとに立ち続けたepisodeの平均を取る\n",
        "    episode_10_list = np.zeros(10)\n",
        "    # 連続成功記録\n",
        "    complete_episodes = 0\n",
        "    episode_final = False\n",
        "\n",
        "    for episode in range(NUM_EPISODES):\n",
        "      observation = self.env.reset()\n",
        "\n",
        "      state = observation\n",
        "      state = torch.from_numpy(state).type(torch.FloatTensor)\n",
        "      state = torch.unsqueeze(state, 0)\n",
        "\n",
        "      for step in range(MAX_STEPS):\n",
        "        \n",
        "        action = self.agent.get_action(state, episode)\n",
        "\n",
        "        observation_next, _, done, _ = self.env.step(action.item())\n",
        "\n",
        "        if done:\n",
        "          state_next = None\n",
        "          episode_10_list = np.hstack((episode_10_list[1:], step + 1))\n",
        "\n",
        "          if step < 195:\n",
        "            reward = torch.FloatTensor([-1.0])\n",
        "            complete_episodes = 0\n",
        "          else:\n",
        "            reward = torch.FloatTensor([1.0])\n",
        "            complete_episodes += 1\n",
        "        else:\n",
        "          reward = torch.FloatTensor([0.0])\n",
        "          state_next = observation_next\n",
        "          state_next = torch.from_numpy(state_next).type(torch.FloatTensor)\n",
        "          state_next = torch.unsqueeze(state_next, 0)\n",
        "        \n",
        "        self.agent.memorize(state, action, state_next, reward)\n",
        "\n",
        "        self.agent.update_q_function()\n",
        "\n",
        "        state = state_next\n",
        "\n",
        "        if done:\n",
        "          print(f'{episode} Episode: Finished after {step + 1} time steps: 10思考の平均step数 = {episode_10_list.mean()}')\n",
        "\n",
        "          if episode % 2 == 0:\n",
        "            self.agent.update_target_q_function()\n",
        "          break\n",
        "        \n",
        "      if episode_final is True:\n",
        "        show_video()\n",
        "        break\n",
        "      \n",
        "      if complete_episodes >= 10:\n",
        "        print('10回連続成功')\n",
        "        episode_final = True\n"
      ],
      "execution_count": null,
      "outputs": []
    },
    {
      "cell_type": "code",
      "metadata": {
        "colab": {
          "base_uri": "https://localhost:8080/",
          "height": 1000
        },
        "id": "KLN8sxL1Avsu",
        "outputId": "4d9a011e-9595-429e-b4d7-4f4209ec6ed1"
      },
      "source": [
        "cartpole_env = Environment()\n",
        "cartpole_env.run()"
      ],
      "execution_count": null,
      "outputs": [
        {
          "output_type": "stream",
          "text": [
            "Net(\n",
            "  (fc1): Linear(in_features=4, out_features=32, bias=True)\n",
            "  (fc2): Linear(in_features=32, out_features=32, bias=True)\n",
            "  (fc3): Linear(in_features=32, out_features=2, bias=True)\n",
            ")\n",
            "0 Episode: Finished after 17 time steps: 10思考の平均step数 = 1.7\n",
            "1 Episode: Finished after 17 time steps: 10思考の平均step数 = 3.4\n",
            "2 Episode: Finished after 13 time steps: 10思考の平均step数 = 4.7\n",
            "3 Episode: Finished after 15 time steps: 10思考の平均step数 = 6.2\n",
            "4 Episode: Finished after 20 time steps: 10思考の平均step数 = 8.2\n",
            "5 Episode: Finished after 19 time steps: 10思考の平均step数 = 10.1\n"
          ],
          "name": "stdout"
        },
        {
          "output_type": "stream",
          "text": [
            "/usr/local/lib/python3.6/dist-packages/ipykernel_launcher.py:92: UserWarning: indexing with dtype torch.uint8 is now deprecated, please use a dtype torch.bool instead. (Triggered internally at  /pytorch/aten/src/ATen/native/IndexingUtils.h:25.)\n",
            "/usr/local/lib/python3.6/dist-packages/ipykernel_launcher.py:94: UserWarning: indexing with dtype torch.uint8 is now deprecated, please use a dtype torch.bool instead. (Triggered internally at  /pytorch/aten/src/ATen/native/IndexingUtils.h:25.)\n",
            "/usr/local/lib/python3.6/dist-packages/ipykernel_launcher.py:100: UserWarning: indexing with dtype torch.uint8 is now deprecated, please use a dtype torch.bool instead. (Triggered internally at  /pytorch/aten/src/ATen/native/IndexingUtils.h:25.)\n"
          ],
          "name": "stderr"
        },
        {
          "output_type": "stream",
          "text": [
            "6 Episode: Finished after 26 time steps: 10思考の平均step数 = 12.7\n",
            "7 Episode: Finished after 15 time steps: 10思考の平均step数 = 14.2\n",
            "8 Episode: Finished after 17 time steps: 10思考の平均step数 = 15.9\n",
            "9 Episode: Finished after 23 time steps: 10思考の平均step数 = 18.2\n"
          ],
          "name": "stdout"
        },
        {
          "output_type": "stream",
          "text": [
            "/usr/local/lib/python3.6/dist-packages/ipykernel_launcher.py:92: UserWarning: indexing with dtype torch.uint8 is now deprecated, please use a dtype torch.bool instead. (Triggered internally at  /pytorch/aten/src/ATen/native/IndexingUtils.h:25.)\n",
            "/usr/local/lib/python3.6/dist-packages/ipykernel_launcher.py:94: UserWarning: indexing with dtype torch.uint8 is now deprecated, please use a dtype torch.bool instead. (Triggered internally at  /pytorch/aten/src/ATen/native/IndexingUtils.h:25.)\n",
            "/usr/local/lib/python3.6/dist-packages/ipykernel_launcher.py:100: UserWarning: indexing with dtype torch.uint8 is now deprecated, please use a dtype torch.bool instead. (Triggered internally at  /pytorch/aten/src/ATen/native/IndexingUtils.h:25.)\n"
          ],
          "name": "stderr"
        },
        {
          "output_type": "stream",
          "text": [
            "10 Episode: Finished after 17 time steps: 10思考の平均step数 = 18.2\n",
            "11 Episode: Finished after 19 time steps: 10思考の平均step数 = 18.4\n",
            "12 Episode: Finished after 41 time steps: 10思考の平均step数 = 21.2\n",
            "13 Episode: Finished after 31 time steps: 10思考の平均step数 = 22.8\n",
            "14 Episode: Finished after 19 time steps: 10思考の平均step数 = 22.7\n",
            "15 Episode: Finished after 62 time steps: 10思考の平均step数 = 27.0\n",
            "16 Episode: Finished after 25 time steps: 10思考の平均step数 = 26.9\n",
            "17 Episode: Finished after 27 time steps: 10思考の平均step数 = 28.1\n",
            "18 Episode: Finished after 17 time steps: 10思考の平均step数 = 28.1\n",
            "19 Episode: Finished after 19 time steps: 10思考の平均step数 = 27.7\n"
          ],
          "name": "stdout"
        },
        {
          "output_type": "stream",
          "text": [
            "/usr/local/lib/python3.6/dist-packages/ipykernel_launcher.py:92: UserWarning: indexing with dtype torch.uint8 is now deprecated, please use a dtype torch.bool instead. (Triggered internally at  /pytorch/aten/src/ATen/native/IndexingUtils.h:25.)\n",
            "/usr/local/lib/python3.6/dist-packages/ipykernel_launcher.py:94: UserWarning: indexing with dtype torch.uint8 is now deprecated, please use a dtype torch.bool instead. (Triggered internally at  /pytorch/aten/src/ATen/native/IndexingUtils.h:25.)\n",
            "/usr/local/lib/python3.6/dist-packages/ipykernel_launcher.py:100: UserWarning: indexing with dtype torch.uint8 is now deprecated, please use a dtype torch.bool instead. (Triggered internally at  /pytorch/aten/src/ATen/native/IndexingUtils.h:25.)\n"
          ],
          "name": "stderr"
        },
        {
          "output_type": "stream",
          "text": [
            "20 Episode: Finished after 15 time steps: 10思考の平均step数 = 27.5\n",
            "21 Episode: Finished after 14 time steps: 10思考の平均step数 = 27.0\n",
            "22 Episode: Finished after 19 time steps: 10思考の平均step数 = 24.8\n",
            "23 Episode: Finished after 18 time steps: 10思考の平均step数 = 23.5\n",
            "24 Episode: Finished after 12 time steps: 10思考の平均step数 = 22.8\n",
            "25 Episode: Finished after 16 time steps: 10思考の平均step数 = 18.2\n",
            "26 Episode: Finished after 17 time steps: 10思考の平均step数 = 17.4\n",
            "27 Episode: Finished after 11 time steps: 10思考の平均step数 = 15.8\n",
            "28 Episode: Finished after 14 time steps: 10思考の平均step数 = 15.5\n",
            "29 Episode: Finished after 14 time steps: 10思考の平均step数 = 15.0\n"
          ],
          "name": "stdout"
        },
        {
          "output_type": "stream",
          "text": [
            "/usr/local/lib/python3.6/dist-packages/ipykernel_launcher.py:92: UserWarning: indexing with dtype torch.uint8 is now deprecated, please use a dtype torch.bool instead. (Triggered internally at  /pytorch/aten/src/ATen/native/IndexingUtils.h:25.)\n",
            "/usr/local/lib/python3.6/dist-packages/ipykernel_launcher.py:94: UserWarning: indexing with dtype torch.uint8 is now deprecated, please use a dtype torch.bool instead. (Triggered internally at  /pytorch/aten/src/ATen/native/IndexingUtils.h:25.)\n",
            "/usr/local/lib/python3.6/dist-packages/ipykernel_launcher.py:100: UserWarning: indexing with dtype torch.uint8 is now deprecated, please use a dtype torch.bool instead. (Triggered internally at  /pytorch/aten/src/ATen/native/IndexingUtils.h:25.)\n"
          ],
          "name": "stderr"
        },
        {
          "output_type": "stream",
          "text": [
            "30 Episode: Finished after 13 time steps: 10思考の平均step数 = 14.8\n",
            "31 Episode: Finished after 18 time steps: 10思考の平均step数 = 15.2\n",
            "32 Episode: Finished after 13 time steps: 10思考の平均step数 = 14.6\n",
            "33 Episode: Finished after 16 time steps: 10思考の平均step数 = 14.4\n",
            "34 Episode: Finished after 13 time steps: 10思考の平均step数 = 14.5\n",
            "35 Episode: Finished after 12 time steps: 10思考の平均step数 = 14.1\n",
            "36 Episode: Finished after 12 time steps: 10思考の平均step数 = 13.6\n",
            "37 Episode: Finished after 16 time steps: 10思考の平均step数 = 14.1\n",
            "38 Episode: Finished after 14 time steps: 10思考の平均step数 = 14.1\n",
            "39 Episode: Finished after 14 time steps: 10思考の平均step数 = 14.1\n"
          ],
          "name": "stdout"
        },
        {
          "output_type": "stream",
          "text": [
            "/usr/local/lib/python3.6/dist-packages/ipykernel_launcher.py:92: UserWarning: indexing with dtype torch.uint8 is now deprecated, please use a dtype torch.bool instead. (Triggered internally at  /pytorch/aten/src/ATen/native/IndexingUtils.h:25.)\n",
            "/usr/local/lib/python3.6/dist-packages/ipykernel_launcher.py:94: UserWarning: indexing with dtype torch.uint8 is now deprecated, please use a dtype torch.bool instead. (Triggered internally at  /pytorch/aten/src/ATen/native/IndexingUtils.h:25.)\n",
            "/usr/local/lib/python3.6/dist-packages/ipykernel_launcher.py:100: UserWarning: indexing with dtype torch.uint8 is now deprecated, please use a dtype torch.bool instead. (Triggered internally at  /pytorch/aten/src/ATen/native/IndexingUtils.h:25.)\n"
          ],
          "name": "stderr"
        },
        {
          "output_type": "stream",
          "text": [
            "40 Episode: Finished after 12 time steps: 10思考の平均step数 = 14.0\n",
            "41 Episode: Finished after 12 time steps: 10思考の平均step数 = 13.4\n",
            "42 Episode: Finished after 14 time steps: 10思考の平均step数 = 13.5\n",
            "43 Episode: Finished after 19 time steps: 10思考の平均step数 = 13.8\n",
            "44 Episode: Finished after 13 time steps: 10思考の平均step数 = 13.8\n",
            "45 Episode: Finished after 12 time steps: 10思考の平均step数 = 13.8\n",
            "46 Episode: Finished after 16 time steps: 10思考の平均step数 = 14.2\n",
            "47 Episode: Finished after 23 time steps: 10思考の平均step数 = 14.9\n",
            "48 Episode: Finished after 16 time steps: 10思考の平均step数 = 15.1\n",
            "49 Episode: Finished after 21 time steps: 10思考の平均step数 = 15.8\n"
          ],
          "name": "stdout"
        },
        {
          "output_type": "stream",
          "text": [
            "/usr/local/lib/python3.6/dist-packages/ipykernel_launcher.py:92: UserWarning: indexing with dtype torch.uint8 is now deprecated, please use a dtype torch.bool instead. (Triggered internally at  /pytorch/aten/src/ATen/native/IndexingUtils.h:25.)\n",
            "/usr/local/lib/python3.6/dist-packages/ipykernel_launcher.py:94: UserWarning: indexing with dtype torch.uint8 is now deprecated, please use a dtype torch.bool instead. (Triggered internally at  /pytorch/aten/src/ATen/native/IndexingUtils.h:25.)\n",
            "/usr/local/lib/python3.6/dist-packages/ipykernel_launcher.py:100: UserWarning: indexing with dtype torch.uint8 is now deprecated, please use a dtype torch.bool instead. (Triggered internally at  /pytorch/aten/src/ATen/native/IndexingUtils.h:25.)\n"
          ],
          "name": "stderr"
        },
        {
          "output_type": "stream",
          "text": [
            "50 Episode: Finished after 20 time steps: 10思考の平均step数 = 16.6\n",
            "51 Episode: Finished after 21 time steps: 10思考の平均step数 = 17.5\n",
            "52 Episode: Finished after 17 time steps: 10思考の平均step数 = 17.8\n",
            "53 Episode: Finished after 24 time steps: 10思考の平均step数 = 18.3\n",
            "54 Episode: Finished after 57 time steps: 10思考の平均step数 = 22.7\n",
            "55 Episode: Finished after 27 time steps: 10思考の平均step数 = 24.2\n",
            "56 Episode: Finished after 58 time steps: 10思考の平均step数 = 28.4\n",
            "57 Episode: Finished after 63 time steps: 10思考の平均step数 = 32.4\n",
            "58 Episode: Finished after 30 time steps: 10思考の平均step数 = 33.8\n",
            "59 Episode: Finished after 39 time steps: 10思考の平均step数 = 35.6\n"
          ],
          "name": "stdout"
        },
        {
          "output_type": "stream",
          "text": [
            "/usr/local/lib/python3.6/dist-packages/ipykernel_launcher.py:92: UserWarning: indexing with dtype torch.uint8 is now deprecated, please use a dtype torch.bool instead. (Triggered internally at  /pytorch/aten/src/ATen/native/IndexingUtils.h:25.)\n",
            "/usr/local/lib/python3.6/dist-packages/ipykernel_launcher.py:94: UserWarning: indexing with dtype torch.uint8 is now deprecated, please use a dtype torch.bool instead. (Triggered internally at  /pytorch/aten/src/ATen/native/IndexingUtils.h:25.)\n",
            "/usr/local/lib/python3.6/dist-packages/ipykernel_launcher.py:100: UserWarning: indexing with dtype torch.uint8 is now deprecated, please use a dtype torch.bool instead. (Triggered internally at  /pytorch/aten/src/ATen/native/IndexingUtils.h:25.)\n"
          ],
          "name": "stderr"
        },
        {
          "output_type": "stream",
          "text": [
            "60 Episode: Finished after 25 time steps: 10思考の平均step数 = 36.1\n",
            "61 Episode: Finished after 31 time steps: 10思考の平均step数 = 37.1\n",
            "62 Episode: Finished after 28 time steps: 10思考の平均step数 = 38.2\n",
            "63 Episode: Finished after 24 time steps: 10思考の平均step数 = 38.2\n",
            "64 Episode: Finished after 47 time steps: 10思考の平均step数 = 37.2\n",
            "65 Episode: Finished after 49 time steps: 10思考の平均step数 = 39.4\n",
            "66 Episode: Finished after 22 time steps: 10思考の平均step数 = 35.8\n",
            "67 Episode: Finished after 36 time steps: 10思考の平均step数 = 33.1\n",
            "68 Episode: Finished after 59 time steps: 10思考の平均step数 = 36.0\n",
            "69 Episode: Finished after 70 time steps: 10思考の平均step数 = 39.1\n"
          ],
          "name": "stdout"
        },
        {
          "output_type": "stream",
          "text": [
            "/usr/local/lib/python3.6/dist-packages/ipykernel_launcher.py:92: UserWarning: indexing with dtype torch.uint8 is now deprecated, please use a dtype torch.bool instead. (Triggered internally at  /pytorch/aten/src/ATen/native/IndexingUtils.h:25.)\n",
            "/usr/local/lib/python3.6/dist-packages/ipykernel_launcher.py:94: UserWarning: indexing with dtype torch.uint8 is now deprecated, please use a dtype torch.bool instead. (Triggered internally at  /pytorch/aten/src/ATen/native/IndexingUtils.h:25.)\n",
            "/usr/local/lib/python3.6/dist-packages/ipykernel_launcher.py:100: UserWarning: indexing with dtype torch.uint8 is now deprecated, please use a dtype torch.bool instead. (Triggered internally at  /pytorch/aten/src/ATen/native/IndexingUtils.h:25.)\n"
          ],
          "name": "stderr"
        },
        {
          "output_type": "stream",
          "text": [
            "70 Episode: Finished after 51 time steps: 10思考の平均step数 = 41.7\n",
            "71 Episode: Finished after 34 time steps: 10思考の平均step数 = 42.0\n",
            "72 Episode: Finished after 89 time steps: 10思考の平均step数 = 48.1\n",
            "73 Episode: Finished after 84 time steps: 10思考の平均step数 = 54.1\n",
            "74 Episode: Finished after 46 time steps: 10思考の平均step数 = 54.0\n",
            "75 Episode: Finished after 74 time steps: 10思考の平均step数 = 56.5\n",
            "76 Episode: Finished after 73 time steps: 10思考の平均step数 = 61.6\n",
            "77 Episode: Finished after 53 time steps: 10思考の平均step数 = 63.3\n",
            "78 Episode: Finished after 38 time steps: 10思考の平均step数 = 61.2\n",
            "79 Episode: Finished after 36 time steps: 10思考の平均step数 = 57.8\n"
          ],
          "name": "stdout"
        },
        {
          "output_type": "stream",
          "text": [
            "/usr/local/lib/python3.6/dist-packages/ipykernel_launcher.py:92: UserWarning: indexing with dtype torch.uint8 is now deprecated, please use a dtype torch.bool instead. (Triggered internally at  /pytorch/aten/src/ATen/native/IndexingUtils.h:25.)\n",
            "/usr/local/lib/python3.6/dist-packages/ipykernel_launcher.py:94: UserWarning: indexing with dtype torch.uint8 is now deprecated, please use a dtype torch.bool instead. (Triggered internally at  /pytorch/aten/src/ATen/native/IndexingUtils.h:25.)\n",
            "/usr/local/lib/python3.6/dist-packages/ipykernel_launcher.py:100: UserWarning: indexing with dtype torch.uint8 is now deprecated, please use a dtype torch.bool instead. (Triggered internally at  /pytorch/aten/src/ATen/native/IndexingUtils.h:25.)\n"
          ],
          "name": "stderr"
        },
        {
          "output_type": "stream",
          "text": [
            "80 Episode: Finished after 84 time steps: 10思考の平均step数 = 61.1\n",
            "81 Episode: Finished after 67 time steps: 10思考の平均step数 = 64.4\n",
            "82 Episode: Finished after 41 time steps: 10思考の平均step数 = 59.6\n",
            "83 Episode: Finished after 48 time steps: 10思考の平均step数 = 56.0\n",
            "84 Episode: Finished after 104 time steps: 10思考の平均step数 = 61.8\n",
            "85 Episode: Finished after 65 time steps: 10思考の平均step数 = 60.9\n",
            "86 Episode: Finished after 123 time steps: 10思考の平均step数 = 65.9\n",
            "87 Episode: Finished after 70 time steps: 10思考の平均step数 = 67.6\n",
            "88 Episode: Finished after 59 time steps: 10思考の平均step数 = 69.7\n",
            "89 Episode: Finished after 40 time steps: 10思考の平均step数 = 70.1\n"
          ],
          "name": "stdout"
        },
        {
          "output_type": "stream",
          "text": [
            "/usr/local/lib/python3.6/dist-packages/ipykernel_launcher.py:92: UserWarning: indexing with dtype torch.uint8 is now deprecated, please use a dtype torch.bool instead. (Triggered internally at  /pytorch/aten/src/ATen/native/IndexingUtils.h:25.)\n",
            "/usr/local/lib/python3.6/dist-packages/ipykernel_launcher.py:94: UserWarning: indexing with dtype torch.uint8 is now deprecated, please use a dtype torch.bool instead. (Triggered internally at  /pytorch/aten/src/ATen/native/IndexingUtils.h:25.)\n",
            "/usr/local/lib/python3.6/dist-packages/ipykernel_launcher.py:100: UserWarning: indexing with dtype torch.uint8 is now deprecated, please use a dtype torch.bool instead. (Triggered internally at  /pytorch/aten/src/ATen/native/IndexingUtils.h:25.)\n"
          ],
          "name": "stderr"
        },
        {
          "output_type": "stream",
          "text": [
            "90 Episode: Finished after 46 time steps: 10思考の平均step数 = 66.3\n",
            "91 Episode: Finished after 102 time steps: 10思考の平均step数 = 69.8\n",
            "92 Episode: Finished after 88 time steps: 10思考の平均step数 = 74.5\n",
            "93 Episode: Finished after 80 time steps: 10思考の平均step数 = 77.7\n",
            "94 Episode: Finished after 51 time steps: 10思考の平均step数 = 72.4\n",
            "95 Episode: Finished after 51 time steps: 10思考の平均step数 = 71.0\n",
            "96 Episode: Finished after 200 time steps: 10思考の平均step数 = 78.7\n",
            "97 Episode: Finished after 98 time steps: 10思考の平均step数 = 81.5\n",
            "98 Episode: Finished after 103 time steps: 10思考の平均step数 = 85.9\n",
            "99 Episode: Finished after 116 time steps: 10思考の平均step数 = 93.5\n"
          ],
          "name": "stdout"
        },
        {
          "output_type": "stream",
          "text": [
            "/usr/local/lib/python3.6/dist-packages/ipykernel_launcher.py:92: UserWarning: indexing with dtype torch.uint8 is now deprecated, please use a dtype torch.bool instead. (Triggered internally at  /pytorch/aten/src/ATen/native/IndexingUtils.h:25.)\n",
            "/usr/local/lib/python3.6/dist-packages/ipykernel_launcher.py:94: UserWarning: indexing with dtype torch.uint8 is now deprecated, please use a dtype torch.bool instead. (Triggered internally at  /pytorch/aten/src/ATen/native/IndexingUtils.h:25.)\n",
            "/usr/local/lib/python3.6/dist-packages/ipykernel_launcher.py:100: UserWarning: indexing with dtype torch.uint8 is now deprecated, please use a dtype torch.bool instead. (Triggered internally at  /pytorch/aten/src/ATen/native/IndexingUtils.h:25.)\n"
          ],
          "name": "stderr"
        },
        {
          "output_type": "stream",
          "text": [
            "100 Episode: Finished after 74 time steps: 10思考の平均step数 = 96.3\n",
            "101 Episode: Finished after 64 time steps: 10思考の平均step数 = 92.5\n",
            "102 Episode: Finished after 60 time steps: 10思考の平均step数 = 89.7\n",
            "103 Episode: Finished after 65 time steps: 10思考の平均step数 = 88.2\n",
            "104 Episode: Finished after 49 time steps: 10思考の平均step数 = 88.0\n",
            "105 Episode: Finished after 63 time steps: 10思考の平均step数 = 89.2\n",
            "106 Episode: Finished after 141 time steps: 10思考の平均step数 = 83.3\n",
            "107 Episode: Finished after 119 time steps: 10思考の平均step数 = 85.4\n",
            "108 Episode: Finished after 84 time steps: 10思考の平均step数 = 83.5\n",
            "109 Episode: Finished after 136 time steps: 10思考の平均step数 = 85.5\n"
          ],
          "name": "stdout"
        },
        {
          "output_type": "stream",
          "text": [
            "/usr/local/lib/python3.6/dist-packages/ipykernel_launcher.py:92: UserWarning: indexing with dtype torch.uint8 is now deprecated, please use a dtype torch.bool instead. (Triggered internally at  /pytorch/aten/src/ATen/native/IndexingUtils.h:25.)\n",
            "/usr/local/lib/python3.6/dist-packages/ipykernel_launcher.py:94: UserWarning: indexing with dtype torch.uint8 is now deprecated, please use a dtype torch.bool instead. (Triggered internally at  /pytorch/aten/src/ATen/native/IndexingUtils.h:25.)\n",
            "/usr/local/lib/python3.6/dist-packages/ipykernel_launcher.py:100: UserWarning: indexing with dtype torch.uint8 is now deprecated, please use a dtype torch.bool instead. (Triggered internally at  /pytorch/aten/src/ATen/native/IndexingUtils.h:25.)\n"
          ],
          "name": "stderr"
        },
        {
          "output_type": "stream",
          "text": [
            "110 Episode: Finished after 200 time steps: 10思考の平均step数 = 98.1\n",
            "111 Episode: Finished after 77 time steps: 10思考の平均step数 = 99.4\n",
            "112 Episode: Finished after 72 time steps: 10思考の平均step数 = 100.6\n",
            "113 Episode: Finished after 85 time steps: 10思考の平均step数 = 102.6\n",
            "114 Episode: Finished after 200 time steps: 10思考の平均step数 = 117.7\n",
            "115 Episode: Finished after 86 time steps: 10思考の平均step数 = 120.0\n",
            "116 Episode: Finished after 111 time steps: 10思考の平均step数 = 117.0\n",
            "117 Episode: Finished after 150 time steps: 10思考の平均step数 = 120.1\n",
            "118 Episode: Finished after 187 time steps: 10思考の平均step数 = 130.4\n",
            "119 Episode: Finished after 95 time steps: 10思考の平均step数 = 126.3\n"
          ],
          "name": "stdout"
        },
        {
          "output_type": "stream",
          "text": [
            "/usr/local/lib/python3.6/dist-packages/ipykernel_launcher.py:92: UserWarning: indexing with dtype torch.uint8 is now deprecated, please use a dtype torch.bool instead. (Triggered internally at  /pytorch/aten/src/ATen/native/IndexingUtils.h:25.)\n",
            "/usr/local/lib/python3.6/dist-packages/ipykernel_launcher.py:94: UserWarning: indexing with dtype torch.uint8 is now deprecated, please use a dtype torch.bool instead. (Triggered internally at  /pytorch/aten/src/ATen/native/IndexingUtils.h:25.)\n",
            "/usr/local/lib/python3.6/dist-packages/ipykernel_launcher.py:100: UserWarning: indexing with dtype torch.uint8 is now deprecated, please use a dtype torch.bool instead. (Triggered internally at  /pytorch/aten/src/ATen/native/IndexingUtils.h:25.)\n"
          ],
          "name": "stderr"
        },
        {
          "output_type": "stream",
          "text": [
            "120 Episode: Finished after 200 time steps: 10思考の平均step数 = 126.3\n",
            "121 Episode: Finished after 129 time steps: 10思考の平均step数 = 131.5\n",
            "122 Episode: Finished after 104 time steps: 10思考の平均step数 = 134.7\n",
            "123 Episode: Finished after 142 time steps: 10思考の平均step数 = 140.4\n",
            "124 Episode: Finished after 123 time steps: 10思考の平均step数 = 132.7\n",
            "125 Episode: Finished after 105 time steps: 10思考の平均step数 = 134.6\n",
            "126 Episode: Finished after 200 time steps: 10思考の平均step数 = 143.5\n",
            "127 Episode: Finished after 158 time steps: 10思考の平均step数 = 144.3\n",
            "128 Episode: Finished after 200 time steps: 10思考の平均step数 = 145.6\n",
            "129 Episode: Finished after 187 time steps: 10思考の平均step数 = 154.8\n"
          ],
          "name": "stdout"
        },
        {
          "output_type": "stream",
          "text": [
            "/usr/local/lib/python3.6/dist-packages/ipykernel_launcher.py:92: UserWarning: indexing with dtype torch.uint8 is now deprecated, please use a dtype torch.bool instead. (Triggered internally at  /pytorch/aten/src/ATen/native/IndexingUtils.h:25.)\n",
            "/usr/local/lib/python3.6/dist-packages/ipykernel_launcher.py:94: UserWarning: indexing with dtype torch.uint8 is now deprecated, please use a dtype torch.bool instead. (Triggered internally at  /pytorch/aten/src/ATen/native/IndexingUtils.h:25.)\n",
            "/usr/local/lib/python3.6/dist-packages/ipykernel_launcher.py:100: UserWarning: indexing with dtype torch.uint8 is now deprecated, please use a dtype torch.bool instead. (Triggered internally at  /pytorch/aten/src/ATen/native/IndexingUtils.h:25.)\n"
          ],
          "name": "stderr"
        },
        {
          "output_type": "stream",
          "text": [
            "130 Episode: Finished after 197 time steps: 10思考の平均step数 = 154.5\n",
            "131 Episode: Finished after 97 time steps: 10思考の平均step数 = 151.3\n",
            "132 Episode: Finished after 140 time steps: 10思考の平均step数 = 154.9\n",
            "133 Episode: Finished after 163 time steps: 10思考の平均step数 = 157.0\n",
            "134 Episode: Finished after 200 time steps: 10思考の平均step数 = 164.7\n",
            "135 Episode: Finished after 200 time steps: 10思考の平均step数 = 174.2\n",
            "136 Episode: Finished after 200 time steps: 10思考の平均step数 = 174.2\n",
            "137 Episode: Finished after 200 time steps: 10思考の平均step数 = 178.4\n",
            "138 Episode: Finished after 200 time steps: 10思考の平均step数 = 178.4\n",
            "139 Episode: Finished after 200 time steps: 10思考の平均step数 = 179.7\n"
          ],
          "name": "stdout"
        },
        {
          "output_type": "stream",
          "text": [
            "/usr/local/lib/python3.6/dist-packages/ipykernel_launcher.py:92: UserWarning: indexing with dtype torch.uint8 is now deprecated, please use a dtype torch.bool instead. (Triggered internally at  /pytorch/aten/src/ATen/native/IndexingUtils.h:25.)\n",
            "/usr/local/lib/python3.6/dist-packages/ipykernel_launcher.py:94: UserWarning: indexing with dtype torch.uint8 is now deprecated, please use a dtype torch.bool instead. (Triggered internally at  /pytorch/aten/src/ATen/native/IndexingUtils.h:25.)\n",
            "/usr/local/lib/python3.6/dist-packages/ipykernel_launcher.py:100: UserWarning: indexing with dtype torch.uint8 is now deprecated, please use a dtype torch.bool instead. (Triggered internally at  /pytorch/aten/src/ATen/native/IndexingUtils.h:25.)\n"
          ],
          "name": "stderr"
        },
        {
          "output_type": "stream",
          "text": [
            "140 Episode: Finished after 200 time steps: 10思考の平均step数 = 180.0\n",
            "141 Episode: Finished after 200 time steps: 10思考の平均step数 = 190.3\n",
            "142 Episode: Finished after 161 time steps: 10思考の平均step数 = 192.4\n",
            "143 Episode: Finished after 200 time steps: 10思考の平均step数 = 196.1\n",
            "144 Episode: Finished after 200 time steps: 10思考の平均step数 = 196.1\n",
            "145 Episode: Finished after 200 time steps: 10思考の平均step数 = 196.1\n",
            "146 Episode: Finished after 200 time steps: 10思考の平均step数 = 196.1\n",
            "147 Episode: Finished after 200 time steps: 10思考の平均step数 = 196.1\n",
            "148 Episode: Finished after 200 time steps: 10思考の平均step数 = 196.1\n",
            "149 Episode: Finished after 200 time steps: 10思考の平均step数 = 196.1\n"
          ],
          "name": "stdout"
        },
        {
          "output_type": "stream",
          "text": [
            "/usr/local/lib/python3.6/dist-packages/ipykernel_launcher.py:92: UserWarning: indexing with dtype torch.uint8 is now deprecated, please use a dtype torch.bool instead. (Triggered internally at  /pytorch/aten/src/ATen/native/IndexingUtils.h:25.)\n",
            "/usr/local/lib/python3.6/dist-packages/ipykernel_launcher.py:94: UserWarning: indexing with dtype torch.uint8 is now deprecated, please use a dtype torch.bool instead. (Triggered internally at  /pytorch/aten/src/ATen/native/IndexingUtils.h:25.)\n",
            "/usr/local/lib/python3.6/dist-packages/ipykernel_launcher.py:100: UserWarning: indexing with dtype torch.uint8 is now deprecated, please use a dtype torch.bool instead. (Triggered internally at  /pytorch/aten/src/ATen/native/IndexingUtils.h:25.)\n"
          ],
          "name": "stderr"
        },
        {
          "output_type": "stream",
          "text": [
            "150 Episode: Finished after 182 time steps: 10思考の平均step数 = 194.3\n",
            "151 Episode: Finished after 200 time steps: 10思考の平均step数 = 194.3\n",
            "152 Episode: Finished after 200 time steps: 10思考の平均step数 = 198.2\n",
            "153 Episode: Finished after 200 time steps: 10思考の平均step数 = 198.2\n",
            "154 Episode: Finished after 200 time steps: 10思考の平均step数 = 198.2\n",
            "155 Episode: Finished after 160 time steps: 10思考の平均step数 = 194.2\n",
            "156 Episode: Finished after 200 time steps: 10思考の平均step数 = 194.2\n",
            "157 Episode: Finished after 186 time steps: 10思考の平均step数 = 192.8\n",
            "158 Episode: Finished after 200 time steps: 10思考の平均step数 = 192.8\n",
            "159 Episode: Finished after 200 time steps: 10思考の平均step数 = 192.8\n"
          ],
          "name": "stdout"
        },
        {
          "output_type": "stream",
          "text": [
            "/usr/local/lib/python3.6/dist-packages/ipykernel_launcher.py:92: UserWarning: indexing with dtype torch.uint8 is now deprecated, please use a dtype torch.bool instead. (Triggered internally at  /pytorch/aten/src/ATen/native/IndexingUtils.h:25.)\n",
            "/usr/local/lib/python3.6/dist-packages/ipykernel_launcher.py:94: UserWarning: indexing with dtype torch.uint8 is now deprecated, please use a dtype torch.bool instead. (Triggered internally at  /pytorch/aten/src/ATen/native/IndexingUtils.h:25.)\n",
            "/usr/local/lib/python3.6/dist-packages/ipykernel_launcher.py:100: UserWarning: indexing with dtype torch.uint8 is now deprecated, please use a dtype torch.bool instead. (Triggered internally at  /pytorch/aten/src/ATen/native/IndexingUtils.h:25.)\n"
          ],
          "name": "stderr"
        },
        {
          "output_type": "stream",
          "text": [
            "160 Episode: Finished after 160 time steps: 10思考の平均step数 = 190.6\n",
            "161 Episode: Finished after 200 time steps: 10思考の平均step数 = 190.6\n",
            "162 Episode: Finished after 115 time steps: 10思考の平均step数 = 182.1\n",
            "163 Episode: Finished after 200 time steps: 10思考の平均step数 = 182.1\n",
            "164 Episode: Finished after 117 time steps: 10思考の平均step数 = 173.8\n",
            "165 Episode: Finished after 116 time steps: 10思考の平均step数 = 169.4\n",
            "166 Episode: Finished after 116 time steps: 10思考の平均step数 = 161.0\n",
            "167 Episode: Finished after 173 time steps: 10思考の平均step数 = 159.7\n",
            "168 Episode: Finished after 118 time steps: 10思考の平均step数 = 151.5\n",
            "169 Episode: Finished after 135 time steps: 10思考の平均step数 = 145.0\n"
          ],
          "name": "stdout"
        },
        {
          "output_type": "stream",
          "text": [
            "/usr/local/lib/python3.6/dist-packages/ipykernel_launcher.py:92: UserWarning: indexing with dtype torch.uint8 is now deprecated, please use a dtype torch.bool instead. (Triggered internally at  /pytorch/aten/src/ATen/native/IndexingUtils.h:25.)\n",
            "/usr/local/lib/python3.6/dist-packages/ipykernel_launcher.py:94: UserWarning: indexing with dtype torch.uint8 is now deprecated, please use a dtype torch.bool instead. (Triggered internally at  /pytorch/aten/src/ATen/native/IndexingUtils.h:25.)\n",
            "/usr/local/lib/python3.6/dist-packages/ipykernel_launcher.py:100: UserWarning: indexing with dtype torch.uint8 is now deprecated, please use a dtype torch.bool instead. (Triggered internally at  /pytorch/aten/src/ATen/native/IndexingUtils.h:25.)\n"
          ],
          "name": "stderr"
        },
        {
          "output_type": "stream",
          "text": [
            "170 Episode: Finished after 91 time steps: 10思考の平均step数 = 138.1\n",
            "171 Episode: Finished after 189 time steps: 10思考の平均step数 = 137.0\n",
            "172 Episode: Finished after 132 time steps: 10思考の平均step数 = 138.7\n",
            "173 Episode: Finished after 200 time steps: 10思考の平均step数 = 138.7\n",
            "174 Episode: Finished after 110 time steps: 10思考の平均step数 = 138.0\n",
            "175 Episode: Finished after 200 time steps: 10思考の平均step数 = 146.4\n",
            "176 Episode: Finished after 200 time steps: 10思考の平均step数 = 154.8\n",
            "177 Episode: Finished after 117 time steps: 10思考の平均step数 = 149.2\n",
            "178 Episode: Finished after 104 time steps: 10思考の平均step数 = 147.8\n",
            "179 Episode: Finished after 119 time steps: 10思考の平均step数 = 146.2\n"
          ],
          "name": "stdout"
        },
        {
          "output_type": "stream",
          "text": [
            "/usr/local/lib/python3.6/dist-packages/ipykernel_launcher.py:92: UserWarning: indexing with dtype torch.uint8 is now deprecated, please use a dtype torch.bool instead. (Triggered internally at  /pytorch/aten/src/ATen/native/IndexingUtils.h:25.)\n",
            "/usr/local/lib/python3.6/dist-packages/ipykernel_launcher.py:94: UserWarning: indexing with dtype torch.uint8 is now deprecated, please use a dtype torch.bool instead. (Triggered internally at  /pytorch/aten/src/ATen/native/IndexingUtils.h:25.)\n",
            "/usr/local/lib/python3.6/dist-packages/ipykernel_launcher.py:100: UserWarning: indexing with dtype torch.uint8 is now deprecated, please use a dtype torch.bool instead. (Triggered internally at  /pytorch/aten/src/ATen/native/IndexingUtils.h:25.)\n"
          ],
          "name": "stderr"
        },
        {
          "output_type": "stream",
          "text": [
            "180 Episode: Finished after 131 time steps: 10思考の平均step数 = 150.2\n",
            "181 Episode: Finished after 175 time steps: 10思考の平均step数 = 148.8\n",
            "182 Episode: Finished after 107 time steps: 10思考の平均step数 = 146.3\n",
            "183 Episode: Finished after 121 time steps: 10思考の平均step数 = 138.4\n",
            "184 Episode: Finished after 200 time steps: 10思考の平均step数 = 147.4\n",
            "185 Episode: Finished after 114 time steps: 10思考の平均step数 = 138.8\n",
            "186 Episode: Finished after 145 time steps: 10思考の平均step数 = 133.3\n",
            "187 Episode: Finished after 139 time steps: 10思考の平均step数 = 135.5\n",
            "188 Episode: Finished after 134 time steps: 10思考の平均step数 = 138.5\n",
            "189 Episode: Finished after 200 time steps: 10思考の平均step数 = 146.6\n"
          ],
          "name": "stdout"
        },
        {
          "output_type": "stream",
          "text": [
            "/usr/local/lib/python3.6/dist-packages/ipykernel_launcher.py:92: UserWarning: indexing with dtype torch.uint8 is now deprecated, please use a dtype torch.bool instead. (Triggered internally at  /pytorch/aten/src/ATen/native/IndexingUtils.h:25.)\n",
            "/usr/local/lib/python3.6/dist-packages/ipykernel_launcher.py:94: UserWarning: indexing with dtype torch.uint8 is now deprecated, please use a dtype torch.bool instead. (Triggered internally at  /pytorch/aten/src/ATen/native/IndexingUtils.h:25.)\n",
            "/usr/local/lib/python3.6/dist-packages/ipykernel_launcher.py:100: UserWarning: indexing with dtype torch.uint8 is now deprecated, please use a dtype torch.bool instead. (Triggered internally at  /pytorch/aten/src/ATen/native/IndexingUtils.h:25.)\n"
          ],
          "name": "stderr"
        },
        {
          "output_type": "stream",
          "text": [
            "190 Episode: Finished after 200 time steps: 10思考の平均step数 = 153.5\n",
            "191 Episode: Finished after 131 time steps: 10思考の平均step数 = 149.1\n",
            "192 Episode: Finished after 167 time steps: 10思考の平均step数 = 155.1\n",
            "193 Episode: Finished after 102 time steps: 10思考の平均step数 = 153.2\n",
            "194 Episode: Finished after 121 time steps: 10思考の平均step数 = 145.3\n",
            "195 Episode: Finished after 200 time steps: 10思考の平均step数 = 153.9\n",
            "196 Episode: Finished after 136 time steps: 10思考の平均step数 = 153.0\n",
            "197 Episode: Finished after 200 time steps: 10思考の平均step数 = 159.1\n",
            "198 Episode: Finished after 200 time steps: 10思考の平均step数 = 165.7\n",
            "199 Episode: Finished after 189 time steps: 10思考の平均step数 = 164.6\n"
          ],
          "name": "stdout"
        },
        {
          "output_type": "stream",
          "text": [
            "/usr/local/lib/python3.6/dist-packages/ipykernel_launcher.py:92: UserWarning: indexing with dtype torch.uint8 is now deprecated, please use a dtype torch.bool instead. (Triggered internally at  /pytorch/aten/src/ATen/native/IndexingUtils.h:25.)\n",
            "/usr/local/lib/python3.6/dist-packages/ipykernel_launcher.py:94: UserWarning: indexing with dtype torch.uint8 is now deprecated, please use a dtype torch.bool instead. (Triggered internally at  /pytorch/aten/src/ATen/native/IndexingUtils.h:25.)\n",
            "/usr/local/lib/python3.6/dist-packages/ipykernel_launcher.py:100: UserWarning: indexing with dtype torch.uint8 is now deprecated, please use a dtype torch.bool instead. (Triggered internally at  /pytorch/aten/src/ATen/native/IndexingUtils.h:25.)\n"
          ],
          "name": "stderr"
        },
        {
          "output_type": "stream",
          "text": [
            "200 Episode: Finished after 200 time steps: 10思考の平均step数 = 164.6\n",
            "201 Episode: Finished after 200 time steps: 10思考の平均step数 = 171.5\n",
            "202 Episode: Finished after 139 time steps: 10思考の平均step数 = 168.7\n",
            "203 Episode: Finished after 200 time steps: 10思考の平均step数 = 178.5\n",
            "204 Episode: Finished after 115 time steps: 10思考の平均step数 = 177.9\n",
            "205 Episode: Finished after 145 time steps: 10思考の平均step数 = 172.4\n",
            "206 Episode: Finished after 200 time steps: 10思考の平均step数 = 178.8\n",
            "207 Episode: Finished after 159 time steps: 10思考の平均step数 = 174.7\n",
            "208 Episode: Finished after 123 time steps: 10思考の平均step数 = 167.0\n",
            "209 Episode: Finished after 133 time steps: 10思考の平均step数 = 161.4\n"
          ],
          "name": "stdout"
        },
        {
          "output_type": "stream",
          "text": [
            "/usr/local/lib/python3.6/dist-packages/ipykernel_launcher.py:92: UserWarning: indexing with dtype torch.uint8 is now deprecated, please use a dtype torch.bool instead. (Triggered internally at  /pytorch/aten/src/ATen/native/IndexingUtils.h:25.)\n",
            "/usr/local/lib/python3.6/dist-packages/ipykernel_launcher.py:94: UserWarning: indexing with dtype torch.uint8 is now deprecated, please use a dtype torch.bool instead. (Triggered internally at  /pytorch/aten/src/ATen/native/IndexingUtils.h:25.)\n",
            "/usr/local/lib/python3.6/dist-packages/ipykernel_launcher.py:100: UserWarning: indexing with dtype torch.uint8 is now deprecated, please use a dtype torch.bool instead. (Triggered internally at  /pytorch/aten/src/ATen/native/IndexingUtils.h:25.)\n"
          ],
          "name": "stderr"
        },
        {
          "output_type": "stream",
          "text": [
            "210 Episode: Finished after 139 time steps: 10思考の平均step数 = 155.3\n",
            "211 Episode: Finished after 168 time steps: 10思考の平均step数 = 152.1\n",
            "212 Episode: Finished after 127 time steps: 10思考の平均step数 = 150.9\n",
            "213 Episode: Finished after 200 time steps: 10思考の平均step数 = 150.9\n",
            "214 Episode: Finished after 141 time steps: 10思考の平均step数 = 153.5\n",
            "215 Episode: Finished after 141 time steps: 10思考の平均step数 = 153.1\n",
            "216 Episode: Finished after 167 time steps: 10思考の平均step数 = 149.8\n",
            "217 Episode: Finished after 144 time steps: 10思考の平均step数 = 148.3\n",
            "218 Episode: Finished after 200 time steps: 10思考の平均step数 = 156.0\n",
            "219 Episode: Finished after 134 time steps: 10思考の平均step数 = 156.1\n"
          ],
          "name": "stdout"
        },
        {
          "output_type": "stream",
          "text": [
            "/usr/local/lib/python3.6/dist-packages/ipykernel_launcher.py:92: UserWarning: indexing with dtype torch.uint8 is now deprecated, please use a dtype torch.bool instead. (Triggered internally at  /pytorch/aten/src/ATen/native/IndexingUtils.h:25.)\n",
            "/usr/local/lib/python3.6/dist-packages/ipykernel_launcher.py:94: UserWarning: indexing with dtype torch.uint8 is now deprecated, please use a dtype torch.bool instead. (Triggered internally at  /pytorch/aten/src/ATen/native/IndexingUtils.h:25.)\n",
            "/usr/local/lib/python3.6/dist-packages/ipykernel_launcher.py:100: UserWarning: indexing with dtype torch.uint8 is now deprecated, please use a dtype torch.bool instead. (Triggered internally at  /pytorch/aten/src/ATen/native/IndexingUtils.h:25.)\n"
          ],
          "name": "stderr"
        },
        {
          "output_type": "stream",
          "text": [
            "220 Episode: Finished after 128 time steps: 10思考の平均step数 = 155.0\n",
            "221 Episode: Finished after 141 time steps: 10思考の平均step数 = 152.3\n",
            "222 Episode: Finished after 113 time steps: 10思考の平均step数 = 150.9\n",
            "223 Episode: Finished after 150 time steps: 10思考の平均step数 = 145.9\n",
            "224 Episode: Finished after 140 time steps: 10思考の平均step数 = 145.8\n",
            "225 Episode: Finished after 120 time steps: 10思考の平均step数 = 143.7\n",
            "226 Episode: Finished after 138 time steps: 10思考の平均step数 = 140.8\n",
            "227 Episode: Finished after 200 time steps: 10思考の平均step数 = 146.4\n",
            "228 Episode: Finished after 195 time steps: 10思考の平均step数 = 145.9\n",
            "229 Episode: Finished after 140 time steps: 10思考の平均step数 = 146.5\n"
          ],
          "name": "stdout"
        },
        {
          "output_type": "stream",
          "text": [
            "/usr/local/lib/python3.6/dist-packages/ipykernel_launcher.py:92: UserWarning: indexing with dtype torch.uint8 is now deprecated, please use a dtype torch.bool instead. (Triggered internally at  /pytorch/aten/src/ATen/native/IndexingUtils.h:25.)\n",
            "/usr/local/lib/python3.6/dist-packages/ipykernel_launcher.py:94: UserWarning: indexing with dtype torch.uint8 is now deprecated, please use a dtype torch.bool instead. (Triggered internally at  /pytorch/aten/src/ATen/native/IndexingUtils.h:25.)\n",
            "/usr/local/lib/python3.6/dist-packages/ipykernel_launcher.py:100: UserWarning: indexing with dtype torch.uint8 is now deprecated, please use a dtype torch.bool instead. (Triggered internally at  /pytorch/aten/src/ATen/native/IndexingUtils.h:25.)\n"
          ],
          "name": "stderr"
        },
        {
          "output_type": "stream",
          "text": [
            "230 Episode: Finished after 180 time steps: 10思考の平均step数 = 151.7\n",
            "231 Episode: Finished after 129 time steps: 10思考の平均step数 = 150.5\n",
            "232 Episode: Finished after 200 time steps: 10思考の平均step数 = 159.2\n",
            "233 Episode: Finished after 200 time steps: 10思考の平均step数 = 164.2\n",
            "234 Episode: Finished after 200 time steps: 10思考の平均step数 = 170.2\n",
            "235 Episode: Finished after 141 time steps: 10思考の平均step数 = 172.3\n",
            "236 Episode: Finished after 162 time steps: 10思考の平均step数 = 174.7\n",
            "237 Episode: Finished after 200 time steps: 10思考の平均step数 = 174.7\n",
            "238 Episode: Finished after 200 time steps: 10思考の平均step数 = 175.2\n",
            "239 Episode: Finished after 200 time steps: 10思考の平均step数 = 181.2\n"
          ],
          "name": "stdout"
        },
        {
          "output_type": "stream",
          "text": [
            "/usr/local/lib/python3.6/dist-packages/ipykernel_launcher.py:92: UserWarning: indexing with dtype torch.uint8 is now deprecated, please use a dtype torch.bool instead. (Triggered internally at  /pytorch/aten/src/ATen/native/IndexingUtils.h:25.)\n",
            "/usr/local/lib/python3.6/dist-packages/ipykernel_launcher.py:94: UserWarning: indexing with dtype torch.uint8 is now deprecated, please use a dtype torch.bool instead. (Triggered internally at  /pytorch/aten/src/ATen/native/IndexingUtils.h:25.)\n",
            "/usr/local/lib/python3.6/dist-packages/ipykernel_launcher.py:100: UserWarning: indexing with dtype torch.uint8 is now deprecated, please use a dtype torch.bool instead. (Triggered internally at  /pytorch/aten/src/ATen/native/IndexingUtils.h:25.)\n"
          ],
          "name": "stderr"
        },
        {
          "output_type": "stream",
          "text": [
            "240 Episode: Finished after 200 time steps: 10思考の平均step数 = 183.2\n",
            "241 Episode: Finished after 117 time steps: 10思考の平均step数 = 182.0\n",
            "242 Episode: Finished after 200 time steps: 10思考の平均step数 = 182.0\n",
            "243 Episode: Finished after 200 time steps: 10思考の平均step数 = 182.0\n",
            "244 Episode: Finished after 200 time steps: 10思考の平均step数 = 182.0\n",
            "245 Episode: Finished after 200 time steps: 10思考の平均step数 = 187.9\n",
            "246 Episode: Finished after 200 time steps: 10思考の平均step数 = 191.7\n",
            "247 Episode: Finished after 200 time steps: 10思考の平均step数 = 191.7\n",
            "248 Episode: Finished after 122 time steps: 10思考の平均step数 = 183.9\n",
            "249 Episode: Finished after 143 time steps: 10思考の平均step数 = 178.2\n"
          ],
          "name": "stdout"
        },
        {
          "output_type": "stream",
          "text": [
            "/usr/local/lib/python3.6/dist-packages/ipykernel_launcher.py:92: UserWarning: indexing with dtype torch.uint8 is now deprecated, please use a dtype torch.bool instead. (Triggered internally at  /pytorch/aten/src/ATen/native/IndexingUtils.h:25.)\n",
            "/usr/local/lib/python3.6/dist-packages/ipykernel_launcher.py:94: UserWarning: indexing with dtype torch.uint8 is now deprecated, please use a dtype torch.bool instead. (Triggered internally at  /pytorch/aten/src/ATen/native/IndexingUtils.h:25.)\n",
            "/usr/local/lib/python3.6/dist-packages/ipykernel_launcher.py:100: UserWarning: indexing with dtype torch.uint8 is now deprecated, please use a dtype torch.bool instead. (Triggered internally at  /pytorch/aten/src/ATen/native/IndexingUtils.h:25.)\n"
          ],
          "name": "stderr"
        },
        {
          "output_type": "stream",
          "text": [
            "250 Episode: Finished after 194 time steps: 10思考の平均step数 = 177.6\n",
            "251 Episode: Finished after 200 time steps: 10思考の平均step数 = 185.9\n",
            "252 Episode: Finished after 200 time steps: 10思考の平均step数 = 185.9\n",
            "253 Episode: Finished after 191 time steps: 10思考の平均step数 = 185.0\n",
            "254 Episode: Finished after 200 time steps: 10思考の平均step数 = 185.0\n",
            "255 Episode: Finished after 200 time steps: 10思考の平均step数 = 185.0\n",
            "256 Episode: Finished after 191 time steps: 10思考の平均step数 = 184.1\n",
            "257 Episode: Finished after 200 time steps: 10思考の平均step数 = 184.1\n",
            "258 Episode: Finished after 191 time steps: 10思考の平均step数 = 191.0\n",
            "259 Episode: Finished after 200 time steps: 10思考の平均step数 = 196.7\n"
          ],
          "name": "stdout"
        },
        {
          "output_type": "stream",
          "text": [
            "/usr/local/lib/python3.6/dist-packages/ipykernel_launcher.py:92: UserWarning: indexing with dtype torch.uint8 is now deprecated, please use a dtype torch.bool instead. (Triggered internally at  /pytorch/aten/src/ATen/native/IndexingUtils.h:25.)\n",
            "/usr/local/lib/python3.6/dist-packages/ipykernel_launcher.py:94: UserWarning: indexing with dtype torch.uint8 is now deprecated, please use a dtype torch.bool instead. (Triggered internally at  /pytorch/aten/src/ATen/native/IndexingUtils.h:25.)\n",
            "/usr/local/lib/python3.6/dist-packages/ipykernel_launcher.py:100: UserWarning: indexing with dtype torch.uint8 is now deprecated, please use a dtype torch.bool instead. (Triggered internally at  /pytorch/aten/src/ATen/native/IndexingUtils.h:25.)\n"
          ],
          "name": "stderr"
        },
        {
          "output_type": "stream",
          "text": [
            "260 Episode: Finished after 200 time steps: 10思考の平均step数 = 197.3\n",
            "261 Episode: Finished after 200 time steps: 10思考の平均step数 = 197.3\n",
            "262 Episode: Finished after 200 time steps: 10思考の平均step数 = 197.3\n",
            "263 Episode: Finished after 200 time steps: 10思考の平均step数 = 198.2\n",
            "264 Episode: Finished after 200 time steps: 10思考の平均step数 = 198.2\n",
            "265 Episode: Finished after 200 time steps: 10思考の平均step数 = 198.2\n",
            "266 Episode: Finished after 200 time steps: 10思考の平均step数 = 199.1\n",
            "267 Episode: Finished after 200 time steps: 10思考の平均step数 = 199.1\n",
            "268 Episode: Finished after 200 time steps: 10思考の平均step数 = 200.0\n",
            "10回連続成功\n",
            "269 Episode: Finished after 186 time steps: 10思考の平均step数 = 198.6\n"
          ],
          "name": "stdout"
        },
        {
          "output_type": "display_data",
          "data": {
            "text/html": [
              "<video alt=\"test\" autoplay \n",
              "                loop controls style=\"height: 400px;\">\n",
              "                <source src=\"data:video/mp4;base64,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\" type=\"video/mp4\" />\n",
              "             </video>"
            ],
            "text/plain": [
              "<IPython.core.display.HTML object>"
            ]
          },
          "metadata": {
            "tags": []
          }
        }
      ]
    },
    {
      "cell_type": "code",
      "metadata": {
        "id": "8LS_hNPzA3xC"
      },
      "source": [
        ""
      ],
      "execution_count": null,
      "outputs": []
    }
  ]
}